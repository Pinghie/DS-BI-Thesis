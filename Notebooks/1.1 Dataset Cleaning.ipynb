{
 "cells": [
  {
   "cell_type": "code",
   "execution_count": 1,
   "id": "c288a678",
   "metadata": {},
   "outputs": [
    {
     "name": "stderr",
     "output_type": "stream",
     "text": [
      "C:\\Users\\fabio\\anaconda3\\Lib\\site-packages\\pandas\\core\\arrays\\masked.py:60: UserWarning: Pandas requires version '1.3.6' or newer of 'bottleneck' (version '1.3.5' currently installed).\n",
      "  from pandas.core import (\n"
     ]
    }
   ],
   "source": [
    "import pandas as pd"
   ]
  },
  {
   "cell_type": "code",
   "execution_count": 2,
   "id": "59503c1a",
   "metadata": {},
   "outputs": [],
   "source": [
    "debates_df = pd.read_csv(\"data/condensed_dataset/debates.tsv\", sep=\",\", encoding=\"utf-8\")\n",
    "meta_df = pd.read_csv(\"data/condensed_dataset/meta.tsv\", sep=\",\", encoding=\"utf-8\") "
   ]
  },
  {
   "cell_type": "code",
   "execution_count": 15,
   "id": "948a8247",
   "metadata": {},
   "outputs": [
    {
     "name": "stdout",
     "output_type": "stream",
     "text": [
      "Centro verso centro-sinistra 4467\n",
      "Pigliatutto 24790\n",
      "- 18908\n",
      "Centro 3886\n",
      "Centro verso centro-destra 2517\n",
      "Estrema destra 290\n",
      "Centro-sinistra verso sinistra 464\n",
      "Centro-destra 33833\n",
      "Centro-sinistra 48640\n",
      "Sinistra 149\n",
      "Destra verso estrema destra 34852\n"
     ]
    }
   ],
   "source": [
    "for elem in set(meta_df[\"Party_orientation\"]):\n",
    "    print(elem, meta_df[meta_df[\"Party_orientation\"]==elem].shape[0])"
   ]
  },
  {
   "cell_type": "markdown",
   "id": "363a8763",
   "metadata": {},
   "source": [
    "Quanti e quali valori distinti per ogni attributo dei metadati?"
   ]
  },
  {
   "cell_type": "code",
   "execution_count": 4,
   "id": "a0546fd5",
   "metadata": {},
   "outputs": [
    {
     "name": "stdout",
     "output_type": "stream",
     "text": [
      "\n",
      "====== Text_ID ======\n",
      "troppi valori distinti\n",
      "\n",
      "====== ID ======\n",
      "troppi valori distinti\n",
      "\n",
      "====== Title ======\n",
      "troppi valori distinti\n",
      "\n",
      "====== Date ======\n",
      "troppi valori distinti\n",
      "\n",
      "====== Body ======\n",
      "{'Senato della Repubblica'}\n",
      "\n",
      "====== Term ======\n",
      "{'17 Legislatura', '18 Legislatura'}\n",
      "\n",
      "====== Session ======\n",
      "{'-'}\n",
      "\n",
      "====== Meeting ======\n",
      "{'-'}\n",
      "\n",
      "====== Sitting ======\n",
      "troppi valori distinti\n",
      "\n",
      "====== Agenda ======\n",
      "{'-'}\n",
      "\n",
      "====== Subcorpus ======\n",
      "{'COVID,Guerra', 'COVID', 'Reference'}\n",
      "\n",
      "====== Lang ======\n",
      "{'italiano'}\n",
      "\n",
      "====== Speaker_role ======\n",
      "{'Ospite', 'Presidente', 'Membro'}\n",
      "\n",
      "====== Speaker_MP ======\n",
      "{'notMP', 'MP'}\n",
      "\n",
      "====== Speaker_minister ======\n",
      "{'Minister', 'notMinister'}\n",
      "\n",
      "====== Speaker_party ======\n",
      "{'GAL (GS, LA-nS, MpA, NPSI, PpI)', 'M5S.2', 'NcI', '-', 'FdI', 'CAL-Pc-Idv', 'NCD', 'Art.1-MDP', 'FL (Id-PL, PLI)', 'GAL (GS, PpI, FV, M)', 'Aut (SVP, UV, PATT, UPT)-PSI-MAIE', 'PdL', 'IpF-CD', 'GAL (GS, PpI, M, Id, E-E, MPL, RI)', 'FIBP-UDC', 'AL-A (MpA)', 'AP (NCD-UDC)', 'CoR', 'PI', 'CAL-Alt-Pc-Idv', 'Aut (SVP-PATT, UV)', 'GAL', 'SCpI', 'GAL (GS, PpI, M, Id, E-E, MPL)', 'GAL (GS, LA-nS, MpA, NPSI, PpI, IdV, VGF)', 'FI-BP', 'GAL (GS, PpI, M, MBI, Id, E-E)', 'L-SP', 'IV-PSI', 'AL-A', 'GAL (GS, PpI, FV, M, MBI, Id)', 'M5S.1', 'LN-Aut', 'GAL (DI, Id, GS, M, MPL, RI, E-E)', \"L-SP-PSd'Az\", 'CRi', 'FI-PdL XVII', 'EU-MAIE-CD', 'Aut (SVP, UV, PATT, UPT) - PSI', 'Misto', 'PD'}\n",
      "\n",
      "====== Speaker_party_name ======\n",
      "{'Nuovo Centrodestra', \"Grandi Autonomie e Libertà (Grande Sud, Popolari per l'Italia, Federazione dei Verdi, Moderati)\", '-', \"Fratelli d'Italia\", \"Grandi Autonomie e Libertà (Grande Sud, Libertà e Autonomia-noi SUD, Movimento per le Autonomie, Nuovo PSI, Popolari per l'Italia)\", \"Grandi Autonomie e Libertà (Grande Sud, Popolari per l'Italia, Federazione dei Verdi, Moderati, Movimento Base Italia, Idea)\", \"Per l'Italia\", \"Grandi Autonomie e Libertà (Grande Sud, Libertà e Autonomia-noi SUD, Movimento per le Autonomie, Nuovo PSI, Popolari per l'Italia, Italia dei Valori, Vittime della Giustizia e del Fisco)\", 'Italia Viva-P.S.I.', \"Scelta Civica per l'Italia\", 'Alleanza Liberalpopolare-Autonomie (Movimento per le Autonomie)', 'Lega-Salvini Premier', \"Grandi Autonomie e Libertà (Grande Sud, Popolari per l'Italia, Moderati, Movimento Base Italia, Idea, Euro-Exit)\", \"Noi con l'Italia\", 'Europeisti-MAIE-Centro Democratico', 'Lega Nord e Autonomie', 'Federazione della Libertà (Idea-Popolo e Libertà, PLI)', 'Il Popolo della Libertà', 'Grandi Autonomie e Libertà', 'Articolo 1 - Movimento democratico e progressista', 'Insieme per il futuro - Centro Democratico', \"Grandi Autonomie e Libertà (Grande Sud, Popolari per l'Italia, Moderati, Idea, Euro-Exit, M.P.L.-Movimento politico Libertas)\", 'Forza Italia Berlusconi Presidente-UDC', \"Lega-Salvini Premier-Partito Sardo d'Azione\", 'Per le Autonomie (SVP, UV, PATT, UPT) - PSI', 'Conservatori e Riformisti', 'Forza Italia-Il Popolo della Libertà XVII Legislatura', 'Per le Autonomie (SVP-PATT, UV)', 'Grandi Autonomie e Libertà (Direzione Italia, Idea, Grande Sud, Moderati, M.P.L. - Movimento politico Libertas, Riscossa Italia, Euro-Exit)', 'Alleanza Liberalpopolare-Autonomie', 'Movimento 5 Stelle', 'MoVimento 5 Stelle', 'Per le Autonomie (SVP-UV-PATT-UPT)-PSI-MAIE', 'C.A.L. (Costituzione, Ambiente, Lavoro)-Alternativa-P.C.-I.d.V.', 'C.A.L. (Costituzione, Ambiente, Lavoro)-Pc-Idv', 'Conservatori, Riformisti italiani', 'Area Popolare (NCD-UDC)', 'Partito Democratico', \"Grandi Autonomie e Libertà (Grande Sud, Popolari per l'Italia, Moderati, Idea, Euro-Exit, M.P.L. - Movimento politico Libertas, Riscossa Italia)\", 'Misto', 'Forza Italia-Berlusconi Presidente'}\n",
      "\n",
      "====== Party_status ======\n",
      "{'Opposition', 'Coalition', '-'}\n",
      "\n",
      "====== Party_orientation ======\n",
      "{'Centro', 'Centro verso centro-sinistra', 'Centro verso centro-destra', '-', 'Centro-destra', 'Sinistra', 'Pigliatutto', 'Destra verso estrema destra', 'Estrema destra', 'Centro-sinistra', 'Centro-sinistra verso sinistra'}\n",
      "\n",
      "====== Speaker_ID ======\n",
      "troppi valori distinti\n",
      "\n",
      "====== Speaker_name ======\n",
      "troppi valori distinti\n",
      "\n",
      "====== Speaker_gender ======\n",
      "{'F', 'M'}\n",
      "\n",
      "====== Speaker_birth ======\n",
      "{1920, 1923, 1925, 1930, 1931, 1932, 1935, 1936, 1937, 1939, 1940, 1941, 1942, 1943, 1944, 1945, 1946, 1947, 1948, 1949, 1950, 1951, 1952, 1953, 1954, 1955, 1956, 1957, 1958, 1959, 1960, 1961, 1962, 1963, 1964, 1965, 1966, 1967, 1968, 1969, 1970, 1971, 1972, 1973, 1974, 1975, 1976, 1977, 1978, 1979, 1980, 1981, 1982, 1983, 1984, 1985, 1986, 1987}\n"
     ]
    }
   ],
   "source": [
    "for att in list(meta_df):\n",
    "    print(\"\\n======\", att, \"======\")\n",
    "    dist_values = set(meta_df[att])\n",
    "    if len(dist_values) < 150:\n",
    "        print(dist_values)\n",
    "    else:\n",
    "        print(\"troppi valori distinti\")\n",
    "        "
   ]
  },
  {
   "cell_type": "markdown",
   "id": "b74e0942",
   "metadata": {},
   "source": [
    "Elimino le colonne del dataset meta che non sono utili al nostro studio:\n",
    " - Text_ID: si può ricavare da ID\n",
    " - Title: non utile\n",
    " - Body: ha un solo valore distinto\n",
    " - Session: ha un solo valore distinto\n",
    " - Meeting: ha un solo valore distinto\n",
    " - Sitting: non utile\n",
    " - Agenda: ha un solo valore distinto\n",
    " - Lang: ha un solo valore distinto\n",
    " - Speaker_name: sovrapponibile a Speaker_ID"
   ]
  },
  {
   "cell_type": "code",
   "execution_count": 5,
   "id": "c54c48f1",
   "metadata": {},
   "outputs": [],
   "source": [
    "columns_to_delete = [\"Text_ID\", \"Title\", \"Body\", \"Session\", \"Meeting\", \"Sitting\", \"Agenda\", \"Lang\", \"Speaker_name\"]\n",
    "selected_meta_df = meta_df.drop(columns=columns_to_delete)"
   ]
  },
  {
   "cell_type": "code",
   "execution_count": 6,
   "id": "b5b0abb0",
   "metadata": {
    "scrolled": true
   },
   "outputs": [
    {
     "data": {
      "text/html": [
       "<div>\n",
       "<style scoped>\n",
       "    .dataframe tbody tr th:only-of-type {\n",
       "        vertical-align: middle;\n",
       "    }\n",
       "\n",
       "    .dataframe tbody tr th {\n",
       "        vertical-align: top;\n",
       "    }\n",
       "\n",
       "    .dataframe thead th {\n",
       "        text-align: right;\n",
       "    }\n",
       "</style>\n",
       "<table border=\"1\" class=\"dataframe\">\n",
       "  <thead>\n",
       "    <tr style=\"text-align: right;\">\n",
       "      <th></th>\n",
       "      <th>ID</th>\n",
       "      <th>Date</th>\n",
       "      <th>Term</th>\n",
       "      <th>Subcorpus</th>\n",
       "      <th>Speaker_role</th>\n",
       "      <th>Speaker_MP</th>\n",
       "      <th>Speaker_minister</th>\n",
       "      <th>Speaker_party</th>\n",
       "      <th>Speaker_party_name</th>\n",
       "      <th>Party_status</th>\n",
       "      <th>Party_orientation</th>\n",
       "      <th>Speaker_ID</th>\n",
       "      <th>Speaker_gender</th>\n",
       "      <th>Speaker_birth</th>\n",
       "    </tr>\n",
       "  </thead>\n",
       "  <tbody>\n",
       "    <tr>\n",
       "      <th>0</th>\n",
       "      <td>ParlaMint-IT_2013-03-15-LEG17-Senato-sed-1.u1</td>\n",
       "      <td>2013-03-15</td>\n",
       "      <td>17 Legislatura</td>\n",
       "      <td>Reference</td>\n",
       "      <td>Presidente</td>\n",
       "      <td>MP</td>\n",
       "      <td>notMinister</td>\n",
       "      <td>-</td>\n",
       "      <td>-</td>\n",
       "      <td>-</td>\n",
       "      <td>-</td>\n",
       "      <td>ColomboEmilio</td>\n",
       "      <td>M</td>\n",
       "      <td>1920</td>\n",
       "    </tr>\n",
       "    <tr>\n",
       "      <th>1</th>\n",
       "      <td>ParlaMint-IT_2013-03-15-LEG17-Senato-sed-1.u2</td>\n",
       "      <td>2013-03-15</td>\n",
       "      <td>17 Legislatura</td>\n",
       "      <td>Reference</td>\n",
       "      <td>Presidente</td>\n",
       "      <td>MP</td>\n",
       "      <td>notMinister</td>\n",
       "      <td>-</td>\n",
       "      <td>-</td>\n",
       "      <td>-</td>\n",
       "      <td>-</td>\n",
       "      <td>ColomboEmilio</td>\n",
       "      <td>M</td>\n",
       "      <td>1920</td>\n",
       "    </tr>\n",
       "    <tr>\n",
       "      <th>2</th>\n",
       "      <td>ParlaMint-IT_2013-03-15-LEG17-Senato-sed-1.u3</td>\n",
       "      <td>2013-03-15</td>\n",
       "      <td>17 Legislatura</td>\n",
       "      <td>Reference</td>\n",
       "      <td>Presidente</td>\n",
       "      <td>MP</td>\n",
       "      <td>notMinister</td>\n",
       "      <td>-</td>\n",
       "      <td>-</td>\n",
       "      <td>-</td>\n",
       "      <td>-</td>\n",
       "      <td>ColomboEmilio</td>\n",
       "      <td>M</td>\n",
       "      <td>1920</td>\n",
       "    </tr>\n",
       "    <tr>\n",
       "      <th>3</th>\n",
       "      <td>ParlaMint-IT_2013-03-15-LEG17-Senato-sed-1.u4</td>\n",
       "      <td>2013-03-15</td>\n",
       "      <td>17 Legislatura</td>\n",
       "      <td>Reference</td>\n",
       "      <td>Presidente</td>\n",
       "      <td>MP</td>\n",
       "      <td>notMinister</td>\n",
       "      <td>-</td>\n",
       "      <td>-</td>\n",
       "      <td>-</td>\n",
       "      <td>-</td>\n",
       "      <td>ColomboEmilio</td>\n",
       "      <td>M</td>\n",
       "      <td>1920</td>\n",
       "    </tr>\n",
       "    <tr>\n",
       "      <th>4</th>\n",
       "      <td>ParlaMint-IT_2013-03-15-LEG17-Senato-sed-1.u5</td>\n",
       "      <td>2013-03-15</td>\n",
       "      <td>17 Legislatura</td>\n",
       "      <td>Reference</td>\n",
       "      <td>Presidente</td>\n",
       "      <td>MP</td>\n",
       "      <td>notMinister</td>\n",
       "      <td>-</td>\n",
       "      <td>-</td>\n",
       "      <td>-</td>\n",
       "      <td>-</td>\n",
       "      <td>ColomboEmilio</td>\n",
       "      <td>M</td>\n",
       "      <td>1920</td>\n",
       "    </tr>\n",
       "  </tbody>\n",
       "</table>\n",
       "</div>"
      ],
      "text/plain": [
       "                                              ID        Date            Term  \\\n",
       "0  ParlaMint-IT_2013-03-15-LEG17-Senato-sed-1.u1  2013-03-15  17 Legislatura   \n",
       "1  ParlaMint-IT_2013-03-15-LEG17-Senato-sed-1.u2  2013-03-15  17 Legislatura   \n",
       "2  ParlaMint-IT_2013-03-15-LEG17-Senato-sed-1.u3  2013-03-15  17 Legislatura   \n",
       "3  ParlaMint-IT_2013-03-15-LEG17-Senato-sed-1.u4  2013-03-15  17 Legislatura   \n",
       "4  ParlaMint-IT_2013-03-15-LEG17-Senato-sed-1.u5  2013-03-15  17 Legislatura   \n",
       "\n",
       "   Subcorpus Speaker_role Speaker_MP Speaker_minister Speaker_party  \\\n",
       "0  Reference   Presidente         MP      notMinister             -   \n",
       "1  Reference   Presidente         MP      notMinister             -   \n",
       "2  Reference   Presidente         MP      notMinister             -   \n",
       "3  Reference   Presidente         MP      notMinister             -   \n",
       "4  Reference   Presidente         MP      notMinister             -   \n",
       "\n",
       "  Speaker_party_name Party_status Party_orientation     Speaker_ID  \\\n",
       "0                  -            -                 -  ColomboEmilio   \n",
       "1                  -            -                 -  ColomboEmilio   \n",
       "2                  -            -                 -  ColomboEmilio   \n",
       "3                  -            -                 -  ColomboEmilio   \n",
       "4                  -            -                 -  ColomboEmilio   \n",
       "\n",
       "  Speaker_gender  Speaker_birth  \n",
       "0              M           1920  \n",
       "1              M           1920  \n",
       "2              M           1920  \n",
       "3              M           1920  \n",
       "4              M           1920  "
      ]
     },
     "execution_count": 6,
     "metadata": {},
     "output_type": "execute_result"
    }
   ],
   "source": [
    "selected_meta_df.head()"
   ]
  },
  {
   "cell_type": "markdown",
   "id": "fc64202c",
   "metadata": {},
   "source": [
    "### Rimuovo i gruppi con meno di 2000 interventi"
   ]
  },
  {
   "cell_type": "code",
   "execution_count": 7,
   "id": "481469fa",
   "metadata": {},
   "outputs": [],
   "source": [
    "distinct_couples = set([tuple(x) for x in selected_meta_df[[\"Speaker_party\", \"Speaker_party_name\"]].values])"
   ]
  },
  {
   "cell_type": "code",
   "execution_count": 8,
   "id": "f1a4ee9f",
   "metadata": {},
   "outputs": [
    {
     "data": {
      "text/plain": [
       "{('-', '-'),\n",
       " ('AL-A', 'Alleanza Liberalpopolare-Autonomie'),\n",
       " ('AL-A (MpA)',\n",
       "  'Alleanza Liberalpopolare-Autonomie (Movimento per le Autonomie)'),\n",
       " ('AP (NCD-UDC)', 'Area Popolare (NCD-UDC)'),\n",
       " ('Art.1-MDP', 'Articolo 1 - Movimento democratico e progressista'),\n",
       " ('Aut (SVP, UV, PATT, UPT) - PSI',\n",
       "  'Per le Autonomie (SVP, UV, PATT, UPT) - PSI'),\n",
       " ('Aut (SVP, UV, PATT, UPT)-PSI-MAIE',\n",
       "  'Per le Autonomie (SVP-UV-PATT-UPT)-PSI-MAIE'),\n",
       " ('Aut (SVP-PATT, UV)', 'Per le Autonomie (SVP-PATT, UV)'),\n",
       " ('CAL-Alt-Pc-Idv',\n",
       "  'C.A.L. (Costituzione, Ambiente, Lavoro)-Alternativa-P.C.-I.d.V.'),\n",
       " ('CAL-Pc-Idv', 'C.A.L. (Costituzione, Ambiente, Lavoro)-Pc-Idv'),\n",
       " ('CRi', 'Conservatori, Riformisti italiani'),\n",
       " ('CoR', 'Conservatori e Riformisti'),\n",
       " ('EU-MAIE-CD', 'Europeisti-MAIE-Centro Democratico'),\n",
       " ('FI-BP', 'Forza Italia-Berlusconi Presidente'),\n",
       " ('FI-PdL XVII', 'Forza Italia-Il Popolo della Libertà XVII Legislatura'),\n",
       " ('FIBP-UDC', 'Forza Italia Berlusconi Presidente-UDC'),\n",
       " ('FL (Id-PL, PLI)', 'Federazione della Libertà (Idea-Popolo e Libertà, PLI)'),\n",
       " ('FdI', \"Fratelli d'Italia\"),\n",
       " ('GAL', 'Grandi Autonomie e Libertà'),\n",
       " ('GAL (DI, Id, GS, M, MPL, RI, E-E)',\n",
       "  'Grandi Autonomie e Libertà (Direzione Italia, Idea, Grande Sud, Moderati, M.P.L. - Movimento politico Libertas, Riscossa Italia, Euro-Exit)'),\n",
       " ('GAL (GS, LA-nS, MpA, NPSI, PpI)',\n",
       "  \"Grandi Autonomie e Libertà (Grande Sud, Libertà e Autonomia-noi SUD, Movimento per le Autonomie, Nuovo PSI, Popolari per l'Italia)\"),\n",
       " ('GAL (GS, LA-nS, MpA, NPSI, PpI, IdV, VGF)',\n",
       "  \"Grandi Autonomie e Libertà (Grande Sud, Libertà e Autonomia-noi SUD, Movimento per le Autonomie, Nuovo PSI, Popolari per l'Italia, Italia dei Valori, Vittime della Giustizia e del Fisco)\"),\n",
       " ('GAL (GS, PpI, FV, M)',\n",
       "  \"Grandi Autonomie e Libertà (Grande Sud, Popolari per l'Italia, Federazione dei Verdi, Moderati)\"),\n",
       " ('GAL (GS, PpI, FV, M, MBI, Id)',\n",
       "  \"Grandi Autonomie e Libertà (Grande Sud, Popolari per l'Italia, Federazione dei Verdi, Moderati, Movimento Base Italia, Idea)\"),\n",
       " ('GAL (GS, PpI, M, Id, E-E, MPL)',\n",
       "  \"Grandi Autonomie e Libertà (Grande Sud, Popolari per l'Italia, Moderati, Idea, Euro-Exit, M.P.L.-Movimento politico Libertas)\"),\n",
       " ('GAL (GS, PpI, M, Id, E-E, MPL, RI)',\n",
       "  \"Grandi Autonomie e Libertà (Grande Sud, Popolari per l'Italia, Moderati, Idea, Euro-Exit, M.P.L. - Movimento politico Libertas, Riscossa Italia)\"),\n",
       " ('GAL (GS, PpI, M, MBI, Id, E-E)',\n",
       "  \"Grandi Autonomie e Libertà (Grande Sud, Popolari per l'Italia, Moderati, Movimento Base Italia, Idea, Euro-Exit)\"),\n",
       " ('IV-PSI', 'Italia Viva-P.S.I.'),\n",
       " ('IpF-CD', 'Insieme per il futuro - Centro Democratico'),\n",
       " ('L-SP', 'Lega-Salvini Premier'),\n",
       " (\"L-SP-PSd'Az\", \"Lega-Salvini Premier-Partito Sardo d'Azione\"),\n",
       " ('LN-Aut', 'Lega Nord e Autonomie'),\n",
       " ('M5S.1', 'Movimento 5 Stelle'),\n",
       " ('M5S.2', 'MoVimento 5 Stelle'),\n",
       " ('Misto', 'Misto'),\n",
       " ('NCD', 'Nuovo Centrodestra'),\n",
       " ('NcI', \"Noi con l'Italia\"),\n",
       " ('PD', 'Partito Democratico'),\n",
       " ('PI', \"Per l'Italia\"),\n",
       " ('PdL', 'Il Popolo della Libertà'),\n",
       " ('SCpI', \"Scelta Civica per l'Italia\")}"
      ]
     },
     "execution_count": 8,
     "metadata": {},
     "output_type": "execute_result"
    }
   ],
   "source": [
    "distinct_couples"
   ]
  },
  {
   "cell_type": "code",
   "execution_count": 9,
   "id": "d6399fe7",
   "metadata": {
    "scrolled": true
   },
   "outputs": [
    {
     "name": "stdout",
     "output_type": "stream",
     "text": [
      "\n",
      "===== Art.1-MDP ======\n",
      "troppi pochi interventi\n",
      "\n",
      "===== L-SP ======\n",
      "9674\n",
      "\n",
      "===== PdL ======\n",
      "16343\n",
      "\n",
      "===== GAL (GS, PpI, FV, M) ======\n",
      "troppi pochi interventi\n",
      "\n",
      "===== CAL-Alt-Pc-Idv ======\n",
      "troppi pochi interventi\n",
      "\n",
      "===== Misto ======\n",
      "10332\n",
      "\n",
      "===== L-SP-PSd'Az ======\n",
      "troppi pochi interventi\n",
      "\n",
      "===== AL-A (MpA) ======\n",
      "troppi pochi interventi\n",
      "\n",
      "===== Aut (SVP, UV, PATT, UPT) - PSI ======\n",
      "troppi pochi interventi\n",
      "\n",
      "===== CRi ======\n",
      "troppi pochi interventi\n",
      "\n",
      "===== M5S.2 ======\n",
      "9252\n",
      "\n",
      "===== FL (Id-PL, PLI) ======\n",
      "troppi pochi interventi\n",
      "\n",
      "===== GAL (DI, Id, GS, M, MPL, RI, E-E) ======\n",
      "troppi pochi interventi\n",
      "\n",
      "===== CAL-Pc-Idv ======\n",
      "troppi pochi interventi\n",
      "\n",
      "===== GAL (GS, LA-nS, MpA, NPSI, PpI, IdV, VGF) ======\n",
      "troppi pochi interventi\n",
      "\n",
      "===== FI-PdL XVII ======\n",
      "troppi pochi interventi\n",
      "\n",
      "===== SCpI ======\n",
      "2409\n",
      "\n",
      "===== M5S.1 ======\n",
      "15538\n",
      "\n",
      "===== GAL ======\n",
      "troppi pochi interventi\n",
      "\n",
      "===== Aut (SVP, UV, PATT, UPT)-PSI-MAIE ======\n",
      "troppi pochi interventi\n",
      "\n",
      "===== GAL (GS, PpI, M, Id, E-E, MPL, RI) ======\n",
      "troppi pochi interventi\n",
      "\n",
      "===== IV-PSI ======\n",
      "troppi pochi interventi\n",
      "\n",
      "===== - ======\n",
      "7442\n",
      "\n",
      "===== Aut (SVP-PATT, UV) ======\n",
      "troppi pochi interventi\n",
      "\n",
      "===== FI-BP ======\n",
      "11750\n",
      "\n",
      "===== FIBP-UDC ======\n",
      "troppi pochi interventi\n",
      "\n",
      "===== GAL (GS, PpI, M, Id, E-E, MPL) ======\n",
      "troppi pochi interventi\n",
      "\n",
      "===== PD ======\n",
      "48640\n",
      "\n",
      "===== FdI ======\n",
      "6511\n",
      "\n",
      "===== NcI ======\n",
      "troppi pochi interventi\n",
      "\n",
      "===== PI ======\n",
      "troppi pochi interventi\n",
      "\n",
      "===== AL-A ======\n",
      "troppi pochi interventi\n",
      "\n",
      "===== IpF-CD ======\n",
      "troppi pochi interventi\n",
      "\n",
      "===== LN-Aut ======\n",
      "17954\n",
      "\n",
      "===== GAL (GS, PpI, FV, M, MBI, Id) ======\n",
      "troppi pochi interventi\n",
      "\n",
      "===== GAL (GS, LA-nS, MpA, NPSI, PpI) ======\n",
      "troppi pochi interventi\n",
      "\n",
      "===== NCD ======\n",
      "2517\n",
      "\n",
      "===== CoR ======\n",
      "troppi pochi interventi\n",
      "\n",
      "===== GAL (GS, PpI, M, MBI, Id, E-E) ======\n",
      "troppi pochi interventi\n",
      "\n",
      "===== AP (NCD-UDC) ======\n",
      "troppi pochi interventi\n",
      "\n",
      "===== EU-MAIE-CD ======\n",
      "troppi pochi interventi\n"
     ]
    }
   ],
   "source": [
    "parties_to_drop = []\n",
    "for party in distinct_couples:\n",
    "    print(\"\\n=====\", party[0], \"======\")\n",
    "    cnt = (selected_meta_df['Speaker_party'] == party[0]).sum()\n",
    "    if cnt > 2000:\n",
    "        print(cnt)\n",
    "    else:\n",
    "        print(\"troppi pochi interventi\")\n",
    "        parties_to_drop.append(party[0])\n",
    "        \n",
    "parties_to_drop.append(\"Misto\")\n",
    "parties_to_drop.append(\"-\") #rimuovo anche i record non associati a un partito o al misto"
   ]
  },
  {
   "cell_type": "code",
   "execution_count": 10,
   "id": "eecd0ee7",
   "metadata": {
    "scrolled": true
   },
   "outputs": [
    {
     "data": {
      "text/plain": [
       "['Art.1-MDP',\n",
       " 'GAL (GS, PpI, FV, M)',\n",
       " 'CAL-Alt-Pc-Idv',\n",
       " \"L-SP-PSd'Az\",\n",
       " 'AL-A (MpA)',\n",
       " 'Aut (SVP, UV, PATT, UPT) - PSI',\n",
       " 'CRi',\n",
       " 'FL (Id-PL, PLI)',\n",
       " 'GAL (DI, Id, GS, M, MPL, RI, E-E)',\n",
       " 'CAL-Pc-Idv',\n",
       " 'GAL (GS, LA-nS, MpA, NPSI, PpI, IdV, VGF)',\n",
       " 'FI-PdL XVII',\n",
       " 'GAL',\n",
       " 'Aut (SVP, UV, PATT, UPT)-PSI-MAIE',\n",
       " 'GAL (GS, PpI, M, Id, E-E, MPL, RI)',\n",
       " 'IV-PSI',\n",
       " 'Aut (SVP-PATT, UV)',\n",
       " 'FIBP-UDC',\n",
       " 'GAL (GS, PpI, M, Id, E-E, MPL)',\n",
       " 'NcI',\n",
       " 'PI',\n",
       " 'AL-A',\n",
       " 'IpF-CD',\n",
       " 'GAL (GS, PpI, FV, M, MBI, Id)',\n",
       " 'GAL (GS, LA-nS, MpA, NPSI, PpI)',\n",
       " 'CoR',\n",
       " 'GAL (GS, PpI, M, MBI, Id, E-E)',\n",
       " 'AP (NCD-UDC)',\n",
       " 'EU-MAIE-CD',\n",
       " 'Misto',\n",
       " '-']"
      ]
     },
     "execution_count": 10,
     "metadata": {},
     "output_type": "execute_result"
    }
   ],
   "source": [
    "parties_to_drop"
   ]
  },
  {
   "cell_type": "code",
   "execution_count": 11,
   "id": "3203074a",
   "metadata": {},
   "outputs": [],
   "source": [
    "final_meta_df = selected_meta_df.drop(selected_meta_df[selected_meta_df.Speaker_party.isin(parties_to_drop)].index)"
   ]
  },
  {
   "cell_type": "code",
   "execution_count": 12,
   "id": "9e7606e8",
   "metadata": {},
   "outputs": [
    {
     "data": {
      "text/plain": [
       "(172796, 14)"
      ]
     },
     "execution_count": 12,
     "metadata": {},
     "output_type": "execute_result"
    }
   ],
   "source": [
    "selected_meta_df.shape"
   ]
  },
  {
   "cell_type": "code",
   "execution_count": 13,
   "id": "e943b7eb",
   "metadata": {},
   "outputs": [
    {
     "data": {
      "text/plain": [
       "(140588, 14)"
      ]
     },
     "execution_count": 13,
     "metadata": {},
     "output_type": "execute_result"
    }
   ],
   "source": [
    "final_meta_df.shape"
   ]
  },
  {
   "cell_type": "code",
   "execution_count": 14,
   "id": "c318af19",
   "metadata": {},
   "outputs": [
    {
     "name": "stdout",
     "output_type": "stream",
     "text": [
      "\n",
      "====== ID ======\n",
      "troppi valori distinti\n",
      "\n",
      "====== Date ======\n",
      "troppi valori distinti\n",
      "\n",
      "====== Term ======\n",
      "{'17 Legislatura', '18 Legislatura'}\n",
      "\n",
      "====== Subcorpus ======\n",
      "{'COVID,Guerra', 'COVID', 'Reference'}\n",
      "\n",
      "====== Speaker_role ======\n",
      "{'Presidente', 'Membro'}\n",
      "\n",
      "====== Speaker_MP ======\n",
      "{'MP'}\n",
      "\n",
      "====== Speaker_minister ======\n",
      "{'Minister', 'notMinister'}\n",
      "\n",
      "====== Speaker_party ======\n",
      "{'M5S.2', 'SCpI', 'PdL', 'FI-BP', 'LN-Aut', 'L-SP', 'FdI', 'M5S.1', 'NCD', 'PD'}\n",
      "\n",
      "====== Speaker_party_name ======\n",
      "{'Nuovo Centrodestra', 'MoVimento 5 Stelle', \"Scelta Civica per l'Italia\", 'Lega-Salvini Premier', \"Fratelli d'Italia\", 'Lega Nord e Autonomie', 'Partito Democratico', 'Movimento 5 Stelle', 'Il Popolo della Libertà', 'Forza Italia-Berlusconi Presidente'}\n",
      "\n",
      "====== Party_status ======\n",
      "{'Opposition', 'Coalition', '-'}\n",
      "\n",
      "====== Party_orientation ======\n",
      "{'Centro', 'Centro verso centro-destra', 'Centro-destra', 'Pigliatutto', 'Destra verso estrema destra', 'Centro-sinistra'}\n",
      "\n",
      "====== Speaker_ID ======\n",
      "troppi valori distinti\n",
      "\n",
      "====== Speaker_gender ======\n",
      "{'F', 'M'}\n",
      "\n",
      "====== Speaker_birth ======\n",
      "{1923, 1931, 1932, 1935, 1936, 1939, 1940, 1941, 1942, 1943, 1944, 1945, 1946, 1947, 1948, 1949, 1950, 1951, 1952, 1953, 1954, 1955, 1956, 1957, 1958, 1959, 1960, 1961, 1962, 1963, 1964, 1965, 1966, 1967, 1968, 1969, 1970, 1971, 1972, 1973, 1974, 1975, 1976, 1977}\n"
     ]
    }
   ],
   "source": [
    "for att in list(final_meta_df):\n",
    "    print(\"\\n======\", att, \"======\")\n",
    "    dist_values = set(final_meta_df[att])\n",
    "    if len(dist_values) < 150:\n",
    "        print(dist_values)\n",
    "    else:\n",
    "        print(\"troppi valori distinti\")"
   ]
  },
  {
   "cell_type": "markdown",
   "id": "840bda86",
   "metadata": {},
   "source": [
    "### Ultime rifiniture:\n",
    "- elimino la colonna Speaker_MP perché adesso ha un solo valore unico\n",
    "- elimino la tutte le righe dove Speaker_role = Presidente perché si tratta perlopiù di comunicazioni ufficiali. Elimino poi la colonna Speaker_role perché a quel punto avrà un solo valore unico"
   ]
  },
  {
   "cell_type": "code",
   "execution_count": 15,
   "id": "d1ca1f92",
   "metadata": {},
   "outputs": [],
   "source": [
    "real_final_meta_df = final_meta_df.drop(final_meta_df[final_meta_df.Speaker_role == \"Presidente\"].index)\n",
    "real_final_meta_df = real_final_meta_df.drop(columns=[\"Speaker_role\", \"Speaker_MP\"])"
   ]
  },
  {
   "cell_type": "code",
   "execution_count": 16,
   "id": "fef5a1a5",
   "metadata": {},
   "outputs": [
    {
     "data": {
      "text/plain": [
       "(64387, 12)"
      ]
     },
     "execution_count": 16,
     "metadata": {},
     "output_type": "execute_result"
    }
   ],
   "source": [
    "real_final_meta_df.shape"
   ]
  },
  {
   "cell_type": "markdown",
   "id": "43962969",
   "metadata": {},
   "source": [
    "### Adesso si fa il merge con debates_df, per proseguire la fase di cleaning. \n",
    "Si vorranno eliminare gli interventi troppo corti"
   ]
  },
  {
   "cell_type": "code",
   "execution_count": 17,
   "id": "2609b130",
   "metadata": {},
   "outputs": [],
   "source": [
    "merged_df = real_final_meta_df.merge(debates_df, how='left', left_on='ID', right_on=\"id\")"
   ]
  },
  {
   "cell_type": "code",
   "execution_count": 18,
   "id": "b4e45cd7",
   "metadata": {},
   "outputs": [],
   "source": [
    "merged_df = merged_df.drop(columns=[\"id\"])"
   ]
  },
  {
   "cell_type": "code",
   "execution_count": 19,
   "id": "761a47d5",
   "metadata": {},
   "outputs": [],
   "source": [
    "merged_df['text_length'] = merged_df['text'].str.len() #aggiungo una colonna con la lunghezza del testo"
   ]
  },
  {
   "cell_type": "code",
   "execution_count": 20,
   "id": "739e8016",
   "metadata": {},
   "outputs": [
    {
     "data": {
      "text/plain": [
       "count    64387.000000\n",
       "mean      1929.583534\n",
       "std       2930.498711\n",
       "min          4.000000\n",
       "25%         45.000000\n",
       "50%        408.000000\n",
       "75%       2759.000000\n",
       "max      42262.000000\n",
       "Name: text_length, dtype: float64"
      ]
     },
     "execution_count": 20,
     "metadata": {},
     "output_type": "execute_result"
    }
   ],
   "source": [
    "merged_df.text_length.describe()"
   ]
  },
  {
   "cell_type": "code",
   "execution_count": 21,
   "id": "4e3427ef",
   "metadata": {},
   "outputs": [
    {
     "data": {
      "text/html": [
       "<div>\n",
       "<style scoped>\n",
       "    .dataframe tbody tr th:only-of-type {\n",
       "        vertical-align: middle;\n",
       "    }\n",
       "\n",
       "    .dataframe tbody tr th {\n",
       "        vertical-align: top;\n",
       "    }\n",
       "\n",
       "    .dataframe thead th {\n",
       "        text-align: right;\n",
       "    }\n",
       "</style>\n",
       "<table border=\"1\" class=\"dataframe\">\n",
       "  <thead>\n",
       "    <tr style=\"text-align: right;\">\n",
       "      <th></th>\n",
       "      <th>text_length</th>\n",
       "    </tr>\n",
       "    <tr>\n",
       "      <th>Speaker_party</th>\n",
       "      <th></th>\n",
       "    </tr>\n",
       "  </thead>\n",
       "  <tbody>\n",
       "    <tr>\n",
       "      <th>FI-BP</th>\n",
       "      <td>2704.604918</td>\n",
       "    </tr>\n",
       "    <tr>\n",
       "      <th>FdI</th>\n",
       "      <td>2655.845803</td>\n",
       "    </tr>\n",
       "    <tr>\n",
       "      <th>L-SP</th>\n",
       "      <td>2436.678661</td>\n",
       "    </tr>\n",
       "    <tr>\n",
       "      <th>LN-Aut</th>\n",
       "      <td>1640.401551</td>\n",
       "    </tr>\n",
       "    <tr>\n",
       "      <th>M5S.1</th>\n",
       "      <td>1246.824559</td>\n",
       "    </tr>\n",
       "    <tr>\n",
       "      <th>M5S.2</th>\n",
       "      <td>2220.425089</td>\n",
       "    </tr>\n",
       "    <tr>\n",
       "      <th>NCD</th>\n",
       "      <td>2049.372666</td>\n",
       "    </tr>\n",
       "    <tr>\n",
       "      <th>PD</th>\n",
       "      <td>2199.888025</td>\n",
       "    </tr>\n",
       "    <tr>\n",
       "      <th>PdL</th>\n",
       "      <td>1879.642190</td>\n",
       "    </tr>\n",
       "    <tr>\n",
       "      <th>SCpI</th>\n",
       "      <td>1780.739456</td>\n",
       "    </tr>\n",
       "  </tbody>\n",
       "</table>\n",
       "</div>"
      ],
      "text/plain": [
       "               text_length\n",
       "Speaker_party             \n",
       "FI-BP          2704.604918\n",
       "FdI            2655.845803\n",
       "L-SP           2436.678661\n",
       "LN-Aut         1640.401551\n",
       "M5S.1          1246.824559\n",
       "M5S.2          2220.425089\n",
       "NCD            2049.372666\n",
       "PD             2199.888025\n",
       "PdL            1879.642190\n",
       "SCpI           1780.739456"
      ]
     },
     "execution_count": 21,
     "metadata": {},
     "output_type": "execute_result"
    }
   ],
   "source": [
    "merged_df[['text_length', \"Speaker_party\"]].groupby(\"Speaker_party\").mean()"
   ]
  },
  {
   "cell_type": "markdown",
   "id": "d32892d2",
   "metadata": {},
   "source": [
    "Elimino i testi meno lunghi di 4500 caratteri"
   ]
  },
  {
   "cell_type": "code",
   "execution_count": 32,
   "id": "107b12fe",
   "metadata": {},
   "outputs": [
    {
     "data": {
      "text/plain": [
       "53547"
      ]
     },
     "execution_count": 32,
     "metadata": {},
     "output_type": "execute_result"
    }
   ],
   "source": [
    "merged_df[merged_df[\"text_length\"]<4500][\"ID\"].count()"
   ]
  },
  {
   "cell_type": "code",
   "execution_count": 33,
   "id": "c331b0f6",
   "metadata": {},
   "outputs": [],
   "source": [
    "final_merged_df = merged_df.drop(merged_df[merged_df[\"text_length\"]<4500].index)"
   ]
  },
  {
   "cell_type": "code",
   "execution_count": 34,
   "id": "29513040",
   "metadata": {},
   "outputs": [
    {
     "data": {
      "text/plain": [
       "(10840, 14)"
      ]
     },
     "execution_count": 34,
     "metadata": {},
     "output_type": "execute_result"
    }
   ],
   "source": [
    "final_merged_df.shape"
   ]
  },
  {
   "cell_type": "code",
   "execution_count": 40,
   "id": "e6601378",
   "metadata": {},
   "outputs": [
    {
     "data": {
      "text/html": [
       "<div>\n",
       "<style scoped>\n",
       "    .dataframe tbody tr th:only-of-type {\n",
       "        vertical-align: middle;\n",
       "    }\n",
       "\n",
       "    .dataframe tbody tr th {\n",
       "        vertical-align: top;\n",
       "    }\n",
       "\n",
       "    .dataframe thead th {\n",
       "        text-align: right;\n",
       "    }\n",
       "</style>\n",
       "<table border=\"1\" class=\"dataframe\">\n",
       "  <thead>\n",
       "    <tr style=\"text-align: right;\">\n",
       "      <th></th>\n",
       "      <th>text_length</th>\n",
       "    </tr>\n",
       "    <tr>\n",
       "      <th>Speaker_party</th>\n",
       "      <th></th>\n",
       "    </tr>\n",
       "  </thead>\n",
       "  <tbody>\n",
       "    <tr>\n",
       "      <th>FI-BP</th>\n",
       "      <td>1191</td>\n",
       "    </tr>\n",
       "    <tr>\n",
       "      <th>FdI</th>\n",
       "      <td>697</td>\n",
       "    </tr>\n",
       "    <tr>\n",
       "      <th>L-SP</th>\n",
       "      <td>836</td>\n",
       "    </tr>\n",
       "    <tr>\n",
       "      <th>LN-Aut</th>\n",
       "      <td>950</td>\n",
       "    </tr>\n",
       "    <tr>\n",
       "      <th>M5S.1</th>\n",
       "      <td>1291</td>\n",
       "    </tr>\n",
       "    <tr>\n",
       "      <th>M5S.2</th>\n",
       "      <td>1079</td>\n",
       "    </tr>\n",
       "    <tr>\n",
       "      <th>NCD</th>\n",
       "      <td>459</td>\n",
       "    </tr>\n",
       "    <tr>\n",
       "      <th>PD</th>\n",
       "      <td>3067</td>\n",
       "    </tr>\n",
       "    <tr>\n",
       "      <th>PdL</th>\n",
       "      <td>1111</td>\n",
       "    </tr>\n",
       "    <tr>\n",
       "      <th>SCpI</th>\n",
       "      <td>159</td>\n",
       "    </tr>\n",
       "  </tbody>\n",
       "</table>\n",
       "</div>"
      ],
      "text/plain": [
       "               text_length\n",
       "Speaker_party             \n",
       "FI-BP                 1191\n",
       "FdI                    697\n",
       "L-SP                   836\n",
       "LN-Aut                 950\n",
       "M5S.1                 1291\n",
       "M5S.2                 1079\n",
       "NCD                    459\n",
       "PD                    3067\n",
       "PdL                   1111\n",
       "SCpI                   159"
      ]
     },
     "execution_count": 40,
     "metadata": {},
     "output_type": "execute_result"
    }
   ],
   "source": [
    "final_merged_df[['text_length', \"Speaker_party\"]].groupby(\"Speaker_party\").count()"
   ]
  },
  {
   "cell_type": "code",
   "execution_count": null,
   "id": "e64adf0e",
   "metadata": {},
   "outputs": [],
   "source": []
  },
  {
   "cell_type": "markdown",
   "id": "d50f269d",
   "metadata": {},
   "source": [
    "#### Creazione file Cleaned "
   ]
  },
  {
   "cell_type": "code",
   "execution_count": 41,
   "id": "a4e6cbf0",
   "metadata": {},
   "outputs": [],
   "source": [
    "final_merged_df.to_csv(\"data/cleaned_dataset/merged.tsv\", index=False)"
   ]
  },
  {
   "cell_type": "code",
   "execution_count": 42,
   "id": "61bc6d42",
   "metadata": {},
   "outputs": [],
   "source": [
    "real_final_meta_df.to_csv(\"data/cleaned_dataset/meta.tsv\", index=False)"
   ]
  },
  {
   "cell_type": "code",
   "execution_count": null,
   "id": "5eb47ed8",
   "metadata": {},
   "outputs": [],
   "source": []
  }
 ],
 "metadata": {
  "kernelspec": {
   "display_name": "Python 3 (ipykernel)",
   "language": "python",
   "name": "python3"
  },
  "language_info": {
   "codemirror_mode": {
    "name": "ipython",
    "version": 3
   },
   "file_extension": ".py",
   "mimetype": "text/x-python",
   "name": "python",
   "nbconvert_exporter": "python",
   "pygments_lexer": "ipython3",
   "version": "3.11.4"
  }
 },
 "nbformat": 4,
 "nbformat_minor": 5
}
