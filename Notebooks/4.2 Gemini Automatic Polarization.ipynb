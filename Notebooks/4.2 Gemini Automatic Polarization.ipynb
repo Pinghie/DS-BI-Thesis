{
 "cells": [
  {
   "cell_type": "code",
   "execution_count": 50,
   "id": "90136c44",
   "metadata": {},
   "outputs": [],
   "source": [
    "import google.generativeai as genai\n",
    "import pandas as pd\n",
    "import time\n",
    "import numpy as np\n",
    "from scipy import stats\n",
    "from sklearn.metrics import classification_report\n",
    "from sklearn.metrics import mean_squared_error, mean_absolute_error"
   ]
  },
  {
   "cell_type": "code",
   "execution_count": 51,
   "id": "1b5aaf11",
   "metadata": {},
   "outputs": [],
   "source": [
    "cleaned_df = pd.read_csv(\"data/cleaned_dataset/merged.tsv\", sep=\",\", encoding=\"utf-8\")"
   ]
  },
  {
   "cell_type": "code",
   "execution_count": 52,
   "id": "9b6e30d4",
   "metadata": {
    "scrolled": true
   },
   "outputs": [
    {
     "name": "stderr",
     "output_type": "stream",
     "text": [
      "C:\\Users\\fabio\\AppData\\Local\\Temp\\ipykernel_15060\\1887085074.py:1: DeprecationWarning: DataFrameGroupBy.apply operated on the grouping columns. This behavior is deprecated, and in a future version of pandas the grouping columns will be excluded from the operation. Either pass `include_groups=False` to exclude the groupings or explicitly select the grouping columns after groupby to silence this warning.\n",
      "  sampled_df = cleaned_df.groupby(\"Party_orientation\", group_keys=False).apply(lambda x: x.sample(n=30, random_state=42))\n"
     ]
    }
   ],
   "source": [
    "sampled_df = cleaned_df.groupby(\"Party_orientation\", group_keys=False).apply(lambda x: x.sample(n=30, random_state=42))"
   ]
  },
  {
   "cell_type": "code",
   "execution_count": 53,
   "id": "1df51499",
   "metadata": {},
   "outputs": [
    {
     "name": "stdout",
     "output_type": "stream",
     "text": [
      "Destra verso estrema destra 30\n",
      "Centro-sinistra 30\n",
      "Centro verso centro-destra 30\n",
      "Centro 30\n",
      "Pigliatutto 30\n",
      "Centro-destra 30\n"
     ]
    }
   ],
   "source": [
    "for elem in set(sampled_df[\"Party_orientation\"]):\n",
    "    print(elem, sampled_df[sampled_df[\"Party_orientation\"]==elem].shape[0])"
   ]
  },
  {
   "cell_type": "code",
   "execution_count": 54,
   "id": "c86d4ff3",
   "metadata": {},
   "outputs": [],
   "source": [
    "#Estraggo i testi da dare in input a gemini\n",
    "texts_to_classify = []\n",
    "for id in sampled_df[\"ID\"]:\n",
    "    texts_to_classify.append((id, sampled_df[sampled_df[\"ID\"] == id].text.iloc[0]))"
   ]
  },
  {
   "cell_type": "code",
   "execution_count": null,
   "id": "1973ee10",
   "metadata": {},
   "outputs": [],
   "source": [
    "API_KEY = \"\"\n",
    "genai.configure(api_key=API_KEY)\n",
    "model = genai.GenerativeModel('gemini-2.0-flash')"
   ]
  },
  {
   "cell_type": "code",
   "execution_count": 56,
   "id": "d6d8c714",
   "metadata": {},
   "outputs": [],
   "source": [
    "def classify_record(text_id, text, prompt, model):\n",
    "    filled_prompt = prompt.replace('[$$$]',text)\n",
    "    res = model.generate_content(filled_prompt)\n",
    "    time.sleep(4)\n",
    "    return str(text_id + \",\" +res.text)"
   ]
  },
  {
   "cell_type": "code",
   "execution_count": 57,
   "id": "4a451dc2",
   "metadata": {},
   "outputs": [],
   "source": [
    "#CALCOLO CLASSIFICAZIONI GEMINI\n",
    "def calcola_classificazioni(texts_to_classify, prompt):\n",
    "    i = 0\n",
    "    gemini_classes = []\n",
    "    for tupla in texts_to_classify:\n",
    "        res = classify_record(tupla[0], tupla[1], prompt, model)\n",
    "        gemini_classes.append(res)\n",
    "        i+=1\n",
    "        print(i, end = \" \")\n",
    "        \n",
    "    classification_list = []\n",
    "    for stringa in gemini_classes:\n",
    "        stringa = stringa.strip(\"\\n\")\n",
    "        lista = stringa.split(\",\")\n",
    "        lista = [lista[0]] + [int(x) for x in lista[1:]]\n",
    "        classification_list.append(lista)\n",
    "\n",
    "    classification_df = pd.DataFrame(classification_list, columns = ['id', 'polarization'])\n",
    "    return classification_df"
   ]
  },
  {
   "cell_type": "code",
   "execution_count": 58,
   "id": "e2467a93",
   "metadata": {},
   "outputs": [],
   "source": [
    "def calcola_prestazioni(ground_df, classification_df):\n",
    "    dimensions = ['polarization']\n",
    "    for dim in dimensions:\n",
    "        print(\"ANALISI: \", dim)\n",
    "        print(\"SPEARMAN: \", stats.spearmanr(ground_df[dim], classification_df[dim]))\n",
    "        print(\"MSE: \", mean_squared_error(ground_df[dim], classification_df[dim]))\n",
    "        print(\"MAE: \", mean_absolute_error(ground_df[dim], classification_df[dim]))\n",
    "        print(classification_report(ground_df[dim], classification_df[dim]))\n",
    "        print(\"\\n\\n\")"
   ]
  },
  {
   "cell_type": "code",
   "execution_count": 59,
   "id": "96a3b877",
   "metadata": {},
   "outputs": [],
   "source": [
    "diz = {\n",
    "    \"Pigliatutto\": 2,\n",
    "    \"Centro\": 2,\n",
    "    \"Centro-sinistra\": 1,\n",
    "    \"Centro verso centro-destra\": 3,\n",
    "    \"Centro-destra\": 3,\n",
    "    \"Destra verso estrema destra\": 3\n",
    "}"
   ]
  },
  {
   "cell_type": "code",
   "execution_count": 60,
   "id": "9d587cc0",
   "metadata": {},
   "outputs": [
    {
     "name": "stderr",
     "output_type": "stream",
     "text": [
      "C:\\Users\\fabio\\AppData\\Local\\Temp\\ipykernel_15060\\544985932.py:1: FutureWarning: Downcasting behavior in `replace` is deprecated and will be removed in a future version. To retain the old behavior, explicitly call `result.infer_objects(copy=False)`. To opt-in to the future behavior, set `pd.set_option('future.no_silent_downcasting', True)`\n",
      "  sampled_df = sampled_df.replace({\"Party_orientation\": diz})\n"
     ]
    }
   ],
   "source": [
    "sampled_df = sampled_df.replace({\"Party_orientation\": diz})\n",
    "sampled_df[\"polarization\"] = sampled_df[\"Party_orientation\"]"
   ]
  },
  {
   "cell_type": "code",
   "execution_count": 42,
   "id": "a2140ad9",
   "metadata": {},
   "outputs": [],
   "source": [
    "with open('genai/v2/zero_shot_auto_prompt.txt', 'r', encoding=\"utf8\") as f:\n",
    "    zero_shot_auto_prompt = f.read()"
   ]
  },
  {
   "cell_type": "code",
   "execution_count": 45,
   "id": "a62bb6d4",
   "metadata": {},
   "outputs": [
    {
     "name": "stdout",
     "output_type": "stream",
     "text": [
      "1 2 3 4 5 6 7 8 9 10 11 12 13 14 15 16 17 18 19 20 21 22 23 24 25 26 27 28 29 30 31 32 33 34 35 36 37 38 39 40 41 42 43 44 45 46 47 48 49 50 51 52 53 54 55 56 57 58 59 60 61 62 63 64 65 66 67 68 69 70 71 72 73 74 75 76 77 78 79 80 81 82 83 84 85 86 87 88 89 90 91 92 93 94 95 96 97 98 99 100 101 102 103 104 105 106 107 108 109 110 111 112 113 114 115 116 117 118 119 120 121 122 123 124 125 126 127 128 129 130 131 132 133 134 135 136 137 138 139 140 141 142 143 144 145 146 147 148 149 150 151 152 153 154 155 156 157 158 159 160 161 162 163 164 165 166 167 168 169 170 171 172 173 174 175 176 177 178 179 180 "
     ]
    }
   ],
   "source": [
    "zero_shot_auto_classification = calcola_classificazioni(texts_to_classify, zero_shot_auto_prompt)"
   ]
  },
  {
   "cell_type": "code",
   "execution_count": 48,
   "id": "46639249",
   "metadata": {},
   "outputs": [],
   "source": [
    "zero_shot_auto_classification.to_csv(\"genai/v2/zero_shot_auto_classification.csv\", index=False)"
   ]
  },
  {
   "cell_type": "code",
   "execution_count": 49,
   "id": "2dd88b97",
   "metadata": {},
   "outputs": [
    {
     "name": "stdout",
     "output_type": "stream",
     "text": [
      "ANALISI:  polarization\n",
      "SPEARMAN:  SignificanceResult(statistic=0.6553563264112805, pvalue=1.8356698804330645e-23)\n",
      "MSE:  0.7\n",
      "MAE:  0.5555555555555556\n",
      "              precision    recall  f1-score   support\n",
      "\n",
      "           1       0.39      0.43      0.41        30\n",
      "           2       0.42      0.38      0.40        60\n",
      "           3       0.69      0.58      0.63        60\n",
      "           4       0.54      0.73      0.62        30\n",
      "\n",
      "    accuracy                           0.52       180\n",
      "   macro avg       0.51      0.53      0.52       180\n",
      "weighted avg       0.52      0.52      0.52       180\n",
      "\n",
      "\n",
      "\n",
      "\n"
     ]
    }
   ],
   "source": [
    "calcola_prestazioni(sampled_df, zero_shot_auto_classification)"
   ]
  },
  {
   "cell_type": "code",
   "execution_count": null,
   "id": "e0eb05e4",
   "metadata": {},
   "outputs": [],
   "source": []
  }
 ],
 "metadata": {
  "kernelspec": {
   "display_name": "Python 3 (ipykernel)",
   "language": "python",
   "name": "python3"
  },
  "language_info": {
   "codemirror_mode": {
    "name": "ipython",
    "version": 3
   },
   "file_extension": ".py",
   "mimetype": "text/x-python",
   "name": "python",
   "nbconvert_exporter": "python",
   "pygments_lexer": "ipython3",
   "version": "3.11.4"
  }
 },
 "nbformat": 4,
 "nbformat_minor": 5
}
