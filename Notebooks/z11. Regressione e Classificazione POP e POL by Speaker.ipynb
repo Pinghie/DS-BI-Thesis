{
 "cells": [
  {
   "cell_type": "code",
   "execution_count": 12,
   "id": "50e595b4",
   "metadata": {},
   "outputs": [],
   "source": [
    "import pandas as pd\n",
    "import numpy as np\n",
    "import ast\n",
    "from scipy import stats\n",
    "from sklearn.preprocessing import StandardScaler\n",
    "from sklearn.model_selection import cross_val_score, cross_val_predict\n",
    "from sklearn.linear_model import LinearRegression\n",
    "from sklearn.metrics import mean_absolute_error, mean_squared_error\n",
    "from sklearn.svm import LinearSVC\n",
    "from sklearn.metrics import classification_report"
   ]
  },
  {
   "cell_type": "code",
   "execution_count": 13,
   "id": "94eca168",
   "metadata": {},
   "outputs": [],
   "source": [
    "#annotated_df = pd.read_csv(\"data/annotated_dataset/annotated_texts_repr.csv\", sep=\",\", encoding=\"utf-8\")\n",
    "annotated_df = pd.read_csv(\"data/annotated_dataset/annotated_texts_repr_pro_complete.csv\", sep=\",\", encoding=\"utf-8\")\n",
    "meta_df = pd.read_csv(\"data/cleaned_dataset/meta.tsv\", sep=\",\", encoding=\"utf-8\")\n",
    "merged_df = annotated_df.merge(meta_df, how='left', left_on='id', right_on=\"ID\")\n",
    "\n",
    "ling_prof_df = merged_df[[\"id\", \"pop_sum\",\"polarization\",\"Speaker_ID\", \"Speaker_party\",\"Party_orientation\",\"linguistic_profile_pro\", \"tfidf_pro\", \"doc_embedding_pro\"]]\n",
    "diz = {\n",
    "    \"LN-Aut\": \"Lega\",\n",
    "    \"L-SP\": \"Lega\",\n",
    "    \"M5S.1\": \"M5S\",\n",
    "    \"M5S.2\": \"M5S\",\n",
    "}\n",
    "ling_prof_df = ling_prof_df.replace({\"Speaker_party\": diz})\n",
    "ling_prof_df = ling_prof_df.rename(columns={\"linguistic_profile_pro\": \"linguistic_profile\", \"tfidf_pro\": \"tfidf\", \"doc_embedding_pro\":\"doc_embedding\"})"
   ]
  },
  {
   "cell_type": "code",
   "execution_count": 14,
   "id": "01f3b7e6",
   "metadata": {},
   "outputs": [],
   "source": [
    "def mean_std_lists(lists):\n",
    "    lists = np.array([ast.literal_eval(item) for item in lists])\n",
    "    return np.mean(lists, axis=0).tolist(), np.std(lists, axis=0).tolist()\n",
    "\n",
    "#Aggregazione per senatore\n",
    "df_grouped = ling_prof_df.groupby('Speaker_ID', as_index=False).agg({\n",
    "    'pop_sum': lambda x: x.sum() / x.count(),\n",
    "    'polarization': lambda x: x.sum() / x.count(),\n",
    "    'Speaker_party': lambda x: x.mode()[0],\n",
    "    'Party_orientation': lambda x: x.mode()[0]\n",
    "})\n",
    "\n",
    "#Media e std delle rappresentazioni del testo (per tutti i testi di un senatore)\n",
    "for col in ['linguistic_profile', 'tfidf', 'doc_embedding']:\n",
    "    df_grouped[col], df_grouped[col + '_std'] = zip(*ling_prof_df.groupby('Speaker_ID')[col].apply(lambda x: mean_std_lists(list(x))))\n",
    "\n",
    "df_grouped[\"linguistic_profile\"] = df_grouped[\"linguistic_profile\"] + df_grouped[\"linguistic_profile_std\"]\n",
    "df_grouped[\"tfidf\"] = df_grouped[\"tfidf\"] + df_grouped[\"tfidf_std\"]\n",
    "df_grouped[\"doc_embedding\"] = df_grouped[\"doc_embedding\"] + df_grouped[\"doc_embedding_std\"]\n",
    "    \n",
    "group_sizes = ling_prof_df.groupby('Speaker_ID').size().reset_index(name='Count_Per_Group') #quanti testi per senatore\n",
    "df_grouped = df_grouped.merge(group_sizes, on='Speaker_ID')"
   ]
  },
  {
   "cell_type": "markdown",
   "id": "7134a5ae",
   "metadata": {},
   "source": [
    "#### Rimuovo i senatori con meno di 11 discorsi"
   ]
  },
  {
   "cell_type": "code",
   "execution_count": 15,
   "id": "ee29533b",
   "metadata": {},
   "outputs": [],
   "source": [
    "df_grouped = df_grouped[df_grouped[\"Count_Per_Group\"] > 10]"
   ]
  },
  {
   "cell_type": "markdown",
   "id": "54a2d067",
   "metadata": {},
   "source": [
    "#### Estraggo X e y"
   ]
  },
  {
   "cell_type": "code",
   "execution_count": 16,
   "id": "723400ec",
   "metadata": {},
   "outputs": [],
   "source": [
    "X_ling = np.vstack(df_grouped[\"linguistic_profile\"].values)\n",
    "X_tfidf = np.vstack(df_grouped[\"tfidf\"].values)\n",
    "X_embed = np.vstack(df_grouped[\"doc_embedding\"].values)\n",
    "\n",
    "y_pop = np.vstack(df_grouped[\"pop_sum\"].values)\n",
    "y_pol = np.vstack(df_grouped[\"polarization\"].values)"
   ]
  },
  {
   "cell_type": "markdown",
   "id": "1d1fd79b",
   "metadata": {},
   "source": [
    "## Regressione"
   ]
  },
  {
   "cell_type": "code",
   "execution_count": 6,
   "id": "299b9eb5",
   "metadata": {},
   "outputs": [],
   "source": [
    "X_list = [X_ling,X_tfidf,X_embed]\n",
    "model = LinearRegression()"
   ]
  },
  {
   "cell_type": "code",
   "execution_count": 151,
   "id": "fc6fe3fd",
   "metadata": {},
   "outputs": [],
   "source": [
    "scaler = StandardScaler()\n",
    "def regressione(X_list, y):\n",
    "    for X in X_list:\n",
    "        X = scaler.fit_transform(X)\n",
    "        cv_scores = cross_val_score(model, X, y, cv=3, scoring='r2')  # R^2 Score\n",
    "        cv_predictions = cross_val_predict(model, X, y, cv=3)\n",
    "\n",
    "        print(\"Cross-Validation R² Scores:\", cv_scores)\n",
    "        print(\"Mean R² Score:\", cv_scores.mean())\n",
    "\n",
    "        mse = mean_squared_error(y, cv_predictions)\n",
    "        spearman = stats.spearmanr(y, cv_predictions)\n",
    "        \n",
    "        print(\"Cross-Validated MSE:\", mse)\n",
    "        print(\"Spearman:\", spearman)\n",
    "        print(\"\\n\\n\")"
   ]
  },
  {
   "cell_type": "code",
   "execution_count": 165,
   "id": "58b0c857",
   "metadata": {},
   "outputs": [
    {
     "name": "stdout",
     "output_type": "stream",
     "text": [
      "Cross-Validation R² Scores: [ 0.26510557 -0.06528716  0.23662885]\n",
      "Mean R² Score: 0.1454824194421639\n",
      "Cross-Validated MSE: 0.8548573955855646\n",
      "Spearman: SignificanceResult(statistic=0.6610623454741413, pvalue=6.109004153408424e-41)\n",
      "\n",
      "\n",
      "\n",
      "Cross-Validation R² Scores: [0.62089376 0.69518964 0.68555786]\n",
      "Mean R² Score: 0.667213753967158\n",
      "Cross-Validated MSE: 0.33768524078182305\n",
      "Spearman: SignificanceResult(statistic=0.8248523029710477, pvalue=1.628287915449282e-79)\n",
      "\n",
      "\n",
      "\n",
      "Cross-Validation R² Scores: [0.43020179 0.32932422 0.34027319]\n",
      "Mean R² Score: 0.3665997339634924\n",
      "Cross-Validated MSE: 0.632943655167474\n",
      "Spearman: SignificanceResult(statistic=0.7338055168661475, pvalue=1.71505146919277e-54)\n",
      "\n",
      "\n",
      "\n"
     ]
    }
   ],
   "source": [
    "regressione(X_list, y_pop)"
   ]
  },
  {
   "cell_type": "code",
   "execution_count": 166,
   "id": "7db41559",
   "metadata": {
    "scrolled": false
   },
   "outputs": [
    {
     "name": "stdout",
     "output_type": "stream",
     "text": [
      "Cross-Validation R² Scores: [-0.64498003 -0.59766047 -0.48887788]\n",
      "Mean R² Score: -0.5771727957108537\n",
      "Cross-Validated MSE: 0.48467166359955105\n",
      "Spearman: SignificanceResult(statistic=0.4166182167292887, pvalue=1.1760826875320605e-14)\n",
      "\n",
      "\n",
      "\n",
      "Cross-Validation R² Scores: [0.53581305 0.57911488 0.5058381 ]\n",
      "Mean R² Score: 0.5402553448782266\n",
      "Cross-Validated MSE: 0.1416874331141398\n",
      "Spearman: SignificanceResult(statistic=0.742848109206971, pvalue=1.7124493886377726e-56)\n",
      "\n",
      "\n",
      "\n",
      "Cross-Validation R² Scores: [-0.69716258 -0.39784321 -0.11238367]\n",
      "Mean R² Score: -0.4024631559874166\n",
      "Cross-Validated MSE: 0.42979735919827833\n",
      "Spearman: SignificanceResult(statistic=0.535111861596661, pvalue=9.839077590182364e-25)\n",
      "\n",
      "\n",
      "\n"
     ]
    }
   ],
   "source": [
    "regressione(X_list, y_pol)"
   ]
  },
  {
   "cell_type": "markdown",
   "id": "36cd011b",
   "metadata": {},
   "source": [
    "# Classificazione"
   ]
  },
  {
   "cell_type": "code",
   "execution_count": 7,
   "id": "d752b630",
   "metadata": {},
   "outputs": [],
   "source": [
    "X_ling = np.vstack(df_grouped[\"linguistic_profile\"].values)\n",
    "X_tfidf = np.vstack(df_grouped[\"tfidf\"].values)\n",
    "X_embed = np.vstack(df_grouped[\"doc_embedding\"].values)\n",
    "\n",
    "y_pop = np.vstack(df_grouped[\"pop_sum\"].values)\n",
    "y_pol = np.vstack(df_grouped[\"polarization\"].values)"
   ]
  },
  {
   "cell_type": "code",
   "execution_count": 8,
   "id": "a45e5641",
   "metadata": {},
   "outputs": [],
   "source": [
    "X_list = [X_ling,X_tfidf,X_embed]\n",
    "y_pol = [0 if x <= 0.75 else 1 if x<=1.45 else 2 for x in y_pol]\n",
    "y_pop = [0 if x < 1 else 1 for x in y_pop]"
   ]
  },
  {
   "cell_type": "code",
   "execution_count": 9,
   "id": "2c29523b",
   "metadata": {},
   "outputs": [],
   "source": [
    "clf_linear_svc = LinearSVC(C=1.0, random_state=42)"
   ]
  },
  {
   "cell_type": "code",
   "execution_count": 10,
   "id": "0bc094ac",
   "metadata": {},
   "outputs": [],
   "source": [
    "scaler = StandardScaler()\n",
    "def classificazione(X_list, y):\n",
    "    for X in X_list:\n",
    "        X = scaler.fit_transform(X)\n",
    "        predictions = cross_val_predict(clf_linear_svc, X, y, cv=3)\n",
    "        print(classification_report(y, predictions))"
   ]
  },
  {
   "cell_type": "code",
   "execution_count": 57,
   "id": "2f3227e8",
   "metadata": {
    "scrolled": true
   },
   "outputs": [
    {
     "name": "stdout",
     "output_type": "stream",
     "text": [
      "              precision    recall  f1-score   support\n",
      "\n",
      "           0       0.76      0.82      0.79       136\n",
      "           1       0.86      0.80      0.83       179\n",
      "\n",
      "    accuracy                           0.81       315\n",
      "   macro avg       0.81      0.81      0.81       315\n",
      "weighted avg       0.82      0.81      0.81       315\n",
      "\n",
      "              precision    recall  f1-score   support\n",
      "\n",
      "           0       0.75      0.84      0.79       136\n",
      "           1       0.87      0.79      0.83       179\n",
      "\n",
      "    accuracy                           0.81       315\n",
      "   macro avg       0.81      0.82      0.81       315\n",
      "weighted avg       0.82      0.81      0.81       315\n",
      "\n",
      "              precision    recall  f1-score   support\n",
      "\n",
      "           0       0.78      0.82      0.80       136\n",
      "           1       0.86      0.83      0.84       179\n",
      "\n",
      "    accuracy                           0.82       315\n",
      "   macro avg       0.82      0.82      0.82       315\n",
      "weighted avg       0.82      0.82      0.82       315\n",
      "\n"
     ]
    },
    {
     "name": "stderr",
     "output_type": "stream",
     "text": [
      "C:\\Users\\fabio\\anaconda3\\Lib\\site-packages\\sklearn\\svm\\_classes.py:32: FutureWarning: The default value of `dual` will change from `True` to `'auto'` in 1.5. Set the value of `dual` explicitly to suppress the warning.\n",
      "  warnings.warn(\n",
      "C:\\Users\\fabio\\anaconda3\\Lib\\site-packages\\sklearn\\svm\\_classes.py:32: FutureWarning: The default value of `dual` will change from `True` to `'auto'` in 1.5. Set the value of `dual` explicitly to suppress the warning.\n",
      "  warnings.warn(\n",
      "C:\\Users\\fabio\\anaconda3\\Lib\\site-packages\\sklearn\\svm\\_classes.py:32: FutureWarning: The default value of `dual` will change from `True` to `'auto'` in 1.5. Set the value of `dual` explicitly to suppress the warning.\n",
      "  warnings.warn(\n",
      "C:\\Users\\fabio\\anaconda3\\Lib\\site-packages\\sklearn\\svm\\_classes.py:32: FutureWarning: The default value of `dual` will change from `True` to `'auto'` in 1.5. Set the value of `dual` explicitly to suppress the warning.\n",
      "  warnings.warn(\n",
      "C:\\Users\\fabio\\anaconda3\\Lib\\site-packages\\sklearn\\svm\\_classes.py:32: FutureWarning: The default value of `dual` will change from `True` to `'auto'` in 1.5. Set the value of `dual` explicitly to suppress the warning.\n",
      "  warnings.warn(\n",
      "C:\\Users\\fabio\\anaconda3\\Lib\\site-packages\\sklearn\\svm\\_classes.py:32: FutureWarning: The default value of `dual` will change from `True` to `'auto'` in 1.5. Set the value of `dual` explicitly to suppress the warning.\n",
      "  warnings.warn(\n",
      "C:\\Users\\fabio\\anaconda3\\Lib\\site-packages\\sklearn\\svm\\_classes.py:32: FutureWarning: The default value of `dual` will change from `True` to `'auto'` in 1.5. Set the value of `dual` explicitly to suppress the warning.\n",
      "  warnings.warn(\n",
      "C:\\Users\\fabio\\anaconda3\\Lib\\site-packages\\sklearn\\svm\\_classes.py:32: FutureWarning: The default value of `dual` will change from `True` to `'auto'` in 1.5. Set the value of `dual` explicitly to suppress the warning.\n",
      "  warnings.warn(\n",
      "C:\\Users\\fabio\\anaconda3\\Lib\\site-packages\\sklearn\\svm\\_classes.py:32: FutureWarning: The default value of `dual` will change from `True` to `'auto'` in 1.5. Set the value of `dual` explicitly to suppress the warning.\n",
      "  warnings.warn(\n"
     ]
    }
   ],
   "source": [
    "classificazione(X_list, y_pop)"
   ]
  },
  {
   "cell_type": "code",
   "execution_count": 70,
   "id": "c03b13da",
   "metadata": {
    "scrolled": true
   },
   "outputs": [
    {
     "name": "stderr",
     "output_type": "stream",
     "text": [
      "C:\\Users\\fabio\\anaconda3\\Lib\\site-packages\\sklearn\\svm\\_classes.py:32: FutureWarning: The default value of `dual` will change from `True` to `'auto'` in 1.5. Set the value of `dual` explicitly to suppress the warning.\n",
      "  warnings.warn(\n",
      "C:\\Users\\fabio\\anaconda3\\Lib\\site-packages\\sklearn\\svm\\_classes.py:32: FutureWarning: The default value of `dual` will change from `True` to `'auto'` in 1.5. Set the value of `dual` explicitly to suppress the warning.\n",
      "  warnings.warn(\n",
      "C:\\Users\\fabio\\anaconda3\\Lib\\site-packages\\sklearn\\svm\\_classes.py:32: FutureWarning: The default value of `dual` will change from `True` to `'auto'` in 1.5. Set the value of `dual` explicitly to suppress the warning.\n",
      "  warnings.warn(\n",
      "C:\\Users\\fabio\\anaconda3\\Lib\\site-packages\\sklearn\\svm\\_classes.py:32: FutureWarning: The default value of `dual` will change from `True` to `'auto'` in 1.5. Set the value of `dual` explicitly to suppress the warning.\n",
      "  warnings.warn(\n",
      "C:\\Users\\fabio\\anaconda3\\Lib\\site-packages\\sklearn\\svm\\_classes.py:32: FutureWarning: The default value of `dual` will change from `True` to `'auto'` in 1.5. Set the value of `dual` explicitly to suppress the warning.\n",
      "  warnings.warn(\n",
      "C:\\Users\\fabio\\anaconda3\\Lib\\site-packages\\sklearn\\svm\\_classes.py:32: FutureWarning: The default value of `dual` will change from `True` to `'auto'` in 1.5. Set the value of `dual` explicitly to suppress the warning.\n",
      "  warnings.warn(\n"
     ]
    },
    {
     "name": "stdout",
     "output_type": "stream",
     "text": [
      "              precision    recall  f1-score   support\n",
      "\n",
      "           0       0.53      0.61      0.57        89\n",
      "           1       0.54      0.53      0.53       116\n",
      "           2       0.72      0.65      0.69       110\n",
      "\n",
      "    accuracy                           0.59       315\n",
      "   macro avg       0.60      0.60      0.59       315\n",
      "weighted avg       0.60      0.59      0.60       315\n",
      "\n",
      "              precision    recall  f1-score   support\n",
      "\n",
      "           0       0.65      0.80      0.71        89\n",
      "           1       0.77      0.66      0.71       116\n",
      "           2       0.88      0.85      0.86       110\n",
      "\n",
      "    accuracy                           0.76       315\n",
      "   macro avg       0.76      0.77      0.76       315\n",
      "weighted avg       0.77      0.76      0.76       315\n",
      "\n",
      "              precision    recall  f1-score   support\n",
      "\n",
      "           0       0.66      0.69      0.67        89\n",
      "           1       0.62      0.59      0.61       116\n",
      "           2       0.71      0.72      0.71       110\n",
      "\n",
      "    accuracy                           0.66       315\n",
      "   macro avg       0.66      0.67      0.66       315\n",
      "weighted avg       0.66      0.66      0.66       315\n",
      "\n"
     ]
    },
    {
     "name": "stderr",
     "output_type": "stream",
     "text": [
      "C:\\Users\\fabio\\anaconda3\\Lib\\site-packages\\sklearn\\svm\\_classes.py:32: FutureWarning: The default value of `dual` will change from `True` to `'auto'` in 1.5. Set the value of `dual` explicitly to suppress the warning.\n",
      "  warnings.warn(\n",
      "C:\\Users\\fabio\\anaconda3\\Lib\\site-packages\\sklearn\\svm\\_classes.py:32: FutureWarning: The default value of `dual` will change from `True` to `'auto'` in 1.5. Set the value of `dual` explicitly to suppress the warning.\n",
      "  warnings.warn(\n",
      "C:\\Users\\fabio\\anaconda3\\Lib\\site-packages\\sklearn\\svm\\_classes.py:32: FutureWarning: The default value of `dual` will change from `True` to `'auto'` in 1.5. Set the value of `dual` explicitly to suppress the warning.\n",
      "  warnings.warn(\n"
     ]
    }
   ],
   "source": [
    "classificazione(X_list, y_pol)"
   ]
  },
  {
   "cell_type": "markdown",
   "id": "e2ae9545",
   "metadata": {},
   "source": [
    "### Classificazione top, con ottimizzazione parametri"
   ]
  },
  {
   "cell_type": "code",
   "execution_count": 17,
   "id": "b4f8a64e",
   "metadata": {},
   "outputs": [],
   "source": [
    "y_pol = [0 if x <= 0.75 else 1 if x<=1.45 else 2 for x in y_pol]\n",
    "y_pop = [0 if x < 1 else 1 for x in y_pop]\n",
    "#X_tfidf"
   ]
  },
  {
   "cell_type": "code",
   "execution_count": 18,
   "id": "675d79be",
   "metadata": {},
   "outputs": [],
   "source": [
    "from sklearn.model_selection import GridSearchCV\n",
    "from sklearn.model_selection import train_test_split"
   ]
  },
  {
   "cell_type": "code",
   "execution_count": 19,
   "id": "a14d0ead",
   "metadata": {},
   "outputs": [],
   "source": [
    "scaler = StandardScaler()\n",
    "def linearSvcBestParams(X, y):\n",
    "    X_train, X_test, y_train, y_test = train_test_split(X, y, test_size=0.2, random_state=42)\n",
    "\n",
    "    X_train = scaler.fit_transform(X_train)\n",
    "    X_test = scaler.transform(X_test)\n",
    "\n",
    "    svc = LinearSVC(dual=False, max_iter=10000)\n",
    "\n",
    "    param_grid = {\n",
    "        'C': [0.01, 0.1, 1, 10, 100],\n",
    "        'loss': ['squared_hinge', 'hinge'],\n",
    "        'penalty': ['l1', 'l2'],\n",
    "        'class_weight': ['balanced']\n",
    "    }\n",
    "\n",
    "    grid_search = GridSearchCV(svc, param_grid, cv=5, scoring='accuracy', n_jobs=-1, verbose=2)\n",
    "    grid_search.fit(X_train, y_train)\n",
    "\n",
    "    best_params = grid_search.best_params_\n",
    "    print(\"Best Parameters:\", best_params)\n",
    "    print(\"Best Cross-Validation Accuracy:\", grid_search.best_score_)\n",
    "\n",
    "    best_model = LinearSVC(dual=False, **best_params)\n",
    "    \n",
    "    X_scaled = scaler.transform(X)\n",
    "    predictions = cross_val_predict(best_model, X_scaled, y, cv=3)\n",
    "    \n",
    "    print(classification_report(y, predictions))"
   ]
  },
  {
   "cell_type": "code",
   "execution_count": 20,
   "id": "71361ed3",
   "metadata": {
    "scrolled": false
   },
   "outputs": [
    {
     "name": "stdout",
     "output_type": "stream",
     "text": [
      "Fitting 5 folds for each of 20 candidates, totalling 100 fits\n"
     ]
    },
    {
     "name": "stderr",
     "output_type": "stream",
     "text": [
      "C:\\Users\\fabio\\anaconda3\\Lib\\site-packages\\sklearn\\model_selection\\_validation.py:425: FitFailedWarning: \n",
      "50 fits failed out of a total of 100.\n",
      "The score on these train-test partitions for these parameters will be set to nan.\n",
      "If these failures are not expected, you can try to debug them by setting error_score='raise'.\n",
      "\n",
      "Below are more details about the failures:\n",
      "--------------------------------------------------------------------------------\n",
      "25 fits failed with the following error:\n",
      "Traceback (most recent call last):\n",
      "  File \"C:\\Users\\fabio\\anaconda3\\Lib\\site-packages\\sklearn\\model_selection\\_validation.py\", line 732, in _fit_and_score\n",
      "    estimator.fit(X_train, y_train, **fit_params)\n",
      "  File \"C:\\Users\\fabio\\anaconda3\\Lib\\site-packages\\sklearn\\base.py\", line 1151, in wrapper\n",
      "    return fit_method(estimator, *args, **kwargs)\n",
      "           ^^^^^^^^^^^^^^^^^^^^^^^^^^^^^^^^^^^^^^\n",
      "  File \"C:\\Users\\fabio\\anaconda3\\Lib\\site-packages\\sklearn\\svm\\_classes.py\", line 315, in fit\n",
      "    self.coef_, self.intercept_, n_iter_ = _fit_liblinear(\n",
      "                                           ^^^^^^^^^^^^^^^\n",
      "  File \"C:\\Users\\fabio\\anaconda3\\Lib\\site-packages\\sklearn\\svm\\_base.py\", line 1221, in _fit_liblinear\n",
      "    solver_type = _get_liblinear_solver_type(multi_class, penalty, loss, dual)\n",
      "                  ^^^^^^^^^^^^^^^^^^^^^^^^^^^^^^^^^^^^^^^^^^^^^^^^^^^^^^^^^^^^\n",
      "  File \"C:\\Users\\fabio\\anaconda3\\Lib\\site-packages\\sklearn\\svm\\_base.py\", line 1060, in _get_liblinear_solver_type\n",
      "    raise ValueError(\n",
      "ValueError: Unsupported set of arguments: The combination of penalty='l1' and loss='hinge' is not supported, Parameters: penalty='l1', loss='hinge', dual=False\n",
      "\n",
      "--------------------------------------------------------------------------------\n",
      "25 fits failed with the following error:\n",
      "Traceback (most recent call last):\n",
      "  File \"C:\\Users\\fabio\\anaconda3\\Lib\\site-packages\\sklearn\\model_selection\\_validation.py\", line 732, in _fit_and_score\n",
      "    estimator.fit(X_train, y_train, **fit_params)\n",
      "  File \"C:\\Users\\fabio\\anaconda3\\Lib\\site-packages\\sklearn\\base.py\", line 1151, in wrapper\n",
      "    return fit_method(estimator, *args, **kwargs)\n",
      "           ^^^^^^^^^^^^^^^^^^^^^^^^^^^^^^^^^^^^^^\n",
      "  File \"C:\\Users\\fabio\\anaconda3\\Lib\\site-packages\\sklearn\\svm\\_classes.py\", line 315, in fit\n",
      "    self.coef_, self.intercept_, n_iter_ = _fit_liblinear(\n",
      "                                           ^^^^^^^^^^^^^^^\n",
      "  File \"C:\\Users\\fabio\\anaconda3\\Lib\\site-packages\\sklearn\\svm\\_base.py\", line 1221, in _fit_liblinear\n",
      "    solver_type = _get_liblinear_solver_type(multi_class, penalty, loss, dual)\n",
      "                  ^^^^^^^^^^^^^^^^^^^^^^^^^^^^^^^^^^^^^^^^^^^^^^^^^^^^^^^^^^^^\n",
      "  File \"C:\\Users\\fabio\\anaconda3\\Lib\\site-packages\\sklearn\\svm\\_base.py\", line 1060, in _get_liblinear_solver_type\n",
      "    raise ValueError(\n",
      "ValueError: Unsupported set of arguments: The combination of penalty='l2' and loss='hinge' are not supported when dual=False, Parameters: penalty='l2', loss='hinge', dual=False\n",
      "\n",
      "  warnings.warn(some_fits_failed_message, FitFailedWarning)\n",
      "C:\\Users\\fabio\\anaconda3\\Lib\\site-packages\\sklearn\\model_selection\\_search.py:976: UserWarning: One or more of the test scores are non-finite: [0.63552941 0.73027451        nan        nan 0.75411765 0.73027451\n",
      "        nan        nan 0.73011765 0.73427451        nan        nan\n",
      " 0.74180392 0.73435294        nan        nan 0.73811765 0.73835294\n",
      "        nan        nan]\n",
      "  warnings.warn(\n"
     ]
    },
    {
     "name": "stdout",
     "output_type": "stream",
     "text": [
      "Best Parameters: {'C': 0.1, 'class_weight': 'balanced', 'loss': 'squared_hinge', 'penalty': 'l1'}\n",
      "Best Cross-Validation Accuracy: 0.7541176470588236\n",
      "              precision    recall  f1-score   support\n",
      "\n",
      "           0       0.67      0.67      0.67        89\n",
      "           1       0.71      0.72      0.71       116\n",
      "           2       0.83      0.81      0.82       110\n",
      "\n",
      "    accuracy                           0.74       315\n",
      "   macro avg       0.74      0.74      0.74       315\n",
      "weighted avg       0.74      0.74      0.74       315\n",
      "\n"
     ]
    }
   ],
   "source": [
    "linearSvcBestParams(X_tfidf, y_pol)"
   ]
  },
  {
   "cell_type": "code",
   "execution_count": 19,
   "id": "dd2ae0d1",
   "metadata": {
    "scrolled": true
   },
   "outputs": [
    {
     "name": "stdout",
     "output_type": "stream",
     "text": [
      "Fitting 5 folds for each of 20 candidates, totalling 100 fits\n"
     ]
    },
    {
     "name": "stderr",
     "output_type": "stream",
     "text": [
      "C:\\Users\\fabio\\anaconda3\\Lib\\site-packages\\sklearn\\model_selection\\_validation.py:425: FitFailedWarning: \n",
      "50 fits failed out of a total of 100.\n",
      "The score on these train-test partitions for these parameters will be set to nan.\n",
      "If these failures are not expected, you can try to debug them by setting error_score='raise'.\n",
      "\n",
      "Below are more details about the failures:\n",
      "--------------------------------------------------------------------------------\n",
      "25 fits failed with the following error:\n",
      "Traceback (most recent call last):\n",
      "  File \"C:\\Users\\fabio\\anaconda3\\Lib\\site-packages\\sklearn\\model_selection\\_validation.py\", line 732, in _fit_and_score\n",
      "    estimator.fit(X_train, y_train, **fit_params)\n",
      "  File \"C:\\Users\\fabio\\anaconda3\\Lib\\site-packages\\sklearn\\base.py\", line 1151, in wrapper\n",
      "    return fit_method(estimator, *args, **kwargs)\n",
      "           ^^^^^^^^^^^^^^^^^^^^^^^^^^^^^^^^^^^^^^\n",
      "  File \"C:\\Users\\fabio\\anaconda3\\Lib\\site-packages\\sklearn\\svm\\_classes.py\", line 315, in fit\n",
      "    self.coef_, self.intercept_, n_iter_ = _fit_liblinear(\n",
      "                                           ^^^^^^^^^^^^^^^\n",
      "  File \"C:\\Users\\fabio\\anaconda3\\Lib\\site-packages\\sklearn\\svm\\_base.py\", line 1221, in _fit_liblinear\n",
      "    solver_type = _get_liblinear_solver_type(multi_class, penalty, loss, dual)\n",
      "                  ^^^^^^^^^^^^^^^^^^^^^^^^^^^^^^^^^^^^^^^^^^^^^^^^^^^^^^^^^^^^\n",
      "  File \"C:\\Users\\fabio\\anaconda3\\Lib\\site-packages\\sklearn\\svm\\_base.py\", line 1060, in _get_liblinear_solver_type\n",
      "    raise ValueError(\n",
      "ValueError: Unsupported set of arguments: The combination of penalty='l1' and loss='hinge' is not supported, Parameters: penalty='l1', loss='hinge', dual=False\n",
      "\n",
      "--------------------------------------------------------------------------------\n",
      "25 fits failed with the following error:\n",
      "Traceback (most recent call last):\n",
      "  File \"C:\\Users\\fabio\\anaconda3\\Lib\\site-packages\\sklearn\\model_selection\\_validation.py\", line 732, in _fit_and_score\n",
      "    estimator.fit(X_train, y_train, **fit_params)\n",
      "  File \"C:\\Users\\fabio\\anaconda3\\Lib\\site-packages\\sklearn\\base.py\", line 1151, in wrapper\n",
      "    return fit_method(estimator, *args, **kwargs)\n",
      "           ^^^^^^^^^^^^^^^^^^^^^^^^^^^^^^^^^^^^^^\n",
      "  File \"C:\\Users\\fabio\\anaconda3\\Lib\\site-packages\\sklearn\\svm\\_classes.py\", line 315, in fit\n",
      "    self.coef_, self.intercept_, n_iter_ = _fit_liblinear(\n",
      "                                           ^^^^^^^^^^^^^^^\n",
      "  File \"C:\\Users\\fabio\\anaconda3\\Lib\\site-packages\\sklearn\\svm\\_base.py\", line 1221, in _fit_liblinear\n",
      "    solver_type = _get_liblinear_solver_type(multi_class, penalty, loss, dual)\n",
      "                  ^^^^^^^^^^^^^^^^^^^^^^^^^^^^^^^^^^^^^^^^^^^^^^^^^^^^^^^^^^^^\n",
      "  File \"C:\\Users\\fabio\\anaconda3\\Lib\\site-packages\\sklearn\\svm\\_base.py\", line 1060, in _get_liblinear_solver_type\n",
      "    raise ValueError(\n",
      "ValueError: Unsupported set of arguments: The combination of penalty='l2' and loss='hinge' are not supported when dual=False, Parameters: penalty='l2', loss='hinge', dual=False\n",
      "\n",
      "  warnings.warn(some_fits_failed_message, FitFailedWarning)\n",
      "C:\\Users\\fabio\\anaconda3\\Lib\\site-packages\\sklearn\\model_selection\\_search.py:976: UserWarning: One or more of the test scores are non-finite: [0.8134902  0.8012549         nan        nan 0.80933333 0.78933333\n",
      "        nan        nan 0.82117647 0.79333333        nan        nan\n",
      " 0.82117647 0.7934902         nan        nan 0.81733333 0.7934902\n",
      "        nan        nan]\n",
      "  warnings.warn(\n"
     ]
    },
    {
     "name": "stdout",
     "output_type": "stream",
     "text": [
      "Best Parameters: {'C': 1, 'class_weight': 'balanced', 'loss': 'squared_hinge', 'penalty': 'l1'}\n",
      "Best Cross-Validation Accuracy: 0.8211764705882352\n",
      "              precision    recall  f1-score   support\n",
      "\n",
      "           0       0.79      0.79      0.79       136\n",
      "           1       0.84      0.84      0.84       179\n",
      "\n",
      "    accuracy                           0.82       315\n",
      "   macro avg       0.81      0.81      0.81       315\n",
      "weighted avg       0.82      0.82      0.82       315\n",
      "\n"
     ]
    },
    {
     "name": "stderr",
     "output_type": "stream",
     "text": [
      "C:\\Users\\fabio\\anaconda3\\Lib\\site-packages\\sklearn\\svm\\_base.py:1242: ConvergenceWarning: Liblinear failed to converge, increase the number of iterations.\n",
      "  warnings.warn(\n",
      "C:\\Users\\fabio\\anaconda3\\Lib\\site-packages\\sklearn\\svm\\_base.py:1242: ConvergenceWarning: Liblinear failed to converge, increase the number of iterations.\n",
      "  warnings.warn(\n",
      "C:\\Users\\fabio\\anaconda3\\Lib\\site-packages\\sklearn\\svm\\_base.py:1242: ConvergenceWarning: Liblinear failed to converge, increase the number of iterations.\n",
      "  warnings.warn(\n"
     ]
    }
   ],
   "source": [
    "linearSvcBestParams(X_tfidf, y_pop)"
   ]
  },
  {
   "cell_type": "code",
   "execution_count": null,
   "id": "ccb89aee",
   "metadata": {},
   "outputs": [],
   "source": []
  }
 ],
 "metadata": {
  "kernelspec": {
   "display_name": "Python 3 (ipykernel)",
   "language": "python",
   "name": "python3"
  },
  "language_info": {
   "codemirror_mode": {
    "name": "ipython",
    "version": 3
   },
   "file_extension": ".py",
   "mimetype": "text/x-python",
   "name": "python",
   "nbconvert_exporter": "python",
   "pygments_lexer": "ipython3",
   "version": "3.11.4"
  }
 },
 "nbformat": 4,
 "nbformat_minor": 5
}
