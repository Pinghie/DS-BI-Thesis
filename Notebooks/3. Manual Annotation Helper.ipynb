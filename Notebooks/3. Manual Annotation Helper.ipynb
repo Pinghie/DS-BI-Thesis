{
 "cells": [
  {
   "cell_type": "code",
   "execution_count": 1,
   "id": "4a412033",
   "metadata": {},
   "outputs": [
    {
     "name": "stderr",
     "output_type": "stream",
     "text": [
      "C:\\Users\\fabio\\anaconda3\\Lib\\site-packages\\pandas\\core\\arrays\\masked.py:60: UserWarning: Pandas requires version '1.3.6' or newer of 'bottleneck' (version '1.3.5' currently installed).\n",
      "  from pandas.core import (\n"
     ]
    }
   ],
   "source": [
    "import pandas as pd"
   ]
  },
  {
   "cell_type": "code",
   "execution_count": 2,
   "id": "3ef190cc",
   "metadata": {},
   "outputs": [],
   "source": [
    "df=pd.read_csv(\"data/cleaned_dataset/merged.tsv\")"
   ]
  },
  {
   "cell_type": "code",
   "execution_count": 4,
   "id": "56ea9a51",
   "metadata": {
    "scrolled": false
   },
   "outputs": [
    {
     "data": {
      "text/plain": [
       "\"IANNONE (FdI). Signor Presidente, onorevoli colleghi, signor Ministro, il provvedimento oggi al nostro esame è frutto di un lavoro di unificazione di diverse proposte di legge - anche il Gruppo Fratelli d'Italia ne aveva presentata una alla Camera e al Senato - con lo scopo di riorganizzare il sistema di istruzione e formazione tecnica superiore, anche alla luce degli obiettivi del PNRR, che ha destinato a questo sistema una cifra considerevole. Gli istituti tecnici superiori esistono da più di dieci anni, rappresentano la formazione ed alta specializzazione tecnologica, sono strettamente integrati con il mondo economico e produttivo e sono nati per valorizzare tanto il capitale umano quanto il sistema produttivo dei territori, per sopperire alla mancanza di tecnici specializzati su alcuni settori. Purtroppo in Italia, però, questo sistema di istruzione e formazione tecnica superiore è rimasto per lo più sconosciuto, come le sue potenzialità di diventare uno strumento per affrontare più facilmente l'ingresso nel mondo del lavoro. Se analizziamo i dati europei, è facile cogliere i ritardi del nostro sistema formativo terziario e la scarsa attrazione verso di esso, considerando che solo lo 0,01 per cento dei giovani tra i diciotto e i venticinque anni sceglie gli istituti tecnici superiori per la prosecuzione della formazione. Spesso questa è poco conosciuta dagli studenti, dalle famiglie e dagli stessi docenti preposti all'orientamento. Tutto ciò è paradossale, alla luce del fatto che in Italia la disoccupazione giovanile è alta e questo tipo di indirizzo è da considerarsi invece una vera e propria risorsa fondamentale. È un'occasione importante al fine di far interagire la comunità scolastica con il sistema delle imprese, in quanto in grado di fornire, attraverso percorsi ben calibrati, una didattica esperienziale incentrata sull'azione diretta e sulla sperimentazione dei compiti e dei ruoli funzionali a quelli della realtà lavorativa sia per quanto riguarda le conoscenze, che le competenze e le strategie. Questo al fine di affrontare le sfide future in un mondo globalizzato e in continuo cambiamento. Inoltre, secondo l'ultimo dato, l'80 per cento dei diplomati che hanno scelto questo percorso ha trovato un'occupazione e di questi il 90 per cento un'occupazione in un'area coerente con il proprio percorso di studi. Pertanto, fondamentale è il ruolo rivestito dall'informazione e dall'orientamento dei giovani e dalla comunicazione alle famiglie sulla natura e sulla potenzialità di questo canale formativo, che non va considerato una seconda scelta rispetto all'università. Un'altra disfunzione che questo sistema ha mostrato è legata alla visione per cui questi istituti devono adeguarsi a profili professionali già definiti. Non vi è l'idea, invece, che possano creare nuovi ruoli, nuovi mestieri e nuove professioni di elevata qualità, grazie all'ampliamento di ulteriori indirizzi, tenendo conto della specificità e delle vocazioni dei nostri territori. In questa direzione, volta all'ampliamento degli indirizzi e alla valorizzazione del made in Italy, andava la proposta del Gruppo Fratelli d'Italia, per inserire percorsi nell'ITS riferiti anche all'alto artigianato artistico, che rappresenta una peculiarità della nostra nazione. Siamo soddisfatti del lavoro fatto in Commissione e vorrei naturalmente ringraziare il presidente Nencini, che è anche relatore del provvedimento, i colleghi e i funzionari, che hanno dato molte volte prova della capacità di lavorare in maniera concreta e stando nel merito dei provvedimenti. Abbiamo licenziato molti disegni di legge in Commissione, accomunati da questo spirito e riteniamo che anche su questa importante opzione, che viene messa in campo, ci possa essere una finalizzazione della risorsa ingente che viene destinata. Siamo infatti ben consapevoli che l'Italia ha un patrimonio identitario, nella sua capacità di proporre qualità, di cui c'è fame nel mondo e che deve trovare uno strumento capace di non far perdere questa identità e le possibilità di realizzazione di tanti giovani. Essi devono infatti sapere che c'è una concreta possibilità di realizzazione anche in questi ambiti e non soltanto in quello delle prestazioni intellettuali. Concludo annunciando il voto favorevole del Gruppo Fratelli d'Italia ed evidenziando che il nostro sforzo, come sempre, è stato di migliorare il testo. La nostra opposizione patriottica e mai pregiudiziale è stata sempre contraddistinta dalla proposta e ci siamo battuti affinché questo strumento possa avere un'aderenza alle vocazioni del territorio e alle istituzioni dello stesso, anche con riferimento alle Regioni, prendendo atto anche del fallimento, che per il passato indubbiamente c'è stato, di una formazione professionale troppe volte pensata per i formatori e non per i formandi. Signor Ministro, speriamo che questo strumento possa rappresentare una concreta possibilità e, con questo spirito, voteremo favorevolmente all'approvazione del provvedimento in esame. [[Applausi.]]\""
      ]
     },
     "execution_count": 4,
     "metadata": {},
     "output_type": "execute_result"
    }
   ],
   "source": [
    "text_id = \"ParlaMint-IT_2022-05-25-LEG18-Senato-sed-437.u102\"\n",
    "df[df[\"ID\"] == text_id].text.iloc[0]"
   ]
  },
  {
   "cell_type": "code",
   "execution_count": 103,
   "id": "e683f74e",
   "metadata": {},
   "outputs": [],
   "source": [
    "#df_m5s = pd.concat([df[df[\"Speaker_party\"] == \"M5S.1\"], df[df[\"Speaker_party\"] == \"M5S.2\"]])\n",
    "#df_scpi = df[df[\"Speaker_party\"] == \"SCpI\"]\n",
    "#df_pd = df[df[\"Speaker_party\"] == \"PD\"]\n",
    "#df_ncd = df[df[\"Speaker_party\"] == \"NCD\"]\n",
    "#df_pdl = df[df[\"Speaker_party\"] == \"PdL\"]\n",
    "#df_fi = df[df[\"Speaker_party\"] == \"FI-BP\"]\n",
    "#df_lnaut =  pd.concat([df[df[\"Speaker_party\"] == \"LN-Aut\"], df[df[\"Speaker_party\"] == \"L-SP\"]])\n",
    "df_fdi = df[df[\"Speaker_party\"] == \"FdI\"]"
   ]
  },
  {
   "cell_type": "code",
   "execution_count": 104,
   "id": "ee775b06",
   "metadata": {},
   "outputs": [],
   "source": [
    "df_ok = df_fdi"
   ]
  },
  {
   "cell_type": "code",
   "execution_count": 130,
   "id": "fbdf56a4",
   "metadata": {
    "scrolled": false
   },
   "outputs": [
    {
     "data": {
      "text/plain": [
       "ID                    ParlaMint-IT_2022-05-25-LEG18-Senato-sed-437.u102\n",
       "Date                                                         2022-05-25\n",
       "Term                                                     18 Legislatura\n",
       "Subcorpus                                                  COVID,Guerra\n",
       "Speaker_minister                                            notMinister\n",
       "Speaker_party                                                       FdI\n",
       "Speaker_party_name                                    Fratelli d'Italia\n",
       "Party_status                                                 Opposition\n",
       "Party_orientation                           Destra verso estrema destra\n",
       "Speaker_ID                                               IannoneAntonio\n",
       "Speaker_gender                                                        M\n",
       "Speaker_birth                                                      1975\n",
       "text                  IANNONE (FdI). Signor Presidente, onorevoli co...\n",
       "text_length                                                        5029\n",
       "Name: 10614, dtype: object"
      ]
     },
     "execution_count": 130,
     "metadata": {},
     "output_type": "execute_result"
    }
   ],
   "source": [
    "df_ok[(df_ok['text'].str.contains(\"\", na=False)) & (df_ok['text_length'] < 8000)].iloc[491]"
   ]
  },
  {
   "cell_type": "code",
   "execution_count": 131,
   "id": "5893180b",
   "metadata": {
    "scrolled": false
   },
   "outputs": [
    {
     "data": {
      "text/plain": [
       "\"IANNONE (FdI). Signor Presidente, onorevoli colleghi, signor Ministro, il provvedimento oggi al nostro esame è frutto di un lavoro di unificazione di diverse proposte di legge - anche il Gruppo Fratelli d'Italia ne aveva presentata una alla Camera e al Senato - con lo scopo di riorganizzare il sistema di istruzione e formazione tecnica superiore, anche alla luce degli obiettivi del PNRR, che ha destinato a questo sistema una cifra considerevole. Gli istituti tecnici superiori esistono da più di dieci anni, rappresentano la formazione ed alta specializzazione tecnologica, sono strettamente integrati con il mondo economico e produttivo e sono nati per valorizzare tanto il capitale umano quanto il sistema produttivo dei territori, per sopperire alla mancanza di tecnici specializzati su alcuni settori. Purtroppo in Italia, però, questo sistema di istruzione e formazione tecnica superiore è rimasto per lo più sconosciuto, come le sue potenzialità di diventare uno strumento per affrontare più facilmente l'ingresso nel mondo del lavoro. Se analizziamo i dati europei, è facile cogliere i ritardi del nostro sistema formativo terziario e la scarsa attrazione verso di esso, considerando che solo lo 0,01 per cento dei giovani tra i diciotto e i venticinque anni sceglie gli istituti tecnici superiori per la prosecuzione della formazione. Spesso questa è poco conosciuta dagli studenti, dalle famiglie e dagli stessi docenti preposti all'orientamento. Tutto ciò è paradossale, alla luce del fatto che in Italia la disoccupazione giovanile è alta e questo tipo di indirizzo è da considerarsi invece una vera e propria risorsa fondamentale. È un'occasione importante al fine di far interagire la comunità scolastica con il sistema delle imprese, in quanto in grado di fornire, attraverso percorsi ben calibrati, una didattica esperienziale incentrata sull'azione diretta e sulla sperimentazione dei compiti e dei ruoli funzionali a quelli della realtà lavorativa sia per quanto riguarda le conoscenze, che le competenze e le strategie. Questo al fine di affrontare le sfide future in un mondo globalizzato e in continuo cambiamento. Inoltre, secondo l'ultimo dato, l'80 per cento dei diplomati che hanno scelto questo percorso ha trovato un'occupazione e di questi il 90 per cento un'occupazione in un'area coerente con il proprio percorso di studi. Pertanto, fondamentale è il ruolo rivestito dall'informazione e dall'orientamento dei giovani e dalla comunicazione alle famiglie sulla natura e sulla potenzialità di questo canale formativo, che non va considerato una seconda scelta rispetto all'università. Un'altra disfunzione che questo sistema ha mostrato è legata alla visione per cui questi istituti devono adeguarsi a profili professionali già definiti. Non vi è l'idea, invece, che possano creare nuovi ruoli, nuovi mestieri e nuove professioni di elevata qualità, grazie all'ampliamento di ulteriori indirizzi, tenendo conto della specificità e delle vocazioni dei nostri territori. In questa direzione, volta all'ampliamento degli indirizzi e alla valorizzazione del made in Italy, andava la proposta del Gruppo Fratelli d'Italia, per inserire percorsi nell'ITS riferiti anche all'alto artigianato artistico, che rappresenta una peculiarità della nostra nazione. Siamo soddisfatti del lavoro fatto in Commissione e vorrei naturalmente ringraziare il presidente Nencini, che è anche relatore del provvedimento, i colleghi e i funzionari, che hanno dato molte volte prova della capacità di lavorare in maniera concreta e stando nel merito dei provvedimenti. Abbiamo licenziato molti disegni di legge in Commissione, accomunati da questo spirito e riteniamo che anche su questa importante opzione, che viene messa in campo, ci possa essere una finalizzazione della risorsa ingente che viene destinata. Siamo infatti ben consapevoli che l'Italia ha un patrimonio identitario, nella sua capacità di proporre qualità, di cui c'è fame nel mondo e che deve trovare uno strumento capace di non far perdere questa identità e le possibilità di realizzazione di tanti giovani. Essi devono infatti sapere che c'è una concreta possibilità di realizzazione anche in questi ambiti e non soltanto in quello delle prestazioni intellettuali. Concludo annunciando il voto favorevole del Gruppo Fratelli d'Italia ed evidenziando che il nostro sforzo, come sempre, è stato di migliorare il testo. La nostra opposizione patriottica e mai pregiudiziale è stata sempre contraddistinta dalla proposta e ci siamo battuti affinché questo strumento possa avere un'aderenza alle vocazioni del territorio e alle istituzioni dello stesso, anche con riferimento alle Regioni, prendendo atto anche del fallimento, che per il passato indubbiamente c'è stato, di una formazione professionale troppe volte pensata per i formatori e non per i formandi. Signor Ministro, speriamo che questo strumento possa rappresentare una concreta possibilità e, con questo spirito, voteremo favorevolmente all'approvazione del provvedimento in esame. [[Applausi.]]\""
      ]
     },
     "execution_count": 131,
     "metadata": {},
     "output_type": "execute_result"
    }
   ],
   "source": [
    "#id_s = \"ParlaMint-IT_2019-10-23-LEG18-Senato-sed-158.u71\"\n",
    "id_s = df_ok[(df_ok['text'].str.contains(\"\", na=False)) & (df_ok['text_length'] < 8000)].iloc[491][\"ID\"]\n",
    "df_ok[df_ok[\"ID\"] == id_s].text.iloc[0]"
   ]
  },
  {
   "cell_type": "code",
   "execution_count": null,
   "id": "11c82a2c",
   "metadata": {},
   "outputs": [],
   "source": []
  }
 ],
 "metadata": {
  "kernelspec": {
   "display_name": "Python 3 (ipykernel)",
   "language": "python",
   "name": "python3"
  },
  "language_info": {
   "codemirror_mode": {
    "name": "ipython",
    "version": 3
   },
   "file_extension": ".py",
   "mimetype": "text/x-python",
   "name": "python",
   "nbconvert_exporter": "python",
   "pygments_lexer": "ipython3",
   "version": "3.11.4"
  }
 },
 "nbformat": 4,
 "nbformat_minor": 5
}
