{
 "cells": [
  {
   "cell_type": "code",
   "execution_count": 59,
   "id": "3fbc0cd4",
   "metadata": {},
   "outputs": [],
   "source": [
    "import pandas as pd\n",
    "import numpy as np\n",
    "from sklearn.svm import LinearSVC\n",
    "import ast\n",
    "from sklearn.svm import SVC\n",
    "from sklearn.model_selection import cross_val_predict\n",
    "from sklearn.metrics import classification_report"
   ]
  },
  {
   "cell_type": "code",
   "execution_count": 11,
   "id": "bef02b69",
   "metadata": {},
   "outputs": [],
   "source": [
    "df = pd.read_csv(\"data/annotated_dataset/annotated_texts_repr_pro_complete.csv\", sep=\",\", encoding=\"utf-8\")"
   ]
  },
  {
   "cell_type": "code",
   "execution_count": 17,
   "id": "df99dce1",
   "metadata": {},
   "outputs": [],
   "source": [
    "x_tfidf_pro = df[\"tfidf_pro\"]\n",
    "x_tfidf_pro = np.array([ast.literal_eval(item) for item in x_tfidf_pro])\n",
    "\n",
    "y_pol = df[\"polarization\"]\n",
    "\n",
    "y_pop = df[\"pop_sum\"]\n",
    "y_pop = [0 if x < 2 else 1 for x in y_pop]"
   ]
  },
  {
   "cell_type": "code",
   "execution_count": 63,
   "id": "4cf99aac",
   "metadata": {},
   "outputs": [],
   "source": [
    "features =['parte','molto','lavoro','quando','anni','provvedimento','solo','prima','ancora','presidente','paese','legge','signor','governo','poi','fatto','italia','politica','commissione','già','stato','oggi','articolo','essere','ministro','quindi','fare','decreto','stars','score','neutral','approval','annoyance','realization','disapproval','confusion','disappointment','admiration','anger','disgust','amusement','optimism','excitement','sadness','joy','curiosity','fear','surprise','love','caring','gratitude','embarrassment','desire','grief','pride','relief','nervousness','remorse']\n",
    "\n",
    "def get_coefs(X, Y):\n",
    "    model = LinearSVC(C=0.1, class_weight='balanced', loss='squared_hinge', penalty='l1', dual=False, max_iter=10000)\n",
    "    model.fit(X, Y)\n",
    "    coefs_list = model.coef_\n",
    "    \n",
    "    return coefs_list\n",
    "\n",
    "def coefs_analysis(X, Y):\n",
    "    coefs_list = get_coefs(X,Y)\n",
    "\n",
    "    for coefs in coefs_list:\n",
    "        list300 = [\"f\"+str(i) for i in range(300)]\n",
    "        diz = dict(zip(list300+features, coefs))\n",
    "        sorted_items = sorted(diz.items(), key=lambda item: item[1], reverse=True)\n",
    "        filtered_data = [(s, n) for s, n in sorted_items if abs(n) >= 1]\n",
    "        print(filtered_data)\n",
    "        print(\"------\")\n",
    "\n",
    "def coefs_analysis_interpretable(X, Y):\n",
    "    coefs_list = get_coefs(X,Y)\n",
    "    \n",
    "    for coefs in coefs_list:\n",
    "        diz = dict(zip(features, coefs[301:]))\n",
    "        sorted_items = sorted(diz.items(), key=lambda item: item[1], reverse=True)\n",
    "        filtered_data = [(s, n) for s, n in sorted_items if abs(n) >= 0.05]\n",
    "        print(filtered_data)\n",
    "        print(\"------\")\n",
    "        \n",
    "def how_many_sv(X,Y):\n",
    "    print(\"Prestazioni:\")\n",
    "    model = SVC(kernel='linear', C=0.1, random_state=42)\n",
    "    predictions = cross_val_predict(model, X, Y, cv=3)\n",
    "    print(classification_report(Y, predictions))\n",
    "    \n",
    "    model = SVC(kernel='linear', C=0.1, random_state=42)\n",
    "    model.fit(X, Y)\n",
    "    support_vectors = model.support_vectors_\n",
    "    print(\"#SV: \", len(support_vectors))"
   ]
  },
  {
   "cell_type": "markdown",
   "id": "840f0457",
   "metadata": {},
   "source": [
    "### Populism"
   ]
  },
  {
   "cell_type": "code",
   "execution_count": 40,
   "id": "b46b84f5",
   "metadata": {},
   "outputs": [
    {
     "name": "stdout",
     "output_type": "stream",
     "text": [
      "[('f5', 7.566545083548244), ('f19', 3.586608866343949), ('f3', 3.2280973569332243), ('f30', 2.864806515487532), ('f11', 2.7360636192172443), ('f10', 2.605006476915449), ('f2', 2.2994145549109906), ('f26', 2.2410041819558826), ('f51', 2.1442968979744546), ('f22', 1.8562598608142868), ('f116', 1.853015305484178), ('f20', 1.5337862427635147), ('f21', 1.135365787331736), ('f31', 1.0593751439680643), ('f71', -1.0744156930274542), ('f39', -1.1051431445616497), ('f58', -1.190401162714236), ('f12', -1.2685178815003957), ('f121', -1.2887906349684597), ('f55', -1.3013362633430992), ('f18', -1.3464241018069916), ('f9', -1.381122191424459), ('f44', -1.4431021533095623), ('f32', -1.4720052740836993), ('f7', -2.2847283062079247), ('f8', -2.5584409058266515), ('f43', -3.1857453717216395), ('f1', -3.2504953774085936)]\n",
      "------\n"
     ]
    }
   ],
   "source": [
    "coefs_analysis(x_tfidf_pro, y_pop)"
   ]
  },
  {
   "cell_type": "code",
   "execution_count": 51,
   "id": "f117439b",
   "metadata": {},
   "outputs": [
    {
     "name": "stdout",
     "output_type": "stream",
     "text": [
      "[('stato', 0.05747833698055603), ('ministro', 0.05312843207764623), ('decreto', -0.07712492061537851), ('lavoro', -0.08106680171590175), ('stars', -0.20005228621286594)]\n",
      "------\n"
     ]
    }
   ],
   "source": [
    "coefs_analysis_interpretable(x_tfidf_pro, y_pop)"
   ]
  },
  {
   "cell_type": "code",
   "execution_count": 64,
   "id": "6e5e2862",
   "metadata": {},
   "outputs": [
    {
     "name": "stdout",
     "output_type": "stream",
     "text": [
      "Prestazioni:\n",
      "              precision    recall  f1-score   support\n",
      "\n",
      "           0       0.78      0.87      0.82      6366\n",
      "           1       0.78      0.65      0.71      4474\n",
      "\n",
      "    accuracy                           0.78     10840\n",
      "   macro avg       0.78      0.76      0.76     10840\n",
      "weighted avg       0.78      0.78      0.77     10840\n",
      "\n",
      "#SV:  6922\n"
     ]
    }
   ],
   "source": [
    "how_many_sv(x_tfidf_pro, y_pop)"
   ]
  },
  {
   "cell_type": "markdown",
   "id": "99659deb",
   "metadata": {},
   "source": [
    "### Polarization"
   ]
  },
  {
   "cell_type": "code",
   "execution_count": 42,
   "id": "7f6ef21e",
   "metadata": {
    "scrolled": true
   },
   "outputs": [
    {
     "name": "stdout",
     "output_type": "stream",
     "text": [
      "[('f39', 3.7481519824705973), ('f131', 2.7385391808777277), ('f73', 2.3622456487425985), ('f62', 2.2693830248041253), ('f6', 2.2047207838136553), ('f17', 2.0171405778536156), ('f72', 1.9860131380249353), ('f91', 1.9736573042425753), ('f79', 1.8920533794866587), ('f77', 1.7952646203899327), ('f71', 1.736197708135079), ('f138', 1.674231567886354), ('f48', 1.6222513424442078), ('f4', 1.5084264669836167), ('f28', 1.4770414048189002), ('f114', 1.3189615710952296), ('f9', 1.2991259411322562), ('f80', 1.2767455033352144), ('f65', 1.2551478333744879), ('f11', 1.2516898943070411), ('f33', 1.1631476852233364), ('f169', 1.1109576127517922), ('f75', 1.1013722870216074), ('f8', 1.0868137338307922), ('f191', 1.0119573813378389), ('f121', -1.055143867652856), ('f146', -1.1811103658680646), ('f46', -1.3379549697647917), ('f143', -1.4168508852540391), ('f51', -1.4482703321853412), ('f23', -1.4683333159097127), ('f52', -1.5540794235899262), ('f90', -1.7301095936810278), ('f7', -1.7498352206972683), ('f97', -1.75234271393642), ('f10', -1.7792170994228311), ('f64', -1.8662130330376208), ('f30', -2.2047978167101263), ('f140', -2.2083363010233743), ('f63', -2.4130325531207206), ('f38', -2.9266040912725773), ('f3', -3.442095354390648)]\n",
      "------\n",
      "[('f54', 3.2962353932977315), ('f62', 2.5039287126889183), ('f1', 2.305042779495121), ('f63', 1.9967477328468426), ('f100', 1.963427399105851), ('f80', 1.7156280114066809), ('f33', 1.5800742496174185), ('f29', 1.5068645948339796), ('f64', 1.4341140561317052), ('f35', 1.3541508116514671), ('f122', 1.3176709718165671), ('f21', 1.3049163689454137), ('f75', 1.2708012599590193), ('f28', 1.2016304848184898), ('f78', 1.1563197601358157), ('f127', 1.0977772707288953), ('f25', 1.0341217512076244), ('f89', -1.0843352043009242), ('f16', -1.2040969068980716), ('f11', -1.304025677600084), ('f96', -1.362348970756373), ('f45', -1.3749185537409059), ('f19', -1.3931445162396874), ('f55', -1.4536852171766284), ('f69', -1.7868391742053658), ('f5', -2.463866324808917), ('f18', -2.4891355431724422), ('f79', -2.6343060888356433)]\n",
      "------\n",
      "[('f5', 2.6245976618276194), ('f19', 2.324003794523061), ('f55', 1.997532500473309), ('f69', 1.7714631806009338), ('f18', 1.7380078544630042), ('f38', 1.6911524982139807), ('f3', 1.5219098746520623), ('f89', 1.5118281829266322), ('f7', 1.3276089943037028), ('f16', 1.2391008136929877), ('f79', 1.1950073892157453), ('f96', 1.1519923527797884), ('f40', 1.0121942126957972), ('f42', -1.00095607240075), ('f27', -1.0824705573770688), ('f59', -1.0909791940458122), ('f35', -1.103757752466157), ('f76', -1.1136496614819547), ('f139', -1.1172763161023735), ('f136', -1.168561743561212), ('f113', -1.2678741471348869), ('f114', -1.3973191077773104), ('f78', -1.4609498495219218), ('f77', -1.4973212505668938), ('f94', -1.7827854260209244), ('f60', -2.0225784432226366), ('f100', -2.0275699359341703), ('f71', -2.08179772854903), ('f6', -2.158109866653344), ('f1', -2.3932508394282106), ('f29', -2.5856894063416784), ('f75', -2.5946065727817755), ('f28', -2.8330898738422334), ('f33', -2.93415697881244), ('f80', -3.1636505446354612), ('f54', -3.678201849294113), ('f39', -3.83287972303871), ('f62', -4.75511887642657)]\n",
      "------\n"
     ]
    }
   ],
   "source": [
    "coefs_analysis(x_tfidf_pro, y_pol)"
   ]
  },
  {
   "cell_type": "code",
   "execution_count": 52,
   "id": "d3a300ee",
   "metadata": {
    "scrolled": true
   },
   "outputs": [
    {
     "name": "stdout",
     "output_type": "stream",
     "text": [
      "[('ancora', 0.083552834200633), ('paese', 0.054372245285676885), ('già', 0.051433153737565525), ('quando', 0.05104282993806386), ('essere', 0.05101189851674764), ('commissione', -0.05961460110504681), ('lavoro', -0.06860178435019187)]\n",
      "------\n",
      "[('articolo', 0.05366397876571643), ('parte', -0.052001333089398846), ('poi', -0.08504811929068705), ('oggi', -0.10487147327355666)]\n",
      "------\n",
      "[('poi', 0.13514473440287336), ('oggi', 0.12470855914136139), ('lavoro', 0.07728284565577828), ('ministro', 0.06483028616401644), ('commissione', 0.058077055166231455), ('già', -0.06693448778850328), ('stars', -0.37463085059798684)]\n",
      "------\n"
     ]
    }
   ],
   "source": [
    "coefs_analysis_interpretable(x_tfidf_pro, y_pol)"
   ]
  },
  {
   "cell_type": "code",
   "execution_count": 65,
   "id": "828a08fa",
   "metadata": {},
   "outputs": [
    {
     "name": "stdout",
     "output_type": "stream",
     "text": [
      "Prestazioni:\n",
      "              precision    recall  f1-score   support\n",
      "\n",
      "           0       0.88      0.00      0.01      1651\n",
      "           1       0.58      0.74      0.65      4957\n",
      "           2       0.61      0.65      0.63      4232\n",
      "\n",
      "    accuracy                           0.59     10840\n",
      "   macro avg       0.69      0.46      0.43     10840\n",
      "weighted avg       0.64      0.59      0.54     10840\n",
      "\n",
      "#SV:  8850\n"
     ]
    }
   ],
   "source": [
    "how_many_sv(x_tfidf_pro, y_pol)"
   ]
  },
  {
   "cell_type": "code",
   "execution_count": null,
   "id": "75366c62",
   "metadata": {},
   "outputs": [],
   "source": []
  }
 ],
 "metadata": {
  "kernelspec": {
   "display_name": "Python 3 (ipykernel)",
   "language": "python",
   "name": "python3"
  },
  "language_info": {
   "codemirror_mode": {
    "name": "ipython",
    "version": 3
   },
   "file_extension": ".py",
   "mimetype": "text/x-python",
   "name": "python",
   "nbconvert_exporter": "python",
   "pygments_lexer": "ipython3",
   "version": "3.11.4"
  }
 },
 "nbformat": 4,
 "nbformat_minor": 5
}
