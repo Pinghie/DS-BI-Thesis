{
 "cells": [
  {
   "cell_type": "code",
   "execution_count": 11,
   "id": "3fbc0cd4",
   "metadata": {},
   "outputs": [],
   "source": [
    "import pandas as pd\n",
    "import numpy as np\n",
    "from sklearn.svm import LinearSVC\n",
    "import ast\n",
    "from sklearn.svm import SVC\n",
    "from sklearn.model_selection import cross_val_predict\n",
    "from sklearn.metrics import classification_report\n",
    "import statistics"
   ]
  },
  {
   "cell_type": "code",
   "execution_count": 2,
   "id": "bef02b69",
   "metadata": {},
   "outputs": [],
   "source": [
    "df = pd.read_csv(\"data/annotated_dataset/annotated_texts_repr_pro_complete.csv\", sep=\",\", encoding=\"utf-8\")"
   ]
  },
  {
   "cell_type": "code",
   "execution_count": 3,
   "id": "df99dce1",
   "metadata": {},
   "outputs": [],
   "source": [
    "x_tfidf_pro = df[\"tfidf_pro\"]\n",
    "x_tfidf_pro = np.array([ast.literal_eval(item) for item in x_tfidf_pro])\n",
    "\n",
    "y_pol = df[\"polarization\"]\n",
    "\n",
    "y_pop = df[\"pop_sum\"]\n",
    "y_pop = [0 if x < 2 else 1 for x in y_pop]"
   ]
  },
  {
   "cell_type": "code",
   "execution_count": 4,
   "id": "e3da138a",
   "metadata": {},
   "outputs": [],
   "source": [
    "features =['parte','molto','lavoro','quando','anni','provvedimento','solo','prima','ancora','presidente','paese','legge','signor','governo','poi','fatto','italia','politica','commissione','già','stato','oggi','articolo','essere','ministro','quindi','fare','decreto','stars','score','neutral','approval','annoyance','realization','disapproval','confusion','disappointment','admiration','anger','disgust','amusement','optimism','excitement','sadness','joy','curiosity','fear','surprise','love','caring','gratitude','embarrassment','desire','grief','pride','relief','nervousness','remorse']\n",
    "list300 = [\"f\"+str(i) for i in range(300)]\n",
    "features_final = list300 + features"
   ]
  },
  {
   "cell_type": "code",
   "execution_count": 12,
   "id": "4cf99aac",
   "metadata": {},
   "outputs": [],
   "source": [
    "def get_coefs(X, Y):\n",
    "    model = LinearSVC(C=0.1, class_weight='balanced', loss='squared_hinge', penalty='l1', dual=False, max_iter=10000)\n",
    "    model.fit(X, Y)\n",
    "    coefs_list = model.coef_\n",
    "    \n",
    "    return coefs_list\n",
    "\n",
    "def coefs_analysis(X, Y, features, thr=1):\n",
    "    coefs_list = get_coefs(X,Y)\n",
    "\n",
    "    for coefs in coefs_list:\n",
    "        diz = dict(zip(features, coefs))\n",
    "        sorted_items = sorted(diz.items(), key=lambda item: item[1], reverse=True)\n",
    "        filtered_data = [(s, n) for s, n in sorted_items if abs(n) >= thr]\n",
    "        print(filtered_data)\n",
    "        print(\"------\")\n",
    "        coefs_values = [x[1] for x in filtered_data]\n",
    "        print(\"media: \", statistics.mean(coefs_values))\n",
    "        print(\"std\", statistics.stdev(coefs_values))\n",
    "        print(\"median\", statistics.median(coefs_values))\n",
    "        print(\"min\", min(coefs_values))\n",
    "        print(\"max\", max(coefs_values))\n",
    "        #print(coefs_values)\n",
    "        print(\"--------------\")\n",
    "\n",
    "def coefs_analysis_interpretable(X, Y):\n",
    "    coefs_list = get_coefs(X,Y)\n",
    "    \n",
    "    for coefs in coefs_list:\n",
    "        diz = dict(zip(features, coefs[301:]))\n",
    "        sorted_items = sorted(diz.items(), key=lambda item: item[1], reverse=True)\n",
    "        filtered_data = [(s, n) for s, n in sorted_items if abs(n) >= 0.05]\n",
    "        print(filtered_data)\n",
    "        print(\"------\")\n",
    "        \n",
    "def how_many_sv(X,Y):\n",
    "    print(\"Prestazioni:\")\n",
    "    model = SVC(kernel='linear', C=0.1, random_state=42)\n",
    "    predictions = cross_val_predict(model, X, Y, cv=3)\n",
    "    print(classification_report(Y, predictions))\n",
    "    \n",
    "    model = SVC(kernel='linear', C=0.1, random_state=42)\n",
    "    model.fit(X, Y)\n",
    "    support_vectors = model.support_vectors_\n",
    "    print(\"#SV: \", len(support_vectors))"
   ]
  },
  {
   "cell_type": "markdown",
   "id": "840f0457",
   "metadata": {},
   "source": [
    "### Populism"
   ]
  },
  {
   "cell_type": "code",
   "execution_count": 13,
   "id": "b46b84f5",
   "metadata": {},
   "outputs": [
    {
     "name": "stdout",
     "output_type": "stream",
     "text": [
      "[('f5', 7.566617821730621), ('f19', 3.5866729020432935), ('f3', 3.2281429328938107), ('f30', 2.864822543078501), ('f11', 2.7360443706329987), ('f10', 2.605091305371848), ('f2', 2.299439046229669), ('f26', 2.2411002460599594), ('f51', 2.1442759593212433), ('f22', 1.85628068426205), ('f116', 1.853032409708936), ('f20', 1.5337858984103108), ('f21', 1.135464118871208), ('f31', 1.0593882874546332), ('f71', -1.074343313313792), ('f39', -1.1052047139043608), ('f58', -1.1903667505793791), ('f12', -1.26846115638948), ('f121', -1.2887597678278904), ('f55', -1.3014203081768392), ('f18', -1.3465099779400225), ('f9', -1.3811904530731265), ('f44', -1.4432598574309456), ('f32', -1.4720610664056895), ('f7', -2.2848510631490684), ('f8', -2.5583302324253263), ('f43', -3.1857482103849084), ('f1', -3.2504472448608097)]\n",
      "------\n",
      "media:  0.44854301465026586\n",
      "std 2.532335967794366\n",
      "median -0.007477512929579433\n",
      "min -3.2504472448608097\n",
      "max 7.566617821730621\n",
      "--------------\n"
     ]
    }
   ],
   "source": [
    "coefs_analysis(x_tfidf_pro, y_pop, features_final)"
   ]
  },
  {
   "cell_type": "code",
   "execution_count": 51,
   "id": "f117439b",
   "metadata": {},
   "outputs": [
    {
     "name": "stdout",
     "output_type": "stream",
     "text": [
      "[('stato', 0.05747833698055603), ('ministro', 0.05312843207764623), ('decreto', -0.07712492061537851), ('lavoro', -0.08106680171590175), ('stars', -0.20005228621286594)]\n",
      "------\n"
     ]
    }
   ],
   "source": [
    "coefs_analysis_interpretable(x_tfidf_pro, y_pop)"
   ]
  },
  {
   "cell_type": "code",
   "execution_count": 64,
   "id": "6e5e2862",
   "metadata": {},
   "outputs": [
    {
     "name": "stdout",
     "output_type": "stream",
     "text": [
      "Prestazioni:\n",
      "              precision    recall  f1-score   support\n",
      "\n",
      "           0       0.78      0.87      0.82      6366\n",
      "           1       0.78      0.65      0.71      4474\n",
      "\n",
      "    accuracy                           0.78     10840\n",
      "   macro avg       0.78      0.76      0.76     10840\n",
      "weighted avg       0.78      0.78      0.77     10840\n",
      "\n",
      "#SV:  6922\n"
     ]
    }
   ],
   "source": [
    "how_many_sv(x_tfidf_pro, y_pop)"
   ]
  },
  {
   "cell_type": "markdown",
   "id": "99659deb",
   "metadata": {},
   "source": [
    "### Polarization"
   ]
  },
  {
   "cell_type": "code",
   "execution_count": 15,
   "id": "7f6ef21e",
   "metadata": {
    "scrolled": true
   },
   "outputs": [
    {
     "name": "stdout",
     "output_type": "stream",
     "text": [
      "[('f39', 3.748387252762641), ('f131', 2.738592592972002), ('f73', 2.361999978138488), ('f62', 2.2696264883732082), ('f6', 2.2053322928079266), ('f17', 2.0171616076235317), ('f72', 1.9861393132302811), ('f91', 1.9736522616406897), ('f79', 1.8923264593973383), ('f77', 1.7951934103994158), ('f71', 1.736065540100317), ('f138', 1.6745844122440559), ('f48', 1.6224639524877609), ('f4', 1.508182268570854), ('f28', 1.4769936792601874), ('f114', 1.3190149796137158), ('f9', 1.2993966753907198), ('f80', 1.2766268537529084), ('f65', 1.2550319170367035), ('f11', 1.2517614440614044), ('f33', 1.163189414295332), ('f169', 1.1109509569163507), ('f75', 1.1014113417574358), ('f8', 1.0864777564969326), ('f191', 1.011895662680073), ('f121', -1.0551859851317174), ('f146', -1.1811667607173861), ('f46', -1.3376156646878195), ('f143', -1.4167384295232697), ('f51', -1.4481311003194297), ('f23', -1.468349847976177), ('f52', -1.5543160728783671), ('f90', -1.7298784306628399), ('f7', -1.7495172911895474), ('f97', -1.7525505354167947), ('f10', -1.7795123530636467), ('f64', -1.8663644169175189), ('f30', -2.2049583683781666), ('f140', -2.208223032188009), ('f63', -2.413345723965294), ('f38', -2.9266302391962076), ('f3', -3.4422214426575484)]\n",
      "------\n",
      "media:  0.2701845908842984\n",
      "std 1.8781613939987807\n",
      "median 1.1370701856058414\n",
      "min -3.4422214426575484\n",
      "max 3.748387252762641\n",
      "--------------\n",
      "[('f54', 3.296126858347235), ('f62', 2.5038145962287923), ('f1', 2.3052616342506957), ('f63', 1.9968150430817035), ('f100', 1.963213308531336), ('f80', 1.7157036752891948), ('f33', 1.5801276038252334), ('f29', 1.5070370680497223), ('f64', 1.4343033158485365), ('f35', 1.3540900784800156), ('f122', 1.3178073300283706), ('f21', 1.3051685448961623), ('f75', 1.2708121334649178), ('f28', 1.201659335131623), ('f78', 1.1563833702423763), ('f127', 1.0976638863173247), ('f25', 1.0340626046774126), ('f89', -1.0842106118172476), ('f16', -1.2042445082101865), ('f11', -1.3041047062441524), ('f96', -1.3622618145389294), ('f45', -1.374976002225657), ('f19', -1.3929622989992734), ('f55', -1.4538363780549541), ('f69', -1.7863865373643357), ('f5', -2.4635024143879622), ('f18', -2.489250568834675), ('f79', -2.6344107446011438)]\n",
      "------\n",
      "media:  0.3389251357647191\n",
      "std 1.7565632478012505\n",
      "median 1.1790213526869997\n",
      "min -2.6344107446011438\n",
      "max 3.296126858347235\n",
      "--------------\n",
      "[('f5', 2.622619951405716), ('f19', 2.323510259345863), ('f55', 1.9979085859306571), ('f69', 1.770892555237439), ('f18', 1.737900247891737), ('f38', 1.6913295212364499), ('f3', 1.520569164527648), ('f89', 1.5114448238072429), ('f7', 1.3275825816021694), ('f16', 1.2386683854325147), ('f79', 1.195261660767446), ('f96', 1.1520993688733294), ('f40', 1.012855897807092), ('f42', -1.0005841586479196), ('f27', -1.0828016028090406), ('f59', -1.0907850755986297), ('f35', -1.1042532381935968), ('f76', -1.1145016977519064), ('f139', -1.1174371079072833), ('f136', -1.1677140642878503), ('f113', -1.2680459065036975), ('f114', -1.3975485745125769), ('f78', -1.462172676485661), ('f77', -1.4973077834221917), ('f94', -1.7827863241668116), ('f60', -2.0218279689890397), ('f100', -2.0275882220153956), ('f71', -2.0819365749603356), ('f6', -2.157213172843714), ('f1', -2.3916703201359844), ('f29', -2.5860099649132233), ('f75', -2.5950092519334995), ('f28', -2.8338082828661455), ('f33', -2.9339700274142175), ('f80', -3.162843136267786), ('f54', -3.6783919124358873), ('f39', -3.8337667342770216), ('f62', -4.755154610751272)]\n",
      "------\n",
      "media:  -0.8169075101638259\n",
      "std 1.9794133298973593\n",
      "median -1.1425755860975668\n",
      "min -4.755154610751272\n",
      "max 2.622619951405716\n",
      "--------------\n"
     ]
    }
   ],
   "source": [
    "coefs_analysis(x_tfidf_pro, y_pol, features_final)"
   ]
  },
  {
   "cell_type": "code",
   "execution_count": 52,
   "id": "d3a300ee",
   "metadata": {
    "scrolled": true
   },
   "outputs": [
    {
     "name": "stdout",
     "output_type": "stream",
     "text": [
      "[('ancora', 0.083552834200633), ('paese', 0.054372245285676885), ('già', 0.051433153737565525), ('quando', 0.05104282993806386), ('essere', 0.05101189851674764), ('commissione', -0.05961460110504681), ('lavoro', -0.06860178435019187)]\n",
      "------\n",
      "[('articolo', 0.05366397876571643), ('parte', -0.052001333089398846), ('poi', -0.08504811929068705), ('oggi', -0.10487147327355666)]\n",
      "------\n",
      "[('poi', 0.13514473440287336), ('oggi', 0.12470855914136139), ('lavoro', 0.07728284565577828), ('ministro', 0.06483028616401644), ('commissione', 0.058077055166231455), ('già', -0.06693448778850328), ('stars', -0.37463085059798684)]\n",
      "------\n"
     ]
    }
   ],
   "source": [
    "coefs_analysis_interpretable(x_tfidf_pro, y_pol)"
   ]
  },
  {
   "cell_type": "code",
   "execution_count": 65,
   "id": "828a08fa",
   "metadata": {},
   "outputs": [
    {
     "name": "stdout",
     "output_type": "stream",
     "text": [
      "Prestazioni:\n",
      "              precision    recall  f1-score   support\n",
      "\n",
      "           0       0.88      0.00      0.01      1651\n",
      "           1       0.58      0.74      0.65      4957\n",
      "           2       0.61      0.65      0.63      4232\n",
      "\n",
      "    accuracy                           0.59     10840\n",
      "   macro avg       0.69      0.46      0.43     10840\n",
      "weighted avg       0.64      0.59      0.54     10840\n",
      "\n",
      "#SV:  8850\n"
     ]
    }
   ],
   "source": [
    "how_many_sv(x_tfidf_pro, y_pol)"
   ]
  },
  {
   "cell_type": "markdown",
   "id": "b52ba274",
   "metadata": {},
   "source": [
    "# Speaker data"
   ]
  },
  {
   "cell_type": "code",
   "execution_count": 16,
   "id": "fc07879f",
   "metadata": {},
   "outputs": [],
   "source": [
    "df_speaker = pd.read_csv(\"data/annotated_dataset/speaker_data.csv\", sep=\",\", encoding=\"utf-8\")"
   ]
  },
  {
   "cell_type": "code",
   "execution_count": 17,
   "id": "87517281",
   "metadata": {},
   "outputs": [],
   "source": [
    "x_tfidf_speaker = df_speaker[\"tfidf\"]\n",
    "x_tfidf_speaker = np.array([ast.literal_eval(item) for item in x_tfidf_speaker])\n",
    "\n",
    "y_pol = df_speaker[\"polarization\"]\n",
    "y_pol = [0 if x <= 0.75 else 1 if x<=1.45 else 2 for x in y_pol]\n",
    "\n",
    "y_pop = df_speaker[\"pop_sum\"]\n",
    "y_pop = [0 if x < 2 else 1 for x in y_pop]"
   ]
  },
  {
   "cell_type": "code",
   "execution_count": 18,
   "id": "3159f8d9",
   "metadata": {},
   "outputs": [],
   "source": [
    "interpretable_feats = ['parte','molto','lavoro','quando','anni','provvedimento','solo','prima','ancora','presidente','paese','legge','signor','governo','poi','fatto','italia','politica','commissione','già','stato','oggi','articolo','essere','ministro','quindi','fare','decreto','stars','score','neutral','approval','annoyance','realization','disapproval','confusion','disappointment','admiration','anger','disgust','amusement','optimism','excitement','sadness','joy','curiosity','fear','surprise','love','caring','gratitude','embarrassment','desire','grief','pride','relief','nervousness']\n",
    "feature_speaker = [\"f\"+str(i) for i in range(300)] + [x+\"_avg\" for x in interpretable_feats] + [\"f\"+str(i) for i in range(358, 658)] + [x+\"_std\" for x in interpretable_feats]"
   ]
  },
  {
   "cell_type": "markdown",
   "id": "7f0c60ee",
   "metadata": {},
   "source": [
    "#### Populism"
   ]
  },
  {
   "cell_type": "code",
   "execution_count": 19,
   "id": "85e16065",
   "metadata": {},
   "outputs": [
    {
     "name": "stdout",
     "output_type": "stream",
     "text": [
      "[('signor_avg', 0.7429140003979866), ('molto_avg', 0.5048570832888686), ('paese_avg', 0.4643182685672703), ('prima_avg', 0.3880001018644799), ('decreto_avg', 0.21724585291221388), ('italia_avg', 0.1814819164601278), ('politica_avg', 0.17642131214320178), ('commissione_avg', -0.1476567748269452), ('articolo_std', -0.29010781929159135), ('ancora_avg', -0.43577547319040694), ('presidente_avg', -0.48323445963928136), ('già_avg', -0.5263347401398555), ('stars_avg', -0.5859467234358269)]\n",
      "------\n",
      "media:  0.015860195777710896\n",
      "std 0.4500616576212871\n",
      "median 0.17642131214320178\n",
      "min -0.5859467234358269\n",
      "max 0.7429140003979866\n",
      "--------------\n"
     ]
    }
   ],
   "source": [
    "coefs_analysis(x_tfidf_speaker, y_pop, feature_speaker, 0.01)"
   ]
  },
  {
   "cell_type": "code",
   "execution_count": 45,
   "id": "84cde53b",
   "metadata": {},
   "outputs": [
    {
     "name": "stdout",
     "output_type": "stream",
     "text": [
      "Prestazioni:\n",
      "              precision    recall  f1-score   support\n",
      "\n",
      "           0       0.75      0.96      0.84       344\n",
      "           1       0.79      0.33      0.47       163\n",
      "\n",
      "    accuracy                           0.76       507\n",
      "   macro avg       0.77      0.65      0.66       507\n",
      "weighted avg       0.77      0.76      0.72       507\n",
      "\n",
      "#SV:  311\n"
     ]
    }
   ],
   "source": [
    "how_many_sv(x_tfidf_speaker, y_pop)"
   ]
  },
  {
   "cell_type": "markdown",
   "id": "887c5077",
   "metadata": {},
   "source": [
    "#### Polarization"
   ]
  },
  {
   "cell_type": "code",
   "execution_count": 20,
   "id": "be8782ec",
   "metadata": {},
   "outputs": [
    {
     "name": "stdout",
     "output_type": "stream",
     "text": [
      "[('presidente_avg', 0.6599375940811097), ('stato_avg', 0.38618037632415736), ('stars_std', 0.22346443460718274), ('essere_avg', 0.19865754865299498), ('parte_std', 0.17044188780773023), ('signor_std', 0.1137665292854202), ('stars_avg', 0.09929347927494614), ('oggi_avg', 0.056360300068453884), ('provvedimento_avg', 0.0561189929877814), ('anni_avg', 0.03991487540893726), ('politica_avg', 0.034557294544689844), ('parte_avg', -0.01913874886763936), ('lavoro_avg', -0.16228807022263778), ('già_avg', -0.16570224948328813), ('quindi_avg', -0.22918687864580028), ('articolo_avg', -0.2865442741082326), ('legge_avg', -0.39008730623772053), ('quando_avg', -0.5826138939288844)]\n",
      "------\n",
      "media:  0.011285105086066706\n",
      "std 0.28831453950867447\n",
      "median 0.048016934198359326\n",
      "min -0.5826138939288844\n",
      "max 0.6599375940811097\n",
      "--------------\n",
      "[('articolo_std', 0.6527827548933043), ('decreto_avg', 0.3268805153762193), ('legge_avg', 0.310485518895897), ('parte_avg', 0.1907360394759764), ('governo_avg', 0.07170269942584044), ('fare_std', 0.06914915570683701), ('stars_avg', 0.0555811098545556), ('signor_avg', -0.06090851182054204), ('solo_avg', -0.08483417846889398), ('anni_avg', -0.1338338362705529), ('molto_avg', -0.19497327714847357), ('presidente_avg', -0.2284415751594034), ('politica_avg', -0.3345400902779737), ('fatto_avg', -0.5221173945394213), ('signor_std', -0.5481692665217788)]\n",
      "------\n",
      "media:  -0.02870002243856064\n",
      "std 0.3240861841720153\n",
      "median -0.06090851182054204\n",
      "min -0.5481692665217788\n",
      "max 0.6527827548933043\n",
      "--------------\n",
      "[('quando_avg', 0.5433314134245703), ('fatto_avg', 0.510971919898258), ('molto_avg', 0.35831142953288353), ('quindi_avg', 0.3417217516574111), ('signor_avg', 0.188181681076458), ('prima_avg', 0.18008903482199723), ('solo_avg', 0.1708043429647424), ('presidente_std', 0.05361108344175044), ('presidente_avg', -0.03643766323049992), ('commissione_avg', -0.058200059058727716), ('stars_std', -0.11000468469609537), ('governo_avg', -0.11608865829494039), ('essere_avg', -0.11883226479879654), ('oggi_avg', -0.2453964393233904), ('stars_avg', -0.26153964701032806), ('decreto_avg', -0.36490720740089216), ('stato_avg', -0.38526781724819587), ('articolo_std', -0.9273293711932747)]\n",
      "------\n",
      "media:  -0.015387841968726125\n",
      "std 0.36069027667069803\n",
      "median -0.04731886114461382\n",
      "min -0.9273293711932747\n",
      "max 0.5433314134245703\n",
      "--------------\n"
     ]
    }
   ],
   "source": [
    "coefs_analysis(x_tfidf_speaker, y_pol, feature_speaker, 0.01)"
   ]
  },
  {
   "cell_type": "code",
   "execution_count": 51,
   "id": "e89749d2",
   "metadata": {},
   "outputs": [
    {
     "name": "stdout",
     "output_type": "stream",
     "text": [
      "Prestazioni:\n",
      "              precision    recall  f1-score   support\n",
      "\n",
      "           0       1.00      0.03      0.06       121\n",
      "           1       0.53      0.78      0.63       207\n",
      "           2       0.61      0.68      0.64       179\n",
      "\n",
      "    accuracy                           0.57       507\n",
      "   macro avg       0.71      0.50      0.45       507\n",
      "weighted avg       0.67      0.57      0.50       507\n",
      "\n",
      "#SV:  464\n"
     ]
    }
   ],
   "source": [
    "how_many_sv(x_tfidf_speaker, y_pol)"
   ]
  },
  {
   "cell_type": "code",
   "execution_count": null,
   "id": "63493bf7",
   "metadata": {},
   "outputs": [],
   "source": []
  }
 ],
 "metadata": {
  "kernelspec": {
   "display_name": "Python 3 (ipykernel)",
   "language": "python",
   "name": "python3"
  },
  "language_info": {
   "codemirror_mode": {
    "name": "ipython",
    "version": 3
   },
   "file_extension": ".py",
   "mimetype": "text/x-python",
   "name": "python",
   "nbconvert_exporter": "python",
   "pygments_lexer": "ipython3",
   "version": "3.11.4"
  }
 },
 "nbformat": 4,
 "nbformat_minor": 5
}
