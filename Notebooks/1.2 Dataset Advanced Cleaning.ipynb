{
 "cells": [
  {
   "cell_type": "code",
   "execution_count": 24,
   "id": "b74a7aed",
   "metadata": {},
   "outputs": [],
   "source": [
    "import pandas as pd\n",
    "import re"
   ]
  },
  {
   "cell_type": "code",
   "execution_count": 25,
   "id": "cd38d95f",
   "metadata": {},
   "outputs": [],
   "source": [
    "cleaned_df = pd.read_csv(\"data/cleaned_dataset/merged.tsv\", sep=\",\", encoding=\"utf-8\")"
   ]
  },
  {
   "cell_type": "code",
   "execution_count": 26,
   "id": "1523b6aa",
   "metadata": {},
   "outputs": [],
   "source": [
    "refined_df = cleaned_df\n",
    "remove_list = [\"(FdI)\", \"(M5S)\", \"(PD)\", \"(FI)\", \"(FI-BP)\", \"(PdL)\", \"(L-SP)\", \"(LN-Aut)\", \"(NCD)\", \"(SCpI)\"]\n",
    "refined_df[\"text\"] = cleaned_df['text'].str.replace(r'\\[\\[.*?\\]\\]', '', regex=True) #rimuovo le stringe come [[Applausi]]\n",
    "refined_df['text'] = refined_df['text'].replace('|'.join(map(re.escape, remove_list)), '', regex=True) #Rimuovo le note come (M5S)"
   ]
  },
  {
   "cell_type": "code",
   "execution_count": 30,
   "id": "8e4cd756",
   "metadata": {},
   "outputs": [],
   "source": [
    "diz = {\n",
    "    \"LN-Aut\": \"Lega\",\n",
    "    \"L-SP\": \"Lega\",\n",
    "    \"M5S.1\": \"M5S\",\n",
    "    \"M5S.2\": \"M5S\",\n",
    "}\n",
    "refined_df = refined_df.replace({\"Speaker_party\": diz})\n"
   ]
  },
  {
   "cell_type": "code",
   "execution_count": 32,
   "id": "199f8477",
   "metadata": {},
   "outputs": [],
   "source": [
    "refined_df.to_csv(\"data/cleaned_dataset/refined.csv\", index=False)"
   ]
  },
  {
   "cell_type": "code",
   "execution_count": null,
   "id": "ab53fd3e",
   "metadata": {},
   "outputs": [],
   "source": []
  }
 ],
 "metadata": {
  "kernelspec": {
   "display_name": "Python 3 (ipykernel)",
   "language": "python",
   "name": "python3"
  },
  "language_info": {
   "codemirror_mode": {
    "name": "ipython",
    "version": 3
   },
   "file_extension": ".py",
   "mimetype": "text/x-python",
   "name": "python",
   "nbconvert_exporter": "python",
   "pygments_lexer": "ipython3",
   "version": "3.11.4"
  }
 },
 "nbformat": 4,
 "nbformat_minor": 5
}
