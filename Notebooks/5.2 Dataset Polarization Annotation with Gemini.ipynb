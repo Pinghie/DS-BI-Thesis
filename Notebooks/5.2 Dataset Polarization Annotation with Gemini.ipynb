{
 "cells": [
  {
   "cell_type": "code",
   "execution_count": 15,
   "id": "c188f3da",
   "metadata": {},
   "outputs": [],
   "source": [
    "import google.generativeai as genai\n",
    "import pandas as pd\n",
    "import time\n",
    "import numpy as np\n",
    "from scipy import stats\n",
    "from sklearn.metrics import classification_report\n",
    "from sklearn.metrics import mean_squared_error, mean_absolute_error"
   ]
  },
  {
   "cell_type": "code",
   "execution_count": 16,
   "id": "74432b57",
   "metadata": {},
   "outputs": [
    {
     "data": {
      "text/plain": [
       "'\\nannotated_df = pd.read_csv(\"genai/v2/fewshot_polarization_3classes_classifications.csv\", sep=\",\", encoding=\"utf-8\")\\nannotated_df.to_csv(\"data/annotated_dataset/polarization_annotated_data.csv\", sep=\",\", encoding=\"utf-8\", index=False)\\n'"
      ]
     },
     "execution_count": 16,
     "metadata": {},
     "output_type": "execute_result"
    }
   ],
   "source": [
    "#reset annotazioni\n",
    "'''\n",
    "annotated_df = pd.read_csv(\"genai/v2/fewshot_polarization_3classes_classifications.csv\", sep=\",\", encoding=\"utf-8\")\n",
    "annotated_df.to_csv(\"data/annotated_dataset/polarization_annotated_data.csv\", sep=\",\", encoding=\"utf-8\", index=False)\n",
    "'''"
   ]
  },
  {
   "cell_type": "markdown",
   "id": "62eeed22",
   "metadata": {},
   "source": [
    "### GEN AI"
   ]
  },
  {
   "cell_type": "code",
   "execution_count": null,
   "id": "42d118a8",
   "metadata": {},
   "outputs": [],
   "source": [
    "#API_KEY = \"\"\n",
    "genai.configure(api_key=API_KEY)\n",
    "model = genai.GenerativeModel('gemini-2.0-flash')"
   ]
  },
  {
   "cell_type": "code",
   "execution_count": 23,
   "id": "b17b1716",
   "metadata": {},
   "outputs": [],
   "source": [
    "def classify_record(text_id, text, prompt, model):\n",
    "    filled_prompt = prompt.replace('[$$$]',text)\n",
    "    res = model.generate_content(filled_prompt)\n",
    "    time.sleep(4)\n",
    "    return str(text_id + \",\" +res.text)"
   ]
  },
  {
   "cell_type": "code",
   "execution_count": 24,
   "id": "d90c3b6e",
   "metadata": {},
   "outputs": [],
   "source": [
    "#CALCOLO CLASSIFICAZIONI GEMINI\n",
    "def calcola_classificazioni(prompt):\n",
    "    cleaned_df = pd.read_csv(\"data/cleaned_dataset/merged.tsv\", sep=\",\", encoding=\"utf-8\")\n",
    "    annotated_df = pd.read_csv(\"data/annotated_dataset/polarization_annotated_data.csv\", sep=\",\", encoding=\"utf-8\")\n",
    "    df_to_annotate = cleaned_df[~cleaned_df['ID'].isin(annotated_df['id'])]\n",
    "\n",
    "    #Estraggo i testi da dare in input a gemini\n",
    "    texts_to_classify = []\n",
    "    for id in df_to_annotate[\"ID\"]:\n",
    "        texts_to_classify.append((id, df_to_annotate[df_to_annotate[\"ID\"] == id].text.iloc[0]))\n",
    "\n",
    "    i = 0\n",
    "    gemini_classes = []\n",
    "    for tupla in texts_to_classify:\n",
    "        res = classify_record(tupla[0], tupla[1], prompt, model)\n",
    "        gemini_classes.append(res)\n",
    "        i+=1\n",
    "\n",
    "        if i%5 == 0:\n",
    "            print(i, end = \" - \")\n",
    "\n",
    "            classification_list = []\n",
    "            for stringa in gemini_classes:\n",
    "                stringa = stringa.strip(\"\\n\")\n",
    "                lista = stringa.split(\",\")\n",
    "                lista = [lista[0]] + [int(x) for x in lista[1:]]\n",
    "                classification_list.append(lista)\n",
    "\n",
    "            gemini_classes = []\n",
    "            classification_df = pd.DataFrame(classification_list, columns = ['id', 'polarization'])\n",
    "            annotated_df = pd.read_csv(\"data/annotated_dataset/polarization_annotated_data.csv\", sep=\",\", encoding=\"utf-8\")\n",
    "            pd.concat([annotated_df, classification_df], ignore_index=True).to_csv(\"data/annotated_dataset/polarization_annotated_data.csv\", index=False)"
   ]
  },
  {
   "cell_type": "code",
   "execution_count": 25,
   "id": "8834484d",
   "metadata": {},
   "outputs": [],
   "source": [
    "with open('genai/v2/fewshot_3classes_polarization_prompt.txt', 'r', encoding=\"utf8\") as f:\n",
    "    prompt = f.read()"
   ]
  },
  {
   "cell_type": "code",
   "execution_count": 26,
   "id": "454add18",
   "metadata": {},
   "outputs": [
    {
     "name": "stdout",
     "output_type": "stream",
     "text": [
      "5 - 10 - 15 - 20 - 25 - 30 - 35 - 40 - 45 - 50 - 55 - 60 - 65 - 70 - 75 - 80 - 85 - 90 - 95 - 100 - 105 - 110 - 115 - 120 - 125 - 130 - 135 - 140 - 145 - 150 - 155 - 160 - 165 - 170 - 175 - 180 - 185 - 190 - 195 - 200 - 205 - 210 - 215 - 220 - 225 - 230 - 235 - 240 - 245 - 250 - 255 - 260 - 265 - 270 - 275 - 280 - 285 - 290 - "
     ]
    }
   ],
   "source": [
    "calcola_classificazioni(prompt)"
   ]
  },
  {
   "cell_type": "markdown",
   "id": "f311ad57",
   "metadata": {},
   "source": []
  },
  {
   "cell_type": "code",
   "execution_count": null,
   "id": "ce90e263",
   "metadata": {},
   "outputs": [],
   "source": []
  }
 ],
 "metadata": {
  "kernelspec": {
   "display_name": "Python 3 (ipykernel)",
   "language": "python",
   "name": "python3"
  },
  "language_info": {
   "codemirror_mode": {
    "name": "ipython",
    "version": 3
   },
   "file_extension": ".py",
   "mimetype": "text/x-python",
   "name": "python",
   "nbconvert_exporter": "python",
   "pygments_lexer": "ipython3",
   "version": "3.11.4"
  }
 },
 "nbformat": 4,
 "nbformat_minor": 5
}
