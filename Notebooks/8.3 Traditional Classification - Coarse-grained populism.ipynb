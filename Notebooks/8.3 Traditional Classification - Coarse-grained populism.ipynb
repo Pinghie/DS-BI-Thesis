{
 "cells": [
  {
   "cell_type": "code",
   "execution_count": 18,
   "id": "52959997",
   "metadata": {},
   "outputs": [],
   "source": [
    "import pandas as pd\n",
    "from lightgbm import LGBMClassifier\n",
    "import numpy as np\n",
    "import ast\n",
    "from sklearn.ensemble import RandomForestClassifier\n",
    "from sklearn.model_selection import cross_val_predict\n",
    "from sklearn.metrics import classification_report\n",
    "from sklearn.svm import LinearSVC\n",
    "from sklearn.ensemble import AdaBoostClassifier"
   ]
  },
  {
   "cell_type": "code",
   "execution_count": 19,
   "id": "90662b46",
   "metadata": {},
   "outputs": [],
   "source": [
    "annotated_texts_df = pd.read_csv(\"data/annotated_dataset/annotated_texts_repr.csv\", sep=\",\", encoding=\"utf-8\")\n",
    "\n",
    "x_tfidf = annotated_texts_df[\"tfidf\"]\n",
    "x_tfidf = np.array([ast.literal_eval(item) for item in x_tfidf])\n",
    "\n",
    "x_docembedding = annotated_texts_df[\"doc_embedding\"]\n",
    "x_docembedding = np.array([ast.literal_eval(item) for item in x_docembedding])\n",
    "\n",
    "x_docembedding_pos = annotated_texts_df[\"doc_embedding_pos\"]\n",
    "x_docembedding_pos = np.array([ast.literal_eval(item) for item in x_docembedding_pos])\n",
    "\n",
    "x_linguistic_profile = annotated_texts_df[\"linguistic_profile\"]\n",
    "x_linguistic_profile = np.array([ast.literal_eval(item) for item in x_linguistic_profile])\n",
    "\n",
    "y_manichean = annotated_texts_df[\"manichean\"]\n",
    "y_peoplecentrism = annotated_texts_df[\"peoplecentrism\"]\n",
    "y_antielitism = annotated_texts_df[\"antielitism\"]\n",
    "y_emotional = annotated_texts_df[\"emotional\"]\n",
    "\n",
    "y_pop_sum = annotated_texts_df[\"pop_sum\"]"
   ]
  },
  {
   "cell_type": "code",
   "execution_count": 20,
   "id": "e87adfc2",
   "metadata": {},
   "outputs": [],
   "source": [
    "clf_lgbm = LGBMClassifier(random_state=8, verbose=-1)"
   ]
  },
  {
   "cell_type": "markdown",
   "id": "77439af8",
   "metadata": {},
   "source": [
    "### Multi feature classification"
   ]
  },
  {
   "cell_type": "code",
   "execution_count": 21,
   "id": "fa395ca0",
   "metadata": {},
   "outputs": [
    {
     "data": {
      "text/plain": [
       "[array([1, 0, 1, ..., 0, 0, 1], dtype=int64),\n",
       " array([1, 0, 1, ..., 1, 0, 1], dtype=int64),\n",
       " array([1, 0, 1, ..., 0, 0, 1], dtype=int64),\n",
       " array([1, 1, 1, ..., 1, 1, 1], dtype=int64)]"
      ]
     },
     "execution_count": 21,
     "metadata": {},
     "output_type": "execute_result"
    }
   ],
   "source": [
    "features = [y_manichean, y_peoplecentrism, y_antielitism, y_emotional]\n",
    "predictions = []\n",
    "\n",
    "for feature in features:\n",
    "    predictions.append(cross_val_predict(clf_lgbm, x_docembedding, feature, cv=5))\n",
    "\n",
    "predictions"
   ]
  },
  {
   "cell_type": "code",
   "execution_count": 22,
   "id": "05f3f96c",
   "metadata": {},
   "outputs": [],
   "source": [
    "pop_sum_predictions = [sum(values) for values in zip(*predictions)]"
   ]
  },
  {
   "cell_type": "code",
   "execution_count": 23,
   "id": "3a477afe",
   "metadata": {
    "scrolled": true
   },
   "outputs": [],
   "source": [
    "pop_sum_coarse = [0 if x < 2 else 1 for x in pop_sum_predictions]"
   ]
  },
  {
   "cell_type": "code",
   "execution_count": 24,
   "id": "5c012d17",
   "metadata": {},
   "outputs": [],
   "source": [
    "y_pop_sum_coarse = [0 if x < 2 else 1 for x in y_pop_sum]"
   ]
  },
  {
   "cell_type": "code",
   "execution_count": 25,
   "id": "fe38f2d4",
   "metadata": {},
   "outputs": [
    {
     "name": "stdout",
     "output_type": "stream",
     "text": [
      "              precision    recall  f1-score   support\n",
      "\n",
      "           0       0.86      0.80      0.83      6882\n",
      "           1       0.69      0.78      0.73      3958\n",
      "\n",
      "    accuracy                           0.79     10840\n",
      "   macro avg       0.78      0.79      0.78     10840\n",
      "weighted avg       0.80      0.79      0.79     10840\n",
      "\n"
     ]
    }
   ],
   "source": [
    "limit = 2\n",
    "pop_sum_coarse = [0 if x < limit else 1 for x in pop_sum_predictions]\n",
    "y_pop_sum_coarse = [0 if x < limit else 1 for x in y_pop_sum]\n",
    "print(classification_report(pop_sum_coarse, y_pop_sum_coarse))"
   ]
  },
  {
   "cell_type": "markdown",
   "id": "2faeadb5",
   "metadata": {},
   "source": [
    "### Single feature classification"
   ]
  },
  {
   "cell_type": "code",
   "execution_count": 26,
   "id": "25becf69",
   "metadata": {},
   "outputs": [],
   "source": [
    "limit = 2\n",
    "y_pop_sum_coarse = [0 if x < limit else 1 for x in y_pop_sum]"
   ]
  },
  {
   "cell_type": "code",
   "execution_count": 27,
   "id": "a001fd35",
   "metadata": {},
   "outputs": [
    {
     "name": "stdout",
     "output_type": "stream",
     "text": [
      "              precision    recall  f1-score   support\n",
      "\n",
      "           0       0.81      0.84      0.82      6366\n",
      "           1       0.76      0.71      0.73      4474\n",
      "\n",
      "    accuracy                           0.79     10840\n",
      "   macro avg       0.78      0.78      0.78     10840\n",
      "weighted avg       0.79      0.79      0.79     10840\n",
      "\n"
     ]
    }
   ],
   "source": [
    "predictions = cross_val_predict(clf_lgbm, x_docembedding, y_pop_sum_coarse, cv=5)\n",
    "print(classification_report(y_pop_sum_coarse, predictions))"
   ]
  },
  {
   "cell_type": "markdown",
   "id": "42665aef",
   "metadata": {},
   "source": [
    "## Ricerca della migliore combinazione modello - rappresentazione (tfidf - linearsvc)"
   ]
  },
  {
   "cell_type": "markdown",
   "id": "263dc599",
   "metadata": {},
   "source": [
    "### lightgbm"
   ]
  },
  {
   "cell_type": "code",
   "execution_count": 28,
   "id": "9c4ff466",
   "metadata": {
    "scrolled": true
   },
   "outputs": [
    {
     "name": "stdout",
     "output_type": "stream",
     "text": [
      "              precision    recall  f1-score   support\n",
      "\n",
      "           0       0.81      0.86      0.83      6366\n",
      "           1       0.78      0.71      0.74      4474\n",
      "\n",
      "    accuracy                           0.80     10840\n",
      "   macro avg       0.79      0.78      0.79     10840\n",
      "weighted avg       0.80      0.80      0.80     10840\n",
      "\n",
      "              precision    recall  f1-score   support\n",
      "\n",
      "           0       0.81      0.84      0.82      6366\n",
      "           1       0.76      0.71      0.73      4474\n",
      "\n",
      "    accuracy                           0.79     10840\n",
      "   macro avg       0.78      0.78      0.78     10840\n",
      "weighted avg       0.79      0.79      0.79     10840\n",
      "\n",
      "              precision    recall  f1-score   support\n",
      "\n",
      "           0       0.80      0.84      0.82      6366\n",
      "           1       0.76      0.70      0.73      4474\n",
      "\n",
      "    accuracy                           0.78     10840\n",
      "   macro avg       0.78      0.77      0.77     10840\n",
      "weighted avg       0.78      0.78      0.78     10840\n",
      "\n",
      "              precision    recall  f1-score   support\n",
      "\n",
      "           0       0.77      0.84      0.80      6366\n",
      "           1       0.73      0.63      0.68      4474\n",
      "\n",
      "    accuracy                           0.75     10840\n",
      "   macro avg       0.75      0.74      0.74     10840\n",
      "weighted avg       0.75      0.75      0.75     10840\n",
      "\n"
     ]
    }
   ],
   "source": [
    "reprs = [x_tfidf, x_docembedding, x_docembedding_pos, x_linguistic_profile]\n",
    "for rep in reprs:\n",
    "    predictions = cross_val_predict(clf_lgbm, rep, y_pop_sum_coarse, cv=5)\n",
    "    print(classification_report(y_pop_sum_coarse, predictions))"
   ]
  },
  {
   "cell_type": "markdown",
   "id": "889964c8",
   "metadata": {},
   "source": [
    "### rf"
   ]
  },
  {
   "cell_type": "code",
   "execution_count": 29,
   "id": "048be130",
   "metadata": {},
   "outputs": [],
   "source": [
    "clf_rf = RandomForestClassifier(n_estimators=150, \n",
    "                             criterion='gini', \n",
    "                             max_depth=None, \n",
    "                             min_samples_split=2, \n",
    "                             min_samples_leaf=1, \n",
    "                             min_weight_fraction_leaf=0.0, \n",
    "                             max_features='sqrt', \n",
    "                             random_state=0, \n",
    "                             n_jobs=-1)"
   ]
  },
  {
   "cell_type": "code",
   "execution_count": 30,
   "id": "6aa9295d",
   "metadata": {
    "scrolled": true
   },
   "outputs": [
    {
     "name": "stdout",
     "output_type": "stream",
     "text": [
      "              precision    recall  f1-score   support\n",
      "\n",
      "           0       0.72      0.93      0.81      6366\n",
      "           1       0.84      0.49      0.62      4474\n",
      "\n",
      "    accuracy                           0.75     10840\n",
      "   macro avg       0.78      0.71      0.71     10840\n",
      "weighted avg       0.77      0.75      0.73     10840\n",
      "\n",
      "              precision    recall  f1-score   support\n",
      "\n",
      "           0       0.79      0.86      0.82      6366\n",
      "           1       0.77      0.67      0.71      4474\n",
      "\n",
      "    accuracy                           0.78     10840\n",
      "   macro avg       0.78      0.76      0.77     10840\n",
      "weighted avg       0.78      0.78      0.78     10840\n",
      "\n",
      "              precision    recall  f1-score   support\n",
      "\n",
      "           0       0.79      0.86      0.82      6366\n",
      "           1       0.77      0.67      0.71      4474\n",
      "\n",
      "    accuracy                           0.78     10840\n",
      "   macro avg       0.78      0.76      0.77     10840\n",
      "weighted avg       0.78      0.78      0.78     10840\n",
      "\n",
      "              precision    recall  f1-score   support\n",
      "\n",
      "           0       0.74      0.86      0.80      6366\n",
      "           1       0.74      0.58      0.65      4474\n",
      "\n",
      "    accuracy                           0.74     10840\n",
      "   macro avg       0.74      0.72      0.72     10840\n",
      "weighted avg       0.74      0.74      0.74     10840\n",
      "\n"
     ]
    }
   ],
   "source": [
    "reprs = [x_tfidf, x_docembedding, x_docembedding_pos, x_linguistic_profile]\n",
    "for rep in reprs:\n",
    "    predictions = cross_val_predict(clf_rf, rep, y_pop_sum_coarse, cv=5)\n",
    "    print(classification_report(y_pop_sum_coarse, predictions))"
   ]
  },
  {
   "cell_type": "markdown",
   "id": "b2244a14",
   "metadata": {},
   "source": [
    "### svc"
   ]
  },
  {
   "cell_type": "code",
   "execution_count": 33,
   "id": "9a464934",
   "metadata": {},
   "outputs": [],
   "source": [
    "clf_linear_svc = LinearSVC(C=1.0, random_state=42)"
   ]
  },
  {
   "cell_type": "code",
   "execution_count": 34,
   "id": "03d0914b",
   "metadata": {
    "scrolled": true
   },
   "outputs": [
    {
     "name": "stderr",
     "output_type": "stream",
     "text": [
      "C:\\Users\\fabio\\anaconda3\\Lib\\site-packages\\sklearn\\svm\\_classes.py:32: FutureWarning: The default value of `dual` will change from `True` to `'auto'` in 1.5. Set the value of `dual` explicitly to suppress the warning.\n",
      "  warnings.warn(\n",
      "C:\\Users\\fabio\\anaconda3\\Lib\\site-packages\\sklearn\\svm\\_classes.py:32: FutureWarning: The default value of `dual` will change from `True` to `'auto'` in 1.5. Set the value of `dual` explicitly to suppress the warning.\n",
      "  warnings.warn(\n",
      "C:\\Users\\fabio\\anaconda3\\Lib\\site-packages\\sklearn\\svm\\_classes.py:32: FutureWarning: The default value of `dual` will change from `True` to `'auto'` in 1.5. Set the value of `dual` explicitly to suppress the warning.\n",
      "  warnings.warn(\n",
      "C:\\Users\\fabio\\anaconda3\\Lib\\site-packages\\sklearn\\svm\\_classes.py:32: FutureWarning: The default value of `dual` will change from `True` to `'auto'` in 1.5. Set the value of `dual` explicitly to suppress the warning.\n",
      "  warnings.warn(\n",
      "C:\\Users\\fabio\\anaconda3\\Lib\\site-packages\\sklearn\\svm\\_classes.py:32: FutureWarning: The default value of `dual` will change from `True` to `'auto'` in 1.5. Set the value of `dual` explicitly to suppress the warning.\n",
      "  warnings.warn(\n"
     ]
    },
    {
     "name": "stdout",
     "output_type": "stream",
     "text": [
      "              precision    recall  f1-score   support\n",
      "\n",
      "           0       0.84      0.86      0.85      6366\n",
      "           1       0.80      0.76      0.78      4474\n",
      "\n",
      "    accuracy                           0.82     10840\n",
      "   macro avg       0.82      0.81      0.81     10840\n",
      "weighted avg       0.82      0.82      0.82     10840\n",
      "\n"
     ]
    },
    {
     "name": "stderr",
     "output_type": "stream",
     "text": [
      "C:\\Users\\fabio\\anaconda3\\Lib\\site-packages\\sklearn\\svm\\_classes.py:32: FutureWarning: The default value of `dual` will change from `True` to `'auto'` in 1.5. Set the value of `dual` explicitly to suppress the warning.\n",
      "  warnings.warn(\n",
      "C:\\Users\\fabio\\anaconda3\\Lib\\site-packages\\sklearn\\svm\\_classes.py:32: FutureWarning: The default value of `dual` will change from `True` to `'auto'` in 1.5. Set the value of `dual` explicitly to suppress the warning.\n",
      "  warnings.warn(\n",
      "C:\\Users\\fabio\\anaconda3\\Lib\\site-packages\\sklearn\\svm\\_classes.py:32: FutureWarning: The default value of `dual` will change from `True` to `'auto'` in 1.5. Set the value of `dual` explicitly to suppress the warning.\n",
      "  warnings.warn(\n",
      "C:\\Users\\fabio\\anaconda3\\Lib\\site-packages\\sklearn\\svm\\_classes.py:32: FutureWarning: The default value of `dual` will change from `True` to `'auto'` in 1.5. Set the value of `dual` explicitly to suppress the warning.\n",
      "  warnings.warn(\n",
      "C:\\Users\\fabio\\anaconda3\\Lib\\site-packages\\sklearn\\svm\\_classes.py:32: FutureWarning: The default value of `dual` will change from `True` to `'auto'` in 1.5. Set the value of `dual` explicitly to suppress the warning.\n",
      "  warnings.warn(\n"
     ]
    },
    {
     "name": "stdout",
     "output_type": "stream",
     "text": [
      "              precision    recall  f1-score   support\n",
      "\n",
      "           0       0.79      0.85      0.82      6366\n",
      "           1       0.76      0.68      0.72      4474\n",
      "\n",
      "    accuracy                           0.78     10840\n",
      "   macro avg       0.77      0.76      0.77     10840\n",
      "weighted avg       0.78      0.78      0.78     10840\n",
      "\n"
     ]
    },
    {
     "name": "stderr",
     "output_type": "stream",
     "text": [
      "C:\\Users\\fabio\\anaconda3\\Lib\\site-packages\\sklearn\\svm\\_classes.py:32: FutureWarning: The default value of `dual` will change from `True` to `'auto'` in 1.5. Set the value of `dual` explicitly to suppress the warning.\n",
      "  warnings.warn(\n",
      "C:\\Users\\fabio\\anaconda3\\Lib\\site-packages\\sklearn\\svm\\_classes.py:32: FutureWarning: The default value of `dual` will change from `True` to `'auto'` in 1.5. Set the value of `dual` explicitly to suppress the warning.\n",
      "  warnings.warn(\n",
      "C:\\Users\\fabio\\anaconda3\\Lib\\site-packages\\sklearn\\svm\\_classes.py:32: FutureWarning: The default value of `dual` will change from `True` to `'auto'` in 1.5. Set the value of `dual` explicitly to suppress the warning.\n",
      "  warnings.warn(\n",
      "C:\\Users\\fabio\\anaconda3\\Lib\\site-packages\\sklearn\\svm\\_classes.py:32: FutureWarning: The default value of `dual` will change from `True` to `'auto'` in 1.5. Set the value of `dual` explicitly to suppress the warning.\n",
      "  warnings.warn(\n",
      "C:\\Users\\fabio\\anaconda3\\Lib\\site-packages\\sklearn\\svm\\_classes.py:32: FutureWarning: The default value of `dual` will change from `True` to `'auto'` in 1.5. Set the value of `dual` explicitly to suppress the warning.\n",
      "  warnings.warn(\n",
      "C:\\Users\\fabio\\anaconda3\\Lib\\site-packages\\sklearn\\svm\\_classes.py:32: FutureWarning: The default value of `dual` will change from `True` to `'auto'` in 1.5. Set the value of `dual` explicitly to suppress the warning.\n",
      "  warnings.warn(\n"
     ]
    },
    {
     "name": "stdout",
     "output_type": "stream",
     "text": [
      "              precision    recall  f1-score   support\n",
      "\n",
      "           0       0.80      0.85      0.83      6366\n",
      "           1       0.77      0.70      0.73      4474\n",
      "\n",
      "    accuracy                           0.79     10840\n",
      "   macro avg       0.78      0.78      0.78     10840\n",
      "weighted avg       0.79      0.79      0.79     10840\n",
      "\n"
     ]
    },
    {
     "name": "stderr",
     "output_type": "stream",
     "text": [
      "C:\\Users\\fabio\\anaconda3\\Lib\\site-packages\\sklearn\\svm\\_base.py:1242: ConvergenceWarning: Liblinear failed to converge, increase the number of iterations.\n",
      "  warnings.warn(\n",
      "C:\\Users\\fabio\\anaconda3\\Lib\\site-packages\\sklearn\\svm\\_classes.py:32: FutureWarning: The default value of `dual` will change from `True` to `'auto'` in 1.5. Set the value of `dual` explicitly to suppress the warning.\n",
      "  warnings.warn(\n",
      "C:\\Users\\fabio\\anaconda3\\Lib\\site-packages\\sklearn\\svm\\_base.py:1242: ConvergenceWarning: Liblinear failed to converge, increase the number of iterations.\n",
      "  warnings.warn(\n",
      "C:\\Users\\fabio\\anaconda3\\Lib\\site-packages\\sklearn\\svm\\_classes.py:32: FutureWarning: The default value of `dual` will change from `True` to `'auto'` in 1.5. Set the value of `dual` explicitly to suppress the warning.\n",
      "  warnings.warn(\n",
      "C:\\Users\\fabio\\anaconda3\\Lib\\site-packages\\sklearn\\svm\\_base.py:1242: ConvergenceWarning: Liblinear failed to converge, increase the number of iterations.\n",
      "  warnings.warn(\n",
      "C:\\Users\\fabio\\anaconda3\\Lib\\site-packages\\sklearn\\svm\\_classes.py:32: FutureWarning: The default value of `dual` will change from `True` to `'auto'` in 1.5. Set the value of `dual` explicitly to suppress the warning.\n",
      "  warnings.warn(\n",
      "C:\\Users\\fabio\\anaconda3\\Lib\\site-packages\\sklearn\\svm\\_base.py:1242: ConvergenceWarning: Liblinear failed to converge, increase the number of iterations.\n",
      "  warnings.warn(\n",
      "C:\\Users\\fabio\\anaconda3\\Lib\\site-packages\\sklearn\\svm\\_classes.py:32: FutureWarning: The default value of `dual` will change from `True` to `'auto'` in 1.5. Set the value of `dual` explicitly to suppress the warning.\n",
      "  warnings.warn(\n"
     ]
    },
    {
     "name": "stdout",
     "output_type": "stream",
     "text": [
      "              precision    recall  f1-score   support\n",
      "\n",
      "           0       0.67      0.93      0.78      6366\n",
      "           1       0.78      0.33      0.47      4474\n",
      "\n",
      "    accuracy                           0.69     10840\n",
      "   macro avg       0.72      0.63      0.62     10840\n",
      "weighted avg       0.71      0.69      0.65     10840\n",
      "\n"
     ]
    },
    {
     "name": "stderr",
     "output_type": "stream",
     "text": [
      "C:\\Users\\fabio\\anaconda3\\Lib\\site-packages\\sklearn\\svm\\_base.py:1242: ConvergenceWarning: Liblinear failed to converge, increase the number of iterations.\n",
      "  warnings.warn(\n"
     ]
    }
   ],
   "source": [
    "reprs = [x_tfidf, x_docembedding, x_docembedding_pos, x_linguistic_profile]\n",
    "for rep in reprs:\n",
    "    predictions = cross_val_predict(clf_linear_svc, rep, y_pop_sum_coarse, cv=5)\n",
    "    print(classification_report(y_pop_sum_coarse, predictions))"
   ]
  },
  {
   "cell_type": "markdown",
   "id": "e4567c39",
   "metadata": {},
   "source": [
    "### adaboost"
   ]
  },
  {
   "cell_type": "code",
   "execution_count": 36,
   "id": "6f2cca00",
   "metadata": {},
   "outputs": [],
   "source": [
    "clf_ada_rf = AdaBoostClassifier(estimator=RandomForestClassifier(n_estimators=100), n_estimators=100, random_state=0)"
   ]
  },
  {
   "cell_type": "code",
   "execution_count": 37,
   "id": "27ab9e3f",
   "metadata": {},
   "outputs": [
    {
     "name": "stdout",
     "output_type": "stream",
     "text": [
      "              precision    recall  f1-score   support\n",
      "\n",
      "           0       0.72      0.93      0.81      6366\n",
      "           1       0.83      0.48      0.61      4474\n",
      "\n",
      "    accuracy                           0.75     10840\n",
      "   macro avg       0.78      0.71      0.71     10840\n",
      "weighted avg       0.77      0.75      0.73     10840\n",
      "\n",
      "              precision    recall  f1-score   support\n",
      "\n",
      "           0       0.78      0.86      0.82      6366\n",
      "           1       0.76      0.66      0.71      4474\n",
      "\n",
      "    accuracy                           0.78     10840\n",
      "   macro avg       0.77      0.76      0.76     10840\n",
      "weighted avg       0.78      0.78      0.77     10840\n",
      "\n",
      "              precision    recall  f1-score   support\n",
      "\n",
      "           0       0.79      0.86      0.82      6366\n",
      "           1       0.77      0.67      0.71      4474\n",
      "\n",
      "    accuracy                           0.78     10840\n",
      "   macro avg       0.78      0.76      0.77     10840\n",
      "weighted avg       0.78      0.78      0.78     10840\n",
      "\n",
      "              precision    recall  f1-score   support\n",
      "\n",
      "           0       0.74      0.86      0.80      6366\n",
      "           1       0.74      0.57      0.64      4474\n",
      "\n",
      "    accuracy                           0.74     10840\n",
      "   macro avg       0.74      0.71      0.72     10840\n",
      "weighted avg       0.74      0.74      0.73     10840\n",
      "\n"
     ]
    }
   ],
   "source": [
    "reprs = [x_tfidf, x_docembedding, x_docembedding_pos, x_linguistic_profile]\n",
    "for rep in reprs:\n",
    "    predictions = cross_val_predict(clf_ada_rf, rep, y_pop_sum_coarse, cv=5)\n",
    "    print(classification_report(y_pop_sum_coarse, predictions))"
   ]
  },
  {
   "cell_type": "code",
   "execution_count": null,
   "id": "44fbca1c",
   "metadata": {},
   "outputs": [],
   "source": []
  }
 ],
 "metadata": {
  "kernelspec": {
   "display_name": "Python 3 (ipykernel)",
   "language": "python",
   "name": "python3"
  },
  "language_info": {
   "codemirror_mode": {
    "name": "ipython",
    "version": 3
   },
   "file_extension": ".py",
   "mimetype": "text/x-python",
   "name": "python",
   "nbconvert_exporter": "python",
   "pygments_lexer": "ipython3",
   "version": "3.11.4"
  }
 },
 "nbformat": 4,
 "nbformat_minor": 5
}
