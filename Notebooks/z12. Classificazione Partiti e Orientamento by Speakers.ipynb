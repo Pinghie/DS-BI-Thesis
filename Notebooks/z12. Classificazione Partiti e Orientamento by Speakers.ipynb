{
 "cells": [
  {
   "cell_type": "code",
   "execution_count": 1,
   "id": "0407ca32",
   "metadata": {},
   "outputs": [
    {
     "name": "stderr",
     "output_type": "stream",
     "text": [
      "C:\\Users\\fabio\\anaconda3\\Lib\\site-packages\\pandas\\core\\arrays\\masked.py:60: UserWarning: Pandas requires version '1.3.6' or newer of 'bottleneck' (version '1.3.5' currently installed).\n",
      "  from pandas.core import (\n"
     ]
    }
   ],
   "source": [
    "import pandas as pd\n",
    "import numpy as np\n",
    "import ast\n",
    "\n",
    "from sklearn.model_selection import cross_val_score, cross_val_predict\n",
    "from sklearn.linear_model import LinearRegression\n",
    "from sklearn.metrics import mean_absolute_error, mean_squared_error\n",
    "from sklearn.svm import LinearSVC\n",
    "from sklearn.model_selection import cross_val_predict\n",
    "from sklearn.metrics import classification_report\n",
    "\n",
    "from sklearn.model_selection import GridSearchCV\n",
    "from sklearn.model_selection import train_test_split\n",
    "from sklearn.preprocessing import StandardScaler"
   ]
  },
  {
   "cell_type": "code",
   "execution_count": 2,
   "id": "97221367",
   "metadata": {},
   "outputs": [],
   "source": [
    "import warnings\n",
    "warnings.filterwarnings(\"ignore\")"
   ]
  },
  {
   "cell_type": "code",
   "execution_count": 2,
   "id": "82449e83",
   "metadata": {},
   "outputs": [],
   "source": [
    "'''\n",
    "annotated_df = pd.read_csv(\"data/annotated_dataset/annotated_texts_repr_pro_complete.csv\", sep=\",\", encoding=\"utf-8\")\n",
    "meta_df = pd.read_csv(\"data/cleaned_dataset/meta.tsv\", sep=\",\", encoding=\"utf-8\")\n",
    "merged_df = annotated_df.merge(meta_df, how='left', left_on='id', right_on=\"ID\")\n",
    "\n",
    "ling_prof_df = merged_df[[\"id\", \"pop_sum\",\"polarization\",\"Speaker_ID\", \"Speaker_party\",\"Party_orientation\",\"linguistic_profile_pro\", \"tfidf_pro\", \"doc_embedding_pro\"]]\n",
    "diz = {\n",
    "    \"LN-Aut\": \"Lega\",\n",
    "    \"L-SP\": \"Lega\",\n",
    "    \"M5S.1\": \"M5S\",\n",
    "    \"M5S.2\": \"M5S\",\n",
    "}\n",
    "ling_prof_df = ling_prof_df.replace({\"Speaker_party\": diz})\n",
    "ling_prof_df = ling_prof_df.rename(columns={\"linguistic_profile_pro\": \"linguistic_profile\", \"tfidf_pro\": \"tfidf\", \"doc_embedding_pro\":\"doc_embedding\"})\n",
    "'''"
   ]
  },
  {
   "cell_type": "code",
   "execution_count": 3,
   "id": "116363c3",
   "metadata": {},
   "outputs": [],
   "source": [
    "'''\n",
    "def mean_std_lists(lists):\n",
    "    lists = np.array([ast.literal_eval(item) for item in lists])\n",
    "    return np.mean(lists, axis=0).tolist(), np.std(lists, axis=0).tolist()\n",
    "\n",
    "#Aggregazione per senatore\n",
    "df_grouped = ling_prof_df.groupby('Speaker_ID', as_index=False).agg({\n",
    "    'pop_sum': lambda x: x.sum() / x.count(),\n",
    "    'polarization': lambda x: x.sum() / x.count(),\n",
    "    'Speaker_party': lambda x: x.mode()[0],\n",
    "    'Party_orientation': lambda x: x.mode()[0]\n",
    "})\n",
    "\n",
    "#Media e std delle rappresentazioni del testo (per tutti i testi di un senatore)\n",
    "for col in ['linguistic_profile', 'tfidf', 'doc_embedding']:\n",
    "    df_grouped[col], df_grouped[col + '_std'] = zip(*ling_prof_df.groupby('Speaker_ID')[col].apply(lambda x: mean_std_lists(list(x))))\n",
    "\n",
    "df_grouped[\"linguistic_profile\"] = df_grouped[\"linguistic_profile\"] + df_grouped[\"linguistic_profile_std\"]\n",
    "df_grouped[\"tfidf\"] = df_grouped[\"tfidf\"] + df_grouped[\"tfidf_std\"]\n",
    "df_grouped[\"doc_embedding\"] = df_grouped[\"doc_embedding\"] + df_grouped[\"doc_embedding_std\"]\n",
    "    \n",
    "group_sizes = ling_prof_df.groupby('Speaker_ID').size().reset_index(name='Count_Per_Group')\n",
    "df_grouped = df_grouped.merge(group_sizes, on='Speaker_ID')\n",
    "'''"
   ]
  },
  {
   "cell_type": "code",
   "execution_count": 5,
   "id": "0f250dcf",
   "metadata": {},
   "outputs": [],
   "source": [
    "#df_grouped.to_csv(\"data/annotated_dataset/speaker_data.csv\", index=False)"
   ]
  },
  {
   "cell_type": "code",
   "execution_count": 3,
   "id": "8d22ba11",
   "metadata": {},
   "outputs": [],
   "source": [
    "scaler = StandardScaler()\n",
    "def linearSvcBestParams(reprs, y):\n",
    "    for name, X in reprs.items():\n",
    "        print(name)\n",
    "        X_train, X_test, y_train, y_test = train_test_split(X, y, test_size=0.2, random_state=42)\n",
    "\n",
    "        X_train = scaler.fit_transform(X_train)\n",
    "        X_test = scaler.transform(X_test)\n",
    "\n",
    "        svc = LinearSVC(dual=False, max_iter=10000)\n",
    "\n",
    "        param_grid = {\n",
    "            'C': [0.01, 0.1, 1],\n",
    "            'loss': ['squared_hinge', 'hinge'],\n",
    "            'penalty': ['l1', 'l2'],\n",
    "            'class_weight': ['balanced']\n",
    "        }\n",
    "\n",
    "        grid_search = GridSearchCV(svc, param_grid, cv=2, scoring='accuracy', n_jobs=-1, verbose=2)\n",
    "        grid_search.fit(X_train, y_train)\n",
    "\n",
    "        best_params = grid_search.best_params_\n",
    "        print(\"Best Parameters:\", best_params)\n",
    "        print(\"Best Cross-Validation Accuracy:\", grid_search.best_score_)\n",
    "\n",
    "        best_model = LinearSVC(dual=False, **best_params)\n",
    "\n",
    "        X_scaled = scaler.transform(X)\n",
    "        predictions = cross_val_predict(best_model, X_scaled, y, cv=3)\n",
    "\n",
    "        print(classification_report(y, predictions))"
   ]
  },
  {
   "cell_type": "markdown",
   "id": "5f9cb019",
   "metadata": {},
   "source": [
    "#### Estraggo X e y"
   ]
  },
  {
   "cell_type": "code",
   "execution_count": 4,
   "id": "f853d619",
   "metadata": {},
   "outputs": [],
   "source": [
    "speaker_df = pd.read_csv(\"data/annotated_dataset/speaker_data.csv\", sep=\",\", encoding=\"utf-8\")\n",
    "speaker_df = speaker_df[speaker_df[\"Count_Per_Group\"] > 10]\n",
    "\n",
    "x_tfidf = speaker_df[\"tfidf\"]\n",
    "x_tfidf = np.array([ast.literal_eval(item) for item in x_tfidf])\n",
    "\n",
    "x_docembedding = speaker_df[\"doc_embedding\"]\n",
    "x_docembedding = np.array([ast.literal_eval(item) for item in x_docembedding])\n",
    "\n",
    "x_pos_docembedding = speaker_df[\"pos_docembedding\"]\n",
    "x_pos_docembedding = np.array([ast.literal_eval(item) for item in x_pos_docembedding])\n",
    "\n",
    "x_linguistic_profile = speaker_df[\"linguistic_profile\"]\n",
    "x_linguistic_profile = np.array([ast.literal_eval(item) for item in x_linguistic_profile])\n",
    "\n",
    "reprs = {\n",
    "    \"tfidf\": x_tfidf,\n",
    "    \"doc_embedding\": x_docembedding,\n",
    "    \"pos_docembedding\": x_pos_docembedding,\n",
    "    \"linguistic_profile\": x_linguistic_profile\n",
    "}\n",
    "\n",
    "y_party = speaker_df[\"Speaker_party\"]\n",
    "y_ori = speaker_df[\"Party_orientation\"]"
   ]
  },
  {
   "cell_type": "code",
   "execution_count": 5,
   "id": "9975efce",
   "metadata": {},
   "outputs": [],
   "source": [
    "X_ling = np.vstack(df_grouped[\"linguistic_profile\"].values)\n",
    "X_tfidf = np.vstack(df_grouped[\"tfidf\"].values)\n",
    "X_embed = np.vstack(df_grouped[\"doc_embedding\"].values)\n",
    "\n",
    "X_list = [X_ling,X_tfidf,X_embed]\n",
    "\n",
    "y_party = np.vstack(df_grouped[\"Speaker_party\"].values)\n",
    "y_ori = np.vstack(df_grouped[\"Party_orientation\"].values)"
   ]
  },
  {
   "cell_type": "markdown",
   "id": "3a11fbd0",
   "metadata": {},
   "source": [
    "## Classificazione"
   ]
  },
  {
   "cell_type": "code",
   "execution_count": 5,
   "id": "8f821879",
   "metadata": {},
   "outputs": [],
   "source": [
    "clf_linear_svc = LinearSVC(C=1.0, random_state=42)"
   ]
  },
  {
   "cell_type": "code",
   "execution_count": 6,
   "id": "23cea3e5",
   "metadata": {},
   "outputs": [],
   "source": [
    "def classificazione(reprs, y):\n",
    "    for name, X in reprs.items():\n",
    "        print(name)\n",
    "        predictions = cross_val_predict(clf_linear_svc, X, y, cv=3)\n",
    "        print(classification_report(y, predictions))"
   ]
  },
  {
   "cell_type": "code",
   "execution_count": 7,
   "id": "ee77b1bd",
   "metadata": {
    "scrolled": true
   },
   "outputs": [
    {
     "name": "stdout",
     "output_type": "stream",
     "text": [
      "tfidf\n",
      "              precision    recall  f1-score   support\n",
      "\n",
      "       FI-BP       0.71      0.57      0.63        30\n",
      "         FdI       0.46      0.35      0.40        17\n",
      "        Lega       0.41      0.33      0.37        39\n",
      "         M5S       0.61      0.73      0.66        73\n",
      "         NCD       0.12      0.06      0.08        17\n",
      "          PD       0.61      0.73      0.67       108\n",
      "         PdL       0.42      0.33      0.37        24\n",
      "        SCpI       0.33      0.14      0.20         7\n",
      "\n",
      "    accuracy                           0.57       315\n",
      "   macro avg       0.46      0.41      0.42       315\n",
      "weighted avg       0.54      0.57      0.55       315\n",
      "\n",
      "doc_embedding\n",
      "              precision    recall  f1-score   support\n",
      "\n",
      "       FI-BP       0.70      0.53      0.60        30\n",
      "         FdI       0.46      0.35      0.40        17\n",
      "        Lega       0.33      0.31      0.32        39\n",
      "         M5S       0.58      0.66      0.62        73\n",
      "         NCD       0.10      0.06      0.07        17\n",
      "          PD       0.59      0.69      0.64       108\n",
      "         PdL       0.42      0.33      0.37        24\n",
      "        SCpI       0.33      0.14      0.20         7\n",
      "\n",
      "    accuracy                           0.53       315\n",
      "   macro avg       0.44      0.39      0.40       315\n",
      "weighted avg       0.51      0.53      0.52       315\n",
      "\n",
      "pos_docembedding\n",
      "              precision    recall  f1-score   support\n",
      "\n",
      "       FI-BP       0.70      0.53      0.60        30\n",
      "         FdI       0.46      0.35      0.40        17\n",
      "        Lega       0.35      0.31      0.33        39\n",
      "         M5S       0.58      0.66      0.62        73\n",
      "         NCD       0.10      0.06      0.07        17\n",
      "          PD       0.59      0.71      0.65       108\n",
      "         PdL       0.42      0.33      0.37        24\n",
      "        SCpI       0.33      0.14      0.20         7\n",
      "\n",
      "    accuracy                           0.54       315\n",
      "   macro avg       0.44      0.39      0.41       315\n",
      "weighted avg       0.52      0.54      0.52       315\n",
      "\n",
      "linguistic_profile\n",
      "              precision    recall  f1-score   support\n",
      "\n",
      "       FI-BP       0.09      0.53      0.16        30\n",
      "         FdI       0.16      0.29      0.21        17\n",
      "        Lega       0.43      0.08      0.13        39\n",
      "         M5S       0.55      0.25      0.34        73\n",
      "         NCD       0.00      0.00      0.00        17\n",
      "          PD       0.60      0.32      0.42       108\n",
      "         PdL       0.40      0.08      0.14        24\n",
      "        SCpI       0.00      0.00      0.00         7\n",
      "\n",
      "    accuracy                           0.25       315\n",
      "   macro avg       0.28      0.19      0.17       315\n",
      "weighted avg       0.43      0.25      0.28       315\n",
      "\n"
     ]
    }
   ],
   "source": [
    "classificazione(reprs, y_party)"
   ]
  },
  {
   "cell_type": "code",
   "execution_count": 8,
   "id": "b85b6d50",
   "metadata": {
    "scrolled": true
   },
   "outputs": [
    {
     "name": "stdout",
     "output_type": "stream",
     "text": [
      "tfidf\n",
      "                             precision    recall  f1-score   support\n",
      "\n",
      "                     Centro       0.00      0.00      0.00         7\n",
      " Centro verso centro-destra       0.11      0.06      0.08        17\n",
      "              Centro-destra       0.63      0.59      0.61        54\n",
      "            Centro-sinistra       0.64      0.69      0.67       108\n",
      "Destra verso estrema destra       0.51      0.54      0.52        56\n",
      "                Pigliatutto       0.66      0.70      0.68        73\n",
      "\n",
      "                   accuracy                           0.60       315\n",
      "                  macro avg       0.43      0.43      0.43       315\n",
      "               weighted avg       0.58      0.60      0.59       315\n",
      "\n",
      "doc_embedding\n",
      "                             precision    recall  f1-score   support\n",
      "\n",
      "                     Centro       0.00      0.00      0.00         7\n",
      " Centro verso centro-destra       0.12      0.06      0.08        17\n",
      "              Centro-destra       0.60      0.54      0.57        54\n",
      "            Centro-sinistra       0.60      0.69      0.65       108\n",
      "Destra verso estrema destra       0.47      0.48      0.47        56\n",
      "                Pigliatutto       0.61      0.63      0.62        73\n",
      "\n",
      "                   accuracy                           0.57       315\n",
      "                  macro avg       0.40      0.40      0.40       315\n",
      "               weighted avg       0.54      0.57      0.55       315\n",
      "\n",
      "pos_docembedding\n",
      "                             precision    recall  f1-score   support\n",
      "\n",
      "                     Centro       0.00      0.00      0.00         7\n",
      " Centro verso centro-destra       0.12      0.06      0.08        17\n",
      "              Centro-destra       0.60      0.56      0.58        54\n",
      "            Centro-sinistra       0.60      0.69      0.65       108\n",
      "Destra verso estrema destra       0.46      0.46      0.46        56\n",
      "                Pigliatutto       0.62      0.64      0.63        73\n",
      "\n",
      "                   accuracy                           0.57       315\n",
      "                  macro avg       0.40      0.40      0.40       315\n",
      "               weighted avg       0.54      0.57      0.55       315\n",
      "\n",
      "linguistic_profile\n",
      "                             precision    recall  f1-score   support\n",
      "\n",
      "                     Centro       0.00      0.00      0.00         7\n",
      " Centro verso centro-destra       0.00      0.00      0.00        17\n",
      "              Centro-destra       0.56      0.09      0.16        54\n",
      "            Centro-sinistra       0.60      0.39      0.47       108\n",
      "Destra verso estrema destra       0.56      0.09      0.15        56\n",
      "                Pigliatutto       0.30      0.92      0.45        73\n",
      "\n",
      "                   accuracy                           0.38       315\n",
      "                  macro avg       0.34      0.25      0.21       315\n",
      "               weighted avg       0.47      0.38      0.32       315\n",
      "\n"
     ]
    }
   ],
   "source": [
    "classificazione(reprs, y_ori)"
   ]
  },
  {
   "cell_type": "code",
   "execution_count": 9,
   "id": "38668f06",
   "metadata": {
    "scrolled": true
   },
   "outputs": [
    {
     "name": "stdout",
     "output_type": "stream",
     "text": [
      "tfidf\n",
      "Fitting 2 folds for each of 12 candidates, totalling 24 fits\n",
      "Best Parameters: {'C': 0.1, 'class_weight': 'balanced', 'loss': 'squared_hinge', 'penalty': 'l1'}\n",
      "Best Cross-Validation Accuracy: 0.7103174603174603\n",
      "              precision    recall  f1-score   support\n",
      "\n",
      "       FI-BP       0.68      0.83      0.75        30\n",
      "         FdI       0.87      0.76      0.81        17\n",
      "        Lega       0.86      0.92      0.89        39\n",
      "         M5S       0.85      0.92      0.88        73\n",
      "         NCD       0.45      0.29      0.36        17\n",
      "          PD       0.79      0.80      0.79       108\n",
      "         PdL       0.71      0.50      0.59        24\n",
      "        SCpI       0.20      0.14      0.17         7\n",
      "\n",
      "    accuracy                           0.78       315\n",
      "   macro avg       0.67      0.65      0.65       315\n",
      "weighted avg       0.77      0.78      0.77       315\n",
      "\n",
      "doc_embedding\n",
      "Fitting 2 folds for each of 12 candidates, totalling 24 fits\n",
      "Best Parameters: {'C': 0.01, 'class_weight': 'balanced', 'loss': 'squared_hinge', 'penalty': 'l2'}\n",
      "Best Cross-Validation Accuracy: 0.49603174603174605\n",
      "              precision    recall  f1-score   support\n",
      "\n",
      "       FI-BP       0.38      0.47      0.42        30\n",
      "         FdI       0.35      0.41      0.38        17\n",
      "        Lega       0.34      0.38      0.36        39\n",
      "         M5S       0.73      0.67      0.70        73\n",
      "         NCD       0.05      0.06      0.05        17\n",
      "          PD       0.67      0.58      0.62       108\n",
      "         PdL       0.28      0.33      0.30        24\n",
      "        SCpI       0.25      0.14      0.18         7\n",
      "\n",
      "    accuracy                           0.50       315\n",
      "   macro avg       0.38      0.38      0.38       315\n",
      "weighted avg       0.53      0.50      0.51       315\n",
      "\n",
      "pos_docembedding\n",
      "Fitting 2 folds for each of 12 candidates, totalling 24 fits\n",
      "Best Parameters: {'C': 1, 'class_weight': 'balanced', 'loss': 'squared_hinge', 'penalty': 'l2'}\n",
      "Best Cross-Validation Accuracy: 0.46825396825396826\n",
      "              precision    recall  f1-score   support\n",
      "\n",
      "       FI-BP       0.34      0.43      0.38        30\n",
      "         FdI       0.17      0.24      0.20        17\n",
      "        Lega       0.30      0.36      0.33        39\n",
      "         M5S       0.65      0.64      0.65        73\n",
      "         NCD       0.06      0.06      0.06        17\n",
      "          PD       0.65      0.56      0.60       108\n",
      "         PdL       0.30      0.25      0.27        24\n",
      "        SCpI       0.00      0.00      0.00         7\n",
      "\n",
      "    accuracy                           0.46       315\n",
      "   macro avg       0.31      0.32      0.31       315\n",
      "weighted avg       0.48      0.46      0.47       315\n",
      "\n",
      "linguistic_profile\n",
      "Fitting 2 folds for each of 12 candidates, totalling 24 fits\n",
      "Best Parameters: {'C': 0.1, 'class_weight': 'balanced', 'loss': 'squared_hinge', 'penalty': 'l1'}\n",
      "Best Cross-Validation Accuracy: 0.5357142857142857\n",
      "              precision    recall  f1-score   support\n",
      "\n",
      "       FI-BP       0.63      0.63      0.63        30\n",
      "         FdI       0.29      0.35      0.32        17\n",
      "        Lega       0.27      0.21      0.23        39\n",
      "         M5S       0.55      0.49      0.52        73\n",
      "         NCD       0.23      0.29      0.26        17\n",
      "          PD       0.68      0.69      0.69       108\n",
      "         PdL       0.29      0.33      0.31        24\n",
      "        SCpI       0.00      0.00      0.00         7\n",
      "\n",
      "    accuracy                           0.50       315\n",
      "   macro avg       0.37      0.38      0.37       315\n",
      "weighted avg       0.50      0.50      0.50       315\n",
      "\n"
     ]
    }
   ],
   "source": [
    "linearSvcBestParams(reprs, y_party)"
   ]
  },
  {
   "cell_type": "code",
   "execution_count": 10,
   "id": "d269e5f5",
   "metadata": {
    "scrolled": true
   },
   "outputs": [
    {
     "name": "stdout",
     "output_type": "stream",
     "text": [
      "tfidf\n",
      "Fitting 2 folds for each of 12 candidates, totalling 24 fits\n",
      "Best Parameters: {'C': 0.1, 'class_weight': 'balanced', 'loss': 'squared_hinge', 'penalty': 'l1'}\n",
      "Best Cross-Validation Accuracy: 0.7301587301587302\n",
      "                             precision    recall  f1-score   support\n",
      "\n",
      "                     Centro       0.20      0.14      0.17         7\n",
      " Centro verso centro-destra       0.38      0.29      0.33        17\n",
      "              Centro-destra       0.74      0.78      0.76        54\n",
      "            Centro-sinistra       0.79      0.79      0.79       108\n",
      "Destra verso estrema destra       0.89      0.86      0.87        56\n",
      "                Pigliatutto       0.87      0.93      0.90        73\n",
      "\n",
      "                   accuracy                           0.79       315\n",
      "                  macro avg       0.64      0.63      0.64       315\n",
      "               weighted avg       0.78      0.79      0.79       315\n",
      "\n",
      "doc_embedding\n",
      "Fitting 2 folds for each of 12 candidates, totalling 24 fits\n",
      "Best Parameters: {'C': 0.01, 'class_weight': 'balanced', 'loss': 'squared_hinge', 'penalty': 'l2'}\n",
      "Best Cross-Validation Accuracy: 0.5357142857142858\n",
      "                             precision    recall  f1-score   support\n",
      "\n",
      "                     Centro       0.20      0.14      0.17         7\n",
      " Centro verso centro-destra       0.05      0.06      0.05        17\n",
      "              Centro-destra       0.50      0.61      0.55        54\n",
      "            Centro-sinistra       0.66      0.60      0.63       108\n",
      "Destra verso estrema destra       0.48      0.50      0.49        56\n",
      "                Pigliatutto       0.73      0.66      0.69        73\n",
      "\n",
      "                   accuracy                           0.56       315\n",
      "                  macro avg       0.44      0.43      0.43       315\n",
      "               weighted avg       0.57      0.56      0.56       315\n",
      "\n",
      "pos_docembedding\n",
      "Fitting 2 folds for each of 12 candidates, totalling 24 fits\n",
      "Best Parameters: {'C': 1, 'class_weight': 'balanced', 'loss': 'squared_hinge', 'penalty': 'l1'}\n",
      "Best Cross-Validation Accuracy: 0.5317460317460317\n",
      "                             precision    recall  f1-score   support\n",
      "\n",
      "                     Centro       0.10      0.14      0.12         7\n",
      " Centro verso centro-destra       0.17      0.24      0.20        17\n",
      "              Centro-destra       0.45      0.46      0.45        54\n",
      "            Centro-sinistra       0.61      0.57      0.59       108\n",
      "Destra verso estrema destra       0.60      0.59      0.59        56\n",
      "                Pigliatutto       0.65      0.62      0.63        73\n",
      "\n",
      "                   accuracy                           0.54       315\n",
      "                  macro avg       0.43      0.44      0.43       315\n",
      "               weighted avg       0.56      0.54      0.55       315\n",
      "\n",
      "linguistic_profile\n",
      "Fitting 2 folds for each of 12 candidates, totalling 24 fits\n",
      "Best Parameters: {'C': 0.1, 'class_weight': 'balanced', 'loss': 'squared_hinge', 'penalty': 'l1'}\n",
      "Best Cross-Validation Accuracy: 0.5119047619047619\n",
      "                             precision    recall  f1-score   support\n",
      "\n",
      "                     Centro       0.14      0.14      0.14         7\n",
      " Centro verso centro-destra       0.19      0.24      0.21        17\n",
      "              Centro-destra       0.58      0.61      0.59        54\n",
      "            Centro-sinistra       0.68      0.72      0.70       108\n",
      "Destra verso estrema destra       0.45      0.41      0.43        56\n",
      "                Pigliatutto       0.62      0.55      0.58        73\n",
      "\n",
      "                   accuracy                           0.57       315\n",
      "                  macro avg       0.44      0.45      0.44       315\n",
      "               weighted avg       0.57      0.57      0.57       315\n",
      "\n"
     ]
    }
   ],
   "source": [
    "linearSvcBestParams(reprs, y_ori)"
   ]
  },
  {
   "cell_type": "markdown",
   "id": "a9eb7d42",
   "metadata": {},
   "source": [
    "### Selezione di soli due partiti"
   ]
  },
  {
   "cell_type": "code",
   "execution_count": 11,
   "id": "841437ae",
   "metadata": {},
   "outputs": [],
   "source": [
    "filtered_df = speaker_df[speaker_df[\"Speaker_party\"].isin([\"PD\", \"M5S\"])]\n",
    "\n",
    "x_tfidf = np.array([ast.literal_eval(item) for item in filtered_df[\"tfidf\"]])\n",
    "x_docembedding = np.array([ast.literal_eval(item) for item in filtered_df[\"doc_embedding\"]])\n",
    "x_linguistic_profile = np.array([ast.literal_eval(item) for item in filtered_df[\"linguistic_profile\"]])\n",
    "\n",
    "reprs = {\n",
    "    \"tfidf\": x_tfidf,\n",
    "    \"doc_embedding\": x_docembedding,\n",
    "    \"linguistic_profile\": x_linguistic_profile\n",
    "}\n",
    "\n",
    "y_party = filtered_df[\"Speaker_party\"].values\n",
    "y_ori = filtered_df[\"Party_orientation\"].values"
   ]
  },
  {
   "cell_type": "code",
   "execution_count": 12,
   "id": "08d8ef0b",
   "metadata": {
    "scrolled": true
   },
   "outputs": [
    {
     "name": "stdout",
     "output_type": "stream",
     "text": [
      "tfidf\n",
      "              precision    recall  f1-score   support\n",
      "\n",
      "         M5S       0.77      0.82      0.79        73\n",
      "          PD       0.87      0.83      0.85       108\n",
      "\n",
      "    accuracy                           0.83       181\n",
      "   macro avg       0.82      0.83      0.82       181\n",
      "weighted avg       0.83      0.83      0.83       181\n",
      "\n",
      "doc_embedding\n",
      "              precision    recall  f1-score   support\n",
      "\n",
      "         M5S       0.73      0.75      0.74        73\n",
      "          PD       0.83      0.81      0.82       108\n",
      "\n",
      "    accuracy                           0.79       181\n",
      "   macro avg       0.78      0.78      0.78       181\n",
      "weighted avg       0.79      0.79      0.79       181\n",
      "\n",
      "linguistic_profile\n",
      "              precision    recall  f1-score   support\n",
      "\n",
      "         M5S       0.48      0.93      0.64        73\n",
      "          PD       0.88      0.32      0.47       108\n",
      "\n",
      "    accuracy                           0.57       181\n",
      "   macro avg       0.68      0.63      0.55       181\n",
      "weighted avg       0.72      0.57      0.54       181\n",
      "\n"
     ]
    }
   ],
   "source": [
    "classificazione(reprs, y_party)"
   ]
  },
  {
   "cell_type": "code",
   "execution_count": 13,
   "id": "82df0bee",
   "metadata": {
    "scrolled": true
   },
   "outputs": [
    {
     "name": "stdout",
     "output_type": "stream",
     "text": [
      "tfidf\n",
      "                 precision    recall  f1-score   support\n",
      "\n",
      "Centro-sinistra       0.87      0.83      0.85       108\n",
      "    Pigliatutto       0.77      0.82      0.79        73\n",
      "\n",
      "       accuracy                           0.83       181\n",
      "      macro avg       0.82      0.83      0.82       181\n",
      "   weighted avg       0.83      0.83      0.83       181\n",
      "\n",
      "doc_embedding\n",
      "                 precision    recall  f1-score   support\n",
      "\n",
      "Centro-sinistra       0.83      0.81      0.82       108\n",
      "    Pigliatutto       0.73      0.75      0.74        73\n",
      "\n",
      "       accuracy                           0.79       181\n",
      "      macro avg       0.78      0.78      0.78       181\n",
      "   weighted avg       0.79      0.79      0.79       181\n",
      "\n",
      "linguistic_profile\n",
      "                 precision    recall  f1-score   support\n",
      "\n",
      "Centro-sinistra       0.75      0.67      0.71       108\n",
      "    Pigliatutto       0.58      0.67      0.62        73\n",
      "\n",
      "       accuracy                           0.67       181\n",
      "      macro avg       0.66      0.67      0.66       181\n",
      "   weighted avg       0.68      0.67      0.67       181\n",
      "\n"
     ]
    }
   ],
   "source": [
    "classificazione(reprs, y_ori)"
   ]
  },
  {
   "cell_type": "code",
   "execution_count": 14,
   "id": "88f6e5c8",
   "metadata": {
    "scrolled": true
   },
   "outputs": [
    {
     "name": "stdout",
     "output_type": "stream",
     "text": [
      "tfidf\n",
      "Fitting 2 folds for each of 12 candidates, totalling 24 fits\n",
      "Best Parameters: {'C': 0.1, 'class_weight': 'balanced', 'loss': 'squared_hinge', 'penalty': 'l1'}\n",
      "Best Cross-Validation Accuracy: 0.8611111111111112\n",
      "              precision    recall  f1-score   support\n",
      "\n",
      "         M5S       0.80      0.95      0.87        73\n",
      "          PD       0.96      0.84      0.90       108\n",
      "\n",
      "    accuracy                           0.88       181\n",
      "   macro avg       0.88      0.89      0.88       181\n",
      "weighted avg       0.90      0.88      0.89       181\n",
      "\n",
      "doc_embedding\n",
      "Fitting 2 folds for each of 12 candidates, totalling 24 fits\n",
      "Best Parameters: {'C': 0.01, 'class_weight': 'balanced', 'loss': 'squared_hinge', 'penalty': 'l2'}\n",
      "Best Cross-Validation Accuracy: 0.8402777777777778\n",
      "              precision    recall  f1-score   support\n",
      "\n",
      "         M5S       0.76      0.86      0.81        73\n",
      "          PD       0.90      0.81      0.85       108\n",
      "\n",
      "    accuracy                           0.83       181\n",
      "   macro avg       0.83      0.84      0.83       181\n",
      "weighted avg       0.84      0.83      0.84       181\n",
      "\n",
      "linguistic_profile\n",
      "Fitting 2 folds for each of 12 candidates, totalling 24 fits\n",
      "Best Parameters: {'C': 1, 'class_weight': 'balanced', 'loss': 'squared_hinge', 'penalty': 'l1'}\n",
      "Best Cross-Validation Accuracy: 0.8055555555555556\n",
      "              precision    recall  f1-score   support\n",
      "\n",
      "         M5S       0.71      0.84      0.77        73\n",
      "          PD       0.87      0.77      0.82       108\n",
      "\n",
      "    accuracy                           0.80       181\n",
      "   macro avg       0.79      0.80      0.79       181\n",
      "weighted avg       0.81      0.80      0.80       181\n",
      "\n"
     ]
    }
   ],
   "source": [
    "linearSvcBestParams(reprs, y_party)"
   ]
  },
  {
   "cell_type": "code",
   "execution_count": 15,
   "id": "30a00dc5",
   "metadata": {
    "scrolled": true
   },
   "outputs": [
    {
     "name": "stdout",
     "output_type": "stream",
     "text": [
      "tfidf\n",
      "Fitting 2 folds for each of 12 candidates, totalling 24 fits\n",
      "Best Parameters: {'C': 0.1, 'class_weight': 'balanced', 'loss': 'squared_hinge', 'penalty': 'l1'}\n",
      "Best Cross-Validation Accuracy: 0.8611111111111112\n",
      "                 precision    recall  f1-score   support\n",
      "\n",
      "Centro-sinistra       0.96      0.84      0.90       108\n",
      "    Pigliatutto       0.80      0.95      0.87        73\n",
      "\n",
      "       accuracy                           0.88       181\n",
      "      macro avg       0.88      0.89      0.88       181\n",
      "   weighted avg       0.90      0.88      0.89       181\n",
      "\n",
      "doc_embedding\n",
      "Fitting 2 folds for each of 12 candidates, totalling 24 fits\n",
      "Best Parameters: {'C': 0.01, 'class_weight': 'balanced', 'loss': 'squared_hinge', 'penalty': 'l2'}\n",
      "Best Cross-Validation Accuracy: 0.8402777777777778\n",
      "                 precision    recall  f1-score   support\n",
      "\n",
      "Centro-sinistra       0.90      0.81      0.85       108\n",
      "    Pigliatutto       0.76      0.86      0.81        73\n",
      "\n",
      "       accuracy                           0.83       181\n",
      "      macro avg       0.83      0.84      0.83       181\n",
      "   weighted avg       0.84      0.83      0.84       181\n",
      "\n",
      "linguistic_profile\n",
      "Fitting 2 folds for each of 12 candidates, totalling 24 fits\n",
      "Best Parameters: {'C': 1, 'class_weight': 'balanced', 'loss': 'squared_hinge', 'penalty': 'l1'}\n",
      "Best Cross-Validation Accuracy: 0.8055555555555556\n",
      "                 precision    recall  f1-score   support\n",
      "\n",
      "Centro-sinistra       0.85      0.79      0.82       108\n",
      "    Pigliatutto       0.72      0.79      0.75        73\n",
      "\n",
      "       accuracy                           0.79       181\n",
      "      macro avg       0.78      0.79      0.79       181\n",
      "   weighted avg       0.80      0.79      0.79       181\n",
      "\n"
     ]
    }
   ],
   "source": [
    "linearSvcBestParams(reprs, y_ori)"
   ]
  },
  {
   "cell_type": "markdown",
   "id": "c47aefc5",
   "metadata": {},
   "source": [
    "### Selezione di soli quattro partiti"
   ]
  },
  {
   "cell_type": "code",
   "execution_count": 16,
   "id": "f19dd69f",
   "metadata": {},
   "outputs": [],
   "source": [
    "filtered_df = speaker_df[speaker_df[\"Speaker_party\"].isin([\"PD\", \"M5S\", \"Lega\", \"FdI\"])]\n",
    "\n",
    "x_tfidf = np.array([ast.literal_eval(item) for item in filtered_df[\"tfidf\"]])\n",
    "x_docembedding = np.array([ast.literal_eval(item) for item in filtered_df[\"doc_embedding\"]])\n",
    "x_linguistic_profile = np.array([ast.literal_eval(item) for item in filtered_df[\"linguistic_profile\"]])\n",
    "\n",
    "reprs = {\n",
    "    \"tfidf\": x_tfidf,\n",
    "    \"doc_embedding\": x_docembedding,\n",
    "    \"linguistic_profile\": x_linguistic_profile\n",
    "}\n",
    "\n",
    "y_party = filtered_df[\"Speaker_party\"].values\n",
    "y_ori = filtered_df[\"Party_orientation\"].values"
   ]
  },
  {
   "cell_type": "code",
   "execution_count": 17,
   "id": "2ff37e2f",
   "metadata": {
    "scrolled": true
   },
   "outputs": [
    {
     "name": "stdout",
     "output_type": "stream",
     "text": [
      "tfidf\n",
      "              precision    recall  f1-score   support\n",
      "\n",
      "         FdI       0.64      0.41      0.50        17\n",
      "        Lega       0.52      0.41      0.46        39\n",
      "         M5S       0.68      0.70      0.69        73\n",
      "          PD       0.72      0.81      0.76       108\n",
      "\n",
      "    accuracy                           0.68       237\n",
      "   macro avg       0.64      0.58      0.60       237\n",
      "weighted avg       0.67      0.68      0.67       237\n",
      "\n",
      "doc_embedding\n",
      "              precision    recall  f1-score   support\n",
      "\n",
      "         FdI       0.60      0.35      0.44        17\n",
      "        Lega       0.41      0.33      0.37        39\n",
      "         M5S       0.64      0.68      0.66        73\n",
      "          PD       0.72      0.78      0.75       108\n",
      "\n",
      "    accuracy                           0.65       237\n",
      "   macro avg       0.59      0.54      0.55       237\n",
      "weighted avg       0.63      0.65      0.64       237\n",
      "\n",
      "linguistic_profile\n",
      "              precision    recall  f1-score   support\n",
      "\n",
      "         FdI       0.33      0.12      0.17        17\n",
      "        Lega       1.00      0.05      0.10        39\n",
      "         M5S       0.40      0.63      0.49        73\n",
      "          PD       0.57      0.60      0.58       108\n",
      "\n",
      "    accuracy                           0.49       237\n",
      "   macro avg       0.58      0.35      0.34       237\n",
      "weighted avg       0.57      0.49      0.45       237\n",
      "\n"
     ]
    }
   ],
   "source": [
    "classificazione(reprs, y_party)"
   ]
  },
  {
   "cell_type": "code",
   "execution_count": 18,
   "id": "13e723e9",
   "metadata": {
    "scrolled": true
   },
   "outputs": [
    {
     "name": "stdout",
     "output_type": "stream",
     "text": [
      "tfidf\n",
      "                             precision    recall  f1-score   support\n",
      "\n",
      "            Centro-sinistra       0.73      0.79      0.76       108\n",
      "Destra verso estrema destra       0.63      0.55      0.59        56\n",
      "                Pigliatutto       0.68      0.67      0.68        73\n",
      "\n",
      "                   accuracy                           0.70       237\n",
      "                  macro avg       0.68      0.67      0.68       237\n",
      "               weighted avg       0.69      0.70      0.69       237\n",
      "\n",
      "doc_embedding\n",
      "                             precision    recall  f1-score   support\n",
      "\n",
      "            Centro-sinistra       0.72      0.77      0.74       108\n",
      "Destra verso estrema destra       0.57      0.54      0.55        56\n",
      "                Pigliatutto       0.65      0.60      0.62        73\n",
      "\n",
      "                   accuracy                           0.66       237\n",
      "                  macro avg       0.64      0.64      0.64       237\n",
      "               weighted avg       0.66      0.66      0.66       237\n",
      "\n",
      "linguistic_profile\n",
      "                             precision    recall  f1-score   support\n",
      "\n",
      "            Centro-sinistra       0.62      0.88      0.73       108\n",
      "Destra verso estrema destra       0.44      0.30      0.36        56\n",
      "                Pigliatutto       0.59      0.37      0.45        73\n",
      "\n",
      "                   accuracy                           0.59       237\n",
      "                  macro avg       0.55      0.52      0.51       237\n",
      "               weighted avg       0.57      0.59      0.56       237\n",
      "\n"
     ]
    }
   ],
   "source": [
    "classificazione(reprs, y_ori)"
   ]
  },
  {
   "cell_type": "code",
   "execution_count": 19,
   "id": "01e0a92b",
   "metadata": {
    "scrolled": true
   },
   "outputs": [
    {
     "name": "stdout",
     "output_type": "stream",
     "text": [
      "tfidf\n",
      "Fitting 2 folds for each of 12 candidates, totalling 24 fits\n",
      "Best Parameters: {'C': 1, 'class_weight': 'balanced', 'loss': 'squared_hinge', 'penalty': 'l1'}\n",
      "Best Cross-Validation Accuracy: 0.8678611422172452\n",
      "              precision    recall  f1-score   support\n",
      "\n",
      "         FdI       0.94      0.94      0.94        17\n",
      "        Lega       0.89      0.85      0.87        39\n",
      "         M5S       0.88      0.93      0.91        73\n",
      "          PD       0.93      0.92      0.93       108\n",
      "\n",
      "    accuracy                           0.91       237\n",
      "   macro avg       0.91      0.91      0.91       237\n",
      "weighted avg       0.91      0.91      0.91       237\n",
      "\n",
      "doc_embedding\n",
      "Fitting 2 folds for each of 12 candidates, totalling 24 fits\n",
      "Best Parameters: {'C': 1, 'class_weight': 'balanced', 'loss': 'squared_hinge', 'penalty': 'l1'}\n",
      "Best Cross-Validation Accuracy: 0.6667413213885778\n",
      "              precision    recall  f1-score   support\n",
      "\n",
      "         FdI       0.50      0.53      0.51        17\n",
      "        Lega       0.46      0.49      0.48        39\n",
      "         M5S       0.69      0.66      0.67        73\n",
      "          PD       0.84      0.84      0.84       108\n",
      "\n",
      "    accuracy                           0.70       237\n",
      "   macro avg       0.62      0.63      0.63       237\n",
      "weighted avg       0.71      0.70      0.71       237\n",
      "\n",
      "linguistic_profile\n",
      "Fitting 2 folds for each of 12 candidates, totalling 24 fits\n",
      "Best Parameters: {'C': 0.1, 'class_weight': 'balanced', 'loss': 'squared_hinge', 'penalty': 'l1'}\n",
      "Best Cross-Validation Accuracy: 0.6243001119820828\n",
      "              precision    recall  f1-score   support\n",
      "\n",
      "         FdI       0.63      0.71      0.67        17\n",
      "        Lega       0.33      0.26      0.29        39\n",
      "         M5S       0.61      0.59      0.60        73\n",
      "          PD       0.76      0.83      0.80       108\n",
      "\n",
      "    accuracy                           0.65       237\n",
      "   macro avg       0.59      0.60      0.59       237\n",
      "weighted avg       0.64      0.65      0.64       237\n",
      "\n"
     ]
    }
   ],
   "source": [
    "linearSvcBestParams(reprs, y_party)"
   ]
  },
  {
   "cell_type": "code",
   "execution_count": 20,
   "id": "5bcfd080",
   "metadata": {
    "scrolled": true
   },
   "outputs": [
    {
     "name": "stdout",
     "output_type": "stream",
     "text": [
      "tfidf\n",
      "Fitting 2 folds for each of 12 candidates, totalling 24 fits\n",
      "Best Parameters: {'C': 0.1, 'class_weight': 'balanced', 'loss': 'squared_hinge', 'penalty': 'l1'}\n",
      "Best Cross-Validation Accuracy: 0.8889137737961925\n",
      "                             precision    recall  f1-score   support\n",
      "\n",
      "            Centro-sinistra       0.92      0.91      0.91       108\n",
      "Destra verso estrema destra       0.91      0.91      0.91        56\n",
      "                Pigliatutto       0.91      0.92      0.91        73\n",
      "\n",
      "                   accuracy                           0.91       237\n",
      "                  macro avg       0.91      0.91      0.91       237\n",
      "               weighted avg       0.91      0.91      0.91       237\n",
      "\n",
      "doc_embedding\n",
      "Fitting 2 folds for each of 12 candidates, totalling 24 fits\n",
      "Best Parameters: {'C': 1, 'class_weight': 'balanced', 'loss': 'squared_hinge', 'penalty': 'l2'}\n",
      "Best Cross-Validation Accuracy: 0.7298432250839866\n",
      "                             precision    recall  f1-score   support\n",
      "\n",
      "            Centro-sinistra       0.83      0.79      0.81       108\n",
      "Destra verso estrema destra       0.67      0.75      0.71        56\n",
      "                Pigliatutto       0.68      0.67      0.68        73\n",
      "\n",
      "                   accuracy                           0.74       237\n",
      "                  macro avg       0.73      0.74      0.73       237\n",
      "               weighted avg       0.75      0.74      0.74       237\n",
      "\n",
      "linguistic_profile\n",
      "Fitting 2 folds for each of 12 candidates, totalling 24 fits\n",
      "Best Parameters: {'C': 0.01, 'class_weight': 'balanced', 'loss': 'squared_hinge', 'penalty': 'l2'}\n",
      "Best Cross-Validation Accuracy: 0.6718924972004479\n",
      "                             precision    recall  f1-score   support\n",
      "\n",
      "            Centro-sinistra       0.84      0.73      0.78       108\n",
      "Destra verso estrema destra       0.48      0.62      0.54        56\n",
      "                Pigliatutto       0.61      0.59      0.60        73\n",
      "\n",
      "                   accuracy                           0.66       237\n",
      "                  macro avg       0.64      0.65      0.64       237\n",
      "               weighted avg       0.69      0.66      0.67       237\n",
      "\n"
     ]
    }
   ],
   "source": [
    "linearSvcBestParams(reprs, y_ori)"
   ]
  },
  {
   "cell_type": "markdown",
   "id": "8136be90",
   "metadata": {},
   "source": [
    "### Selezione di partiti con support >47"
   ]
  },
  {
   "cell_type": "code",
   "execution_count": 21,
   "id": "d066b002",
   "metadata": {},
   "outputs": [],
   "source": [
    "filtered_df = speaker_df[speaker_df[\"Speaker_party\"].isin([\"PD\", \"M5S\", \"Lega\", \"PdL\", \"FI-BP\"])]\n",
    "\n",
    "x_tfidf = np.array([ast.literal_eval(item) for item in filtered_df[\"tfidf\"]])\n",
    "x_docembedding = np.array([ast.literal_eval(item) for item in filtered_df[\"doc_embedding\"]])\n",
    "x_linguistic_profile = np.array([ast.literal_eval(item) for item in filtered_df[\"linguistic_profile\"]])\n",
    "\n",
    "reprs = {\n",
    "    \"tfidf\": x_tfidf,\n",
    "    \"doc_embedding\": x_docembedding,\n",
    "    \"linguistic_profile\": x_linguistic_profile\n",
    "}\n",
    "\n",
    "y_party = filtered_df[\"Speaker_party\"].values\n",
    "y_ori = filtered_df[\"Party_orientation\"].values"
   ]
  },
  {
   "cell_type": "code",
   "execution_count": 22,
   "id": "ba513c8a",
   "metadata": {
    "scrolled": true
   },
   "outputs": [
    {
     "name": "stdout",
     "output_type": "stream",
     "text": [
      "tfidf\n",
      "              precision    recall  f1-score   support\n",
      "\n",
      "       FI-BP       0.74      0.67      0.70        30\n",
      "        Lega       0.45      0.46      0.46        39\n",
      "         M5S       0.65      0.67      0.66        73\n",
      "          PD       0.70      0.80      0.74       108\n",
      "         PdL       0.67      0.25      0.36        24\n",
      "\n",
      "    accuracy                           0.65       274\n",
      "   macro avg       0.64      0.57      0.59       274\n",
      "weighted avg       0.65      0.65      0.64       274\n",
      "\n",
      "doc_embedding\n",
      "              precision    recall  f1-score   support\n",
      "\n",
      "       FI-BP       0.68      0.63      0.66        30\n",
      "        Lega       0.35      0.33      0.34        39\n",
      "         M5S       0.59      0.64      0.62        73\n",
      "          PD       0.68      0.77      0.72       108\n",
      "         PdL       0.50      0.17      0.25        24\n",
      "\n",
      "    accuracy                           0.61       274\n",
      "   macro avg       0.56      0.51      0.52       274\n",
      "weighted avg       0.59      0.61      0.59       274\n",
      "\n",
      "linguistic_profile\n",
      "              precision    recall  f1-score   support\n",
      "\n",
      "       FI-BP       0.00      0.00      0.00        30\n",
      "        Lega       0.31      0.10      0.15        39\n",
      "         M5S       0.36      0.81      0.50        73\n",
      "          PD       0.65      0.59      0.62       108\n",
      "         PdL       0.00      0.00      0.00        24\n",
      "\n",
      "    accuracy                           0.46       274\n",
      "   macro avg       0.26      0.30      0.26       274\n",
      "weighted avg       0.40      0.46      0.40       274\n",
      "\n"
     ]
    }
   ],
   "source": [
    "classificazione(reprs, y_party)"
   ]
  },
  {
   "cell_type": "code",
   "execution_count": 23,
   "id": "bd398842",
   "metadata": {
    "scrolled": true
   },
   "outputs": [
    {
     "name": "stdout",
     "output_type": "stream",
     "text": [
      "tfidf\n",
      "                             precision    recall  f1-score   support\n",
      "\n",
      "              Centro-destra       0.68      0.59      0.63        54\n",
      "            Centro-sinistra       0.71      0.81      0.75       108\n",
      "Destra verso estrema destra       0.50      0.44      0.47        39\n",
      "                Pigliatutto       0.71      0.68      0.70        73\n",
      "\n",
      "                   accuracy                           0.68       274\n",
      "                  macro avg       0.65      0.63      0.64       274\n",
      "               weighted avg       0.67      0.68      0.67       274\n",
      "\n",
      "doc_embedding\n",
      "                             precision    recall  f1-score   support\n",
      "\n",
      "              Centro-destra       0.62      0.56      0.59        54\n",
      "            Centro-sinistra       0.69      0.77      0.72       108\n",
      "Destra verso estrema destra       0.42      0.33      0.37        39\n",
      "                Pigliatutto       0.64      0.64      0.64        73\n",
      "\n",
      "                   accuracy                           0.63       274\n",
      "                  macro avg       0.59      0.58      0.58       274\n",
      "               weighted avg       0.62      0.63      0.62       274\n",
      "\n",
      "linguistic_profile\n",
      "                             precision    recall  f1-score   support\n",
      "\n",
      "              Centro-destra       0.35      0.15      0.21        54\n",
      "            Centro-sinistra       0.47      0.90      0.62       108\n",
      "Destra verso estrema destra       0.23      0.13      0.16        39\n",
      "                Pigliatutto       0.45      0.14      0.21        73\n",
      "\n",
      "                   accuracy                           0.44       274\n",
      "                  macro avg       0.37      0.33      0.30       274\n",
      "               weighted avg       0.41      0.44      0.36       274\n",
      "\n"
     ]
    }
   ],
   "source": [
    "classificazione(reprs, y_ori)"
   ]
  },
  {
   "cell_type": "code",
   "execution_count": 24,
   "id": "1771ec57",
   "metadata": {
    "scrolled": true
   },
   "outputs": [
    {
     "name": "stdout",
     "output_type": "stream",
     "text": [
      "tfidf\n",
      "Fitting 2 folds for each of 12 candidates, totalling 24 fits\n",
      "Best Parameters: {'C': 1, 'class_weight': 'balanced', 'loss': 'squared_hinge', 'penalty': 'l1'}\n",
      "Best Cross-Validation Accuracy: 0.7989157631359466\n",
      "              precision    recall  f1-score   support\n",
      "\n",
      "       FI-BP       0.72      0.70      0.71        30\n",
      "        Lega       0.88      0.90      0.89        39\n",
      "         M5S       0.91      0.92      0.91        73\n",
      "          PD       0.85      0.91      0.88       108\n",
      "         PdL       0.69      0.46      0.55        24\n",
      "\n",
      "    accuracy                           0.85       274\n",
      "   macro avg       0.81      0.78      0.79       274\n",
      "weighted avg       0.84      0.85      0.84       274\n",
      "\n",
      "doc_embedding\n",
      "Fitting 2 folds for each of 12 candidates, totalling 24 fits\n",
      "Best Parameters: {'C': 0.1, 'class_weight': 'balanced', 'loss': 'squared_hinge', 'penalty': 'l1'}\n",
      "Best Cross-Validation Accuracy: 0.5754378648874061\n",
      "              precision    recall  f1-score   support\n",
      "\n",
      "       FI-BP       0.62      0.67      0.65        30\n",
      "        Lega       0.51      0.54      0.53        39\n",
      "         M5S       0.73      0.66      0.69        73\n",
      "          PD       0.83      0.83      0.83       108\n",
      "         PdL       0.42      0.46      0.44        24\n",
      "\n",
      "    accuracy                           0.69       274\n",
      "   macro avg       0.62      0.63      0.63       274\n",
      "weighted avg       0.70      0.69      0.69       274\n",
      "\n",
      "linguistic_profile\n",
      "Fitting 2 folds for each of 12 candidates, totalling 24 fits\n",
      "Best Parameters: {'C': 0.1, 'class_weight': 'balanced', 'loss': 'squared_hinge', 'penalty': 'l1'}\n",
      "Best Cross-Validation Accuracy: 0.6074228523769808\n",
      "              precision    recall  f1-score   support\n",
      "\n",
      "       FI-BP       0.69      0.73      0.71        30\n",
      "        Lega       0.26      0.23      0.25        39\n",
      "         M5S       0.61      0.62      0.61        73\n",
      "          PD       0.76      0.81      0.79       108\n",
      "         PdL       0.50      0.38      0.43        24\n",
      "\n",
      "    accuracy                           0.63       274\n",
      "   macro avg       0.56      0.55      0.56       274\n",
      "weighted avg       0.62      0.63      0.62       274\n",
      "\n"
     ]
    }
   ],
   "source": [
    "linearSvcBestParams(reprs, y_party)"
   ]
  },
  {
   "cell_type": "code",
   "execution_count": 25,
   "id": "8e574e71",
   "metadata": {
    "scrolled": true
   },
   "outputs": [
    {
     "name": "stdout",
     "output_type": "stream",
     "text": [
      "tfidf\n",
      "Fitting 2 folds for each of 12 candidates, totalling 24 fits\n",
      "Best Parameters: {'C': 0.1, 'class_weight': 'balanced', 'loss': 'squared_hinge', 'penalty': 'l1'}\n",
      "Best Cross-Validation Accuracy: 0.8127189324437031\n",
      "                             precision    recall  f1-score   support\n",
      "\n",
      "              Centro-destra       0.92      0.81      0.86        54\n",
      "            Centro-sinistra       0.88      0.92      0.90       108\n",
      "Destra verso estrema destra       0.93      0.95      0.94        39\n",
      "                Pigliatutto       0.93      0.93      0.93        73\n",
      "\n",
      "                   accuracy                           0.91       274\n",
      "                  macro avg       0.91      0.90      0.91       274\n",
      "               weighted avg       0.91      0.91      0.90       274\n",
      "\n",
      "doc_embedding\n",
      "Fitting 2 folds for each of 12 candidates, totalling 24 fits\n",
      "Best Parameters: {'C': 0.1, 'class_weight': 'balanced', 'loss': 'squared_hinge', 'penalty': 'l1'}\n",
      "Best Cross-Validation Accuracy: 0.6211009174311927\n",
      "                             precision    recall  f1-score   support\n",
      "\n",
      "              Centro-destra       0.61      0.65      0.63        54\n",
      "            Centro-sinistra       0.77      0.81      0.79       108\n",
      "Destra verso estrema destra       0.46      0.46      0.46        39\n",
      "                Pigliatutto       0.72      0.64      0.68        73\n",
      "\n",
      "                   accuracy                           0.68       274\n",
      "                  macro avg       0.64      0.64      0.64       274\n",
      "               weighted avg       0.68      0.68      0.68       274\n",
      "\n",
      "linguistic_profile\n",
      "Fitting 2 folds for each of 12 candidates, totalling 24 fits\n",
      "Best Parameters: {'C': 0.01, 'class_weight': 'balanced', 'loss': 'squared_hinge', 'penalty': 'l2'}\n",
      "Best Cross-Validation Accuracy: 0.6210175145954963\n",
      "                             precision    recall  f1-score   support\n",
      "\n",
      "              Centro-destra       0.68      0.72      0.70        54\n",
      "            Centro-sinistra       0.75      0.77      0.76       108\n",
      "Destra verso estrema destra       0.27      0.28      0.28        39\n",
      "                Pigliatutto       0.65      0.59      0.62        73\n",
      "\n",
      "                   accuracy                           0.64       274\n",
      "                  macro avg       0.59      0.59      0.59       274\n",
      "               weighted avg       0.64      0.64      0.64       274\n",
      "\n"
     ]
    }
   ],
   "source": [
    "linearSvcBestParams(reprs, y_ori)"
   ]
  },
  {
   "cell_type": "code",
   "execution_count": null,
   "id": "470f083a",
   "metadata": {},
   "outputs": [],
   "source": []
  }
 ],
 "metadata": {
  "kernelspec": {
   "display_name": "Python 3 (ipykernel)",
   "language": "python",
   "name": "python3"
  },
  "language_info": {
   "codemirror_mode": {
    "name": "ipython",
    "version": 3
   },
   "file_extension": ".py",
   "mimetype": "text/x-python",
   "name": "python",
   "nbconvert_exporter": "python",
   "pygments_lexer": "ipython3",
   "version": "3.11.4"
  }
 },
 "nbformat": 4,
 "nbformat_minor": 5
}
