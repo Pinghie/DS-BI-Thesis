{
 "cells": [
  {
   "cell_type": "code",
   "execution_count": 40,
   "id": "05adfcda",
   "metadata": {},
   "outputs": [],
   "source": [
    "import pandas as pd"
   ]
  },
  {
   "cell_type": "markdown",
   "id": "a1d059f9",
   "metadata": {},
   "source": [
    "# CHES DATA"
   ]
  },
  {
   "cell_type": "code",
   "execution_count": 41,
   "id": "83c5881c",
   "metadata": {},
   "outputs": [],
   "source": [
    "df = pd.read_csv(\"data/external_tags/ches.csv\")"
   ]
  },
  {
   "cell_type": "code",
   "execution_count": 42,
   "id": "63859b5e",
   "metadata": {},
   "outputs": [],
   "source": [
    "df_ches = df[df[\"country\"] == 8]\n",
    "df_ches = df_ches.loc[df_ches.groupby('party')['expert'].idxmax()] #non mi interessa l'anno: prendo l'anno con più annotatori"
   ]
  },
  {
   "cell_type": "code",
   "execution_count": 43,
   "id": "44372ee0",
   "metadata": {},
   "outputs": [],
   "source": [
    "parties_to_consider = [\"LN\", \"PDL\", \"SC\", \"M5S\", \"NCD\", \"FdI\", \"FI\", \"PD\"]\n",
    "df_ches = df_ches.drop(df_ches[~df_ches.party.isin(parties_to_consider)].index)\n",
    "df_ches = df_ches[[\"party\", \"family\", \"lrgen\", \"people_vs_elite\", \"antielite_salience\"]]"
   ]
  },
  {
   "cell_type": "code",
   "execution_count": 44,
   "id": "285674c5",
   "metadata": {},
   "outputs": [
    {
     "data": {
      "text/html": [
       "<div>\n",
       "<style scoped>\n",
       "    .dataframe tbody tr th:only-of-type {\n",
       "        vertical-align: middle;\n",
       "    }\n",
       "\n",
       "    .dataframe tbody tr th {\n",
       "        vertical-align: top;\n",
       "    }\n",
       "\n",
       "    .dataframe thead th {\n",
       "        text-align: right;\n",
       "    }\n",
       "</style>\n",
       "<table border=\"1\" class=\"dataframe\">\n",
       "  <thead>\n",
       "    <tr style=\"text-align: right;\">\n",
       "      <th></th>\n",
       "      <th>party</th>\n",
       "      <th>family</th>\n",
       "      <th>lrgen</th>\n",
       "      <th>people_vs_elite</th>\n",
       "      <th>antielite_salience</th>\n",
       "    </tr>\n",
       "  </thead>\n",
       "  <tbody>\n",
       "    <tr>\n",
       "      <th>471</th>\n",
       "      <td>FI</td>\n",
       "      <td>2</td>\n",
       "      <td>6.947369</td>\n",
       "      <td>4.066667</td>\n",
       "      <td>4.176471</td>\n",
       "    </tr>\n",
       "    <tr>\n",
       "      <th>467</th>\n",
       "      <td>FdI</td>\n",
       "      <td>2</td>\n",
       "      <td>9.052631</td>\n",
       "      <td>6.625000</td>\n",
       "      <td>8.000000</td>\n",
       "    </tr>\n",
       "    <tr>\n",
       "      <th>469</th>\n",
       "      <td>LN</td>\n",
       "      <td>1</td>\n",
       "      <td>8.789474</td>\n",
       "      <td>6.937500</td>\n",
       "      <td>8.333333</td>\n",
       "    </tr>\n",
       "    <tr>\n",
       "      <th>465</th>\n",
       "      <td>M5S</td>\n",
       "      <td>9</td>\n",
       "      <td>4.777778</td>\n",
       "      <td>9.529411</td>\n",
       "      <td>8.888889</td>\n",
       "    </tr>\n",
       "    <tr>\n",
       "      <th>463</th>\n",
       "      <td>NCD</td>\n",
       "      <td>2</td>\n",
       "      <td>6.142857</td>\n",
       "      <td>NaN</td>\n",
       "      <td>2.200000</td>\n",
       "    </tr>\n",
       "    <tr>\n",
       "      <th>468</th>\n",
       "      <td>PD</td>\n",
       "      <td>5</td>\n",
       "      <td>3.210526</td>\n",
       "      <td>2.062500</td>\n",
       "      <td>1.882353</td>\n",
       "    </tr>\n",
       "    <tr>\n",
       "      <th>445</th>\n",
       "      <td>PDL</td>\n",
       "      <td>2</td>\n",
       "      <td>7.555555</td>\n",
       "      <td>NaN</td>\n",
       "      <td>NaN</td>\n",
       "    </tr>\n",
       "    <tr>\n",
       "      <th>452</th>\n",
       "      <td>SC</td>\n",
       "      <td>3</td>\n",
       "      <td>5.428571</td>\n",
       "      <td>NaN</td>\n",
       "      <td>1.000000</td>\n",
       "    </tr>\n",
       "  </tbody>\n",
       "</table>\n",
       "</div>"
      ],
      "text/plain": [
       "    party  family     lrgen  people_vs_elite  antielite_salience\n",
       "471    FI       2  6.947369         4.066667            4.176471\n",
       "467   FdI       2  9.052631         6.625000            8.000000\n",
       "469    LN       1  8.789474         6.937500            8.333333\n",
       "465   M5S       9  4.777778         9.529411            8.888889\n",
       "463   NCD       2  6.142857              NaN            2.200000\n",
       "468    PD       5  3.210526         2.062500            1.882353\n",
       "445   PDL       2  7.555555              NaN                 NaN\n",
       "452    SC       3  5.428571              NaN            1.000000"
      ]
     },
     "execution_count": 44,
     "metadata": {},
     "output_type": "execute_result"
    }
   ],
   "source": [
    "df_ches"
   ]
  },
  {
   "cell_type": "code",
   "execution_count": 33,
   "id": "07fbbba2",
   "metadata": {},
   "outputs": [
    {
     "data": {
      "text/plain": [
       "'\\nFamily ID Family\\n1 Radical Right RADRT\\n2 Conservatives CON\\n3 Liberal LIB\\n4 Christian-Democratic CD\\n5 Socialist SOC\\n6 Radical Left RADLEFT\\n7 Green GREEN\\n8 Regionalist REG\\n9 No family NOFAMILY\\n10 Confessional CONFESS\\n11 Agrarian/Center AGRARIAN/CENTER\\n'"
      ]
     },
     "execution_count": 33,
     "metadata": {},
     "output_type": "execute_result"
    }
   ],
   "source": [
    "'''\n",
    "FAMILY\n",
    "1 Radical Right RADRT\n",
    "2 Conservatives CON\n",
    "3 Liberal LIB\n",
    "4 Christian-Democratic CD\n",
    "5 Socialist SOC\n",
    "6 Radical Left RADLEFT\n",
    "7 Green GREEN\n",
    "8 Regionalist REG\n",
    "9 No family NOFAMILY\n",
    "10 Confessional CONFESS\n",
    "11 Agrarian/Center AGRARIAN/CENTER\n",
    "\n",
    "LRGEN\n",
    "0 = Extreme left\n",
    ":\n",
    "5 = Center\n",
    ":\n",
    "10 = Extreme right\n",
    "'''"
   ]
  },
  {
   "cell_type": "markdown",
   "id": "4b0d5029",
   "metadata": {},
   "source": [
    "# POPPA DATA"
   ]
  },
  {
   "cell_type": "code",
   "execution_count": 62,
   "id": "f0248630",
   "metadata": {},
   "outputs": [],
   "source": [
    "df = pd.read_csv(\"data/external_tags/poppa.csv\")"
   ]
  },
  {
   "cell_type": "code",
   "execution_count": 63,
   "id": "94f5f2a6",
   "metadata": {},
   "outputs": [],
   "source": [
    "df_poppa = df[df[\"country\"] == \"Italy\"]\n",
    "df_poppa = df_poppa[df_poppa[\"wave\"] == \"Wave 2 - 2023\"]"
   ]
  },
  {
   "cell_type": "code",
   "execution_count": 66,
   "id": "33cdb7d6",
   "metadata": {},
   "outputs": [],
   "source": [
    "parties_to_consider = [\"Lega\", \"PD\", \"M5S\", \"FdI\", \"FI\"]\n",
    "df_poppa = df_poppa.drop(df_poppa[~df_poppa.party_short.isin(parties_to_consider)].index)\n",
    "df_poppa = df_poppa[[\"party_short\", \"family_label\", \"populism_mean\", \"lroverall\"]]"
   ]
  },
  {
   "cell_type": "code",
   "execution_count": 67,
   "id": "a7d151ef",
   "metadata": {},
   "outputs": [
    {
     "data": {
      "text/html": [
       "<div>\n",
       "<style scoped>\n",
       "    .dataframe tbody tr th:only-of-type {\n",
       "        vertical-align: middle;\n",
       "    }\n",
       "\n",
       "    .dataframe tbody tr th {\n",
       "        vertical-align: top;\n",
       "    }\n",
       "\n",
       "    .dataframe thead th {\n",
       "        text-align: right;\n",
       "    }\n",
       "</style>\n",
       "<table border=\"1\" class=\"dataframe\">\n",
       "  <thead>\n",
       "    <tr style=\"text-align: right;\">\n",
       "      <th></th>\n",
       "      <th>party_short</th>\n",
       "      <th>family_label</th>\n",
       "      <th>populism_mean</th>\n",
       "      <th>lroverall</th>\n",
       "    </tr>\n",
       "  </thead>\n",
       "  <tbody>\n",
       "    <tr>\n",
       "      <th>271</th>\n",
       "      <td>PD</td>\n",
       "      <td>Social Democratic</td>\n",
       "      <td>2.611111</td>\n",
       "      <td>4.166667</td>\n",
       "    </tr>\n",
       "    <tr>\n",
       "      <th>273</th>\n",
       "      <td>M5S</td>\n",
       "      <td>No family</td>\n",
       "      <td>8.033333</td>\n",
       "      <td>3.470588</td>\n",
       "    </tr>\n",
       "    <tr>\n",
       "      <th>275</th>\n",
       "      <td>FI</td>\n",
       "      <td>Conservatives</td>\n",
       "      <td>4.233333</td>\n",
       "      <td>6.888889</td>\n",
       "    </tr>\n",
       "    <tr>\n",
       "      <th>277</th>\n",
       "      <td>Lega</td>\n",
       "      <td>Radical Right</td>\n",
       "      <td>7.733333</td>\n",
       "      <td>8.388889</td>\n",
       "    </tr>\n",
       "    <tr>\n",
       "      <th>279</th>\n",
       "      <td>FdI</td>\n",
       "      <td>Radical Right</td>\n",
       "      <td>7.377778</td>\n",
       "      <td>8.722222</td>\n",
       "    </tr>\n",
       "  </tbody>\n",
       "</table>\n",
       "</div>"
      ],
      "text/plain": [
       "    party_short       family_label  populism_mean  lroverall\n",
       "271          PD  Social Democratic       2.611111   4.166667\n",
       "273         M5S          No family       8.033333   3.470588\n",
       "275          FI      Conservatives       4.233333   6.888889\n",
       "277        Lega      Radical Right       7.733333   8.388889\n",
       "279         FdI      Radical Right       7.377778   8.722222"
      ]
     },
     "execution_count": 67,
     "metadata": {},
     "output_type": "execute_result"
    }
   ],
   "source": [
    "df_poppa"
   ]
  },
  {
   "cell_type": "code",
   "execution_count": null,
   "id": "400692a7",
   "metadata": {},
   "outputs": [],
   "source": []
  }
 ],
 "metadata": {
  "kernelspec": {
   "display_name": "Python 3 (ipykernel)",
   "language": "python",
   "name": "python3"
  },
  "language_info": {
   "codemirror_mode": {
    "name": "ipython",
    "version": 3
   },
   "file_extension": ".py",
   "mimetype": "text/x-python",
   "name": "python",
   "nbconvert_exporter": "python",
   "pygments_lexer": "ipython3",
   "version": "3.11.4"
  }
 },
 "nbformat": 4,
 "nbformat_minor": 5
}
