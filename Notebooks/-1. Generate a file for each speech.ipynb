{
 "cells": [
  {
   "cell_type": "code",
   "execution_count": 2,
   "id": "f8e4501a",
   "metadata": {},
   "outputs": [],
   "source": [
    "import pandas as pd"
   ]
  },
  {
   "cell_type": "code",
   "execution_count": 3,
   "id": "b0cc4169",
   "metadata": {},
   "outputs": [],
   "source": [
    "annotated_texts_pd = pd.read_csv(\"data/annotated_dataset/annotated_texts.csv\", sep=\",\", encoding=\"utf-8\")"
   ]
  },
  {
   "cell_type": "code",
   "execution_count": 11,
   "id": "d4de6d32",
   "metadata": {},
   "outputs": [],
   "source": [
    "text_ids = annotated_texts_pd[\"id\"]\n",
    "text_list = annotated_texts_pd[\"text\"]\n",
    "\n",
    "for ID, text in zip(text_ids, text_list):\n",
    "    out_file = f'separated_texts/{ID}.txt'\n",
    "    with open(out_file, mode='w', encoding=\"utf-8\") as f:\n",
    "            f.write(text)"
   ]
  },
  {
   "cell_type": "code",
   "execution_count": null,
   "id": "08ab0313",
   "metadata": {},
   "outputs": [],
   "source": []
  }
 ],
 "metadata": {
  "kernelspec": {
   "display_name": "Python 3 (ipykernel)",
   "language": "python",
   "name": "python3"
  },
  "language_info": {
   "codemirror_mode": {
    "name": "ipython",
    "version": 3
   },
   "file_extension": ".py",
   "mimetype": "text/x-python",
   "name": "python",
   "nbconvert_exporter": "python",
   "pygments_lexer": "ipython3",
   "version": "3.11.4"
  }
 },
 "nbformat": 4,
 "nbformat_minor": 5
}
