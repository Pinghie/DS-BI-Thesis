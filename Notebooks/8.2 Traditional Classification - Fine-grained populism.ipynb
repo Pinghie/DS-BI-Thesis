{
 "cells": [
  {
   "cell_type": "code",
   "execution_count": 14,
   "id": "ad739bf9",
   "metadata": {},
   "outputs": [],
   "source": [
    "import pandas as pd\n",
    "import numpy as np\n",
    "import lightgbm as lgb\n",
    "from lightgbm import LGBMClassifier\n",
    "from sklearn.model_selection import cross_val_score, GridSearchCV\n",
    "from sklearn.model_selection import cross_val_predict\n",
    "from sklearn.metrics import classification_report\n",
    "from sklearn.model_selection import cross_val_score\n",
    "import ast\n",
    "from sklearn.ensemble import RandomForestClassifier\n",
    "from sklearn.ensemble import AdaBoostClassifier\n",
    "from sklearn.ensemble import BaggingClassifier\n",
    "from sklearn.svm import SVC\n",
    "from statistics import mode"
   ]
  },
  {
   "cell_type": "code",
   "execution_count": 2,
   "id": "e0026f21",
   "metadata": {},
   "outputs": [],
   "source": [
    "annotated_texts_df = pd.read_csv(\"data/annotated_dataset/annotated_texts_repr.csv\", sep=\",\", encoding=\"utf-8\")"
   ]
  },
  {
   "cell_type": "code",
   "execution_count": 3,
   "id": "e0082a91",
   "metadata": {},
   "outputs": [
    {
     "data": {
      "text/html": [
       "<div>\n",
       "<style scoped>\n",
       "    .dataframe tbody tr th:only-of-type {\n",
       "        vertical-align: middle;\n",
       "    }\n",
       "\n",
       "    .dataframe tbody tr th {\n",
       "        vertical-align: top;\n",
       "    }\n",
       "\n",
       "    .dataframe thead th {\n",
       "        text-align: right;\n",
       "    }\n",
       "</style>\n",
       "<table border=\"1\" class=\"dataframe\">\n",
       "  <thead>\n",
       "    <tr style=\"text-align: right;\">\n",
       "      <th></th>\n",
       "      <th>id</th>\n",
       "      <th>text</th>\n",
       "      <th>pop_sum</th>\n",
       "      <th>manichean</th>\n",
       "      <th>peoplecentrism</th>\n",
       "      <th>antielitism</th>\n",
       "      <th>emotional</th>\n",
       "      <th>polarization</th>\n",
       "      <th>tfidf</th>\n",
       "      <th>doc_embedding</th>\n",
       "      <th>doc_embedding_pos</th>\n",
       "      <th>linguistic_profile</th>\n",
       "    </tr>\n",
       "  </thead>\n",
       "  <tbody>\n",
       "    <tr>\n",
       "      <th>0</th>\n",
       "      <td>ParlaMint-IT_2013-08-01-LEG17-Senato-sed-86.u153</td>\n",
       "      <td>PETROCELLI . Signor Presidente, senatrici e se...</td>\n",
       "      <td>4</td>\n",
       "      <td>1</td>\n",
       "      <td>1</td>\n",
       "      <td>1</td>\n",
       "      <td>1</td>\n",
       "      <td>1</td>\n",
       "      <td>[0.5361957907801886, 0.049413195954373046, 0.0...</td>\n",
       "      <td>[0.009776607354980394, 0.04375904489842546, -0...</td>\n",
       "      <td>[0.0025272382080579183, 0.002842237250819832, ...</td>\n",
       "      <td>[47.0, 1831.0, 38.95744680851064, 4.6773997569...</td>\n",
       "    </tr>\n",
       "  </tbody>\n",
       "</table>\n",
       "</div>"
      ],
      "text/plain": [
       "                                                 id  \\\n",
       "0  ParlaMint-IT_2013-08-01-LEG17-Senato-sed-86.u153   \n",
       "\n",
       "                                                text  pop_sum  manichean  \\\n",
       "0  PETROCELLI . Signor Presidente, senatrici e se...        4          1   \n",
       "\n",
       "   peoplecentrism  antielitism  emotional  polarization  \\\n",
       "0               1            1          1             1   \n",
       "\n",
       "                                               tfidf  \\\n",
       "0  [0.5361957907801886, 0.049413195954373046, 0.0...   \n",
       "\n",
       "                                       doc_embedding  \\\n",
       "0  [0.009776607354980394, 0.04375904489842546, -0...   \n",
       "\n",
       "                                   doc_embedding_pos  \\\n",
       "0  [0.0025272382080579183, 0.002842237250819832, ...   \n",
       "\n",
       "                                  linguistic_profile  \n",
       "0  [47.0, 1831.0, 38.95744680851064, 4.6773997569...  "
      ]
     },
     "execution_count": 3,
     "metadata": {},
     "output_type": "execute_result"
    }
   ],
   "source": [
    "annotated_texts_df.head(1)"
   ]
  },
  {
   "cell_type": "code",
   "execution_count": 4,
   "id": "9041a836",
   "metadata": {},
   "outputs": [],
   "source": [
    "x_docembedding = annotated_texts_df[\"doc_embedding\"]\n",
    "x_docembedding = np.array([ast.literal_eval(item) for item in x_docembedding])\n",
    "\n",
    "y_manichean = annotated_texts_df[\"manichean\"]\n",
    "y_peoplecentrism = annotated_texts_df[\"peoplecentrism\"]\n",
    "y_antielitism = annotated_texts_df[\"antielitism\"]\n",
    "y_emotional = annotated_texts_df[\"emotional\"]\n",
    "\n",
    "y_pop_sum = annotated_texts_df[\"pop_sum\"]"
   ]
  },
  {
   "cell_type": "code",
   "execution_count": null,
   "id": "73d19708",
   "metadata": {},
   "outputs": [],
   "source": []
  },
  {
   "cell_type": "code",
   "execution_count": 16,
   "id": "3d392847",
   "metadata": {},
   "outputs": [],
   "source": [
    "clf_lgbm = LGBMClassifier(random_state=8, verbose=-1)\n",
    "\n",
    "clf_rf = RandomForestClassifier(n_estimators=150, \n",
    "                             criterion='gini', \n",
    "                             max_depth=None, \n",
    "                             min_samples_split=2, \n",
    "                             min_samples_leaf=1, \n",
    "                             min_weight_fraction_leaf=0.0, \n",
    "                             max_features='sqrt', \n",
    "                             random_state=0, \n",
    "                             n_jobs=-1)\n",
    "\n",
    "clf_ada_rf = AdaBoostClassifier(estimator=RandomForestClassifier(n_estimators=100), n_estimators=100, random_state=0)\n",
    "\n",
    "clf_svc = SVC(gamma='auto', C=0.1, kernel='rbf', random_state=42)\n",
    "\n",
    "clf_bag = BaggingClassifier(estimator=None, n_estimators=100, random_state=0)"
   ]
  },
  {
   "cell_type": "code",
   "execution_count": 19,
   "id": "b018125e",
   "metadata": {
    "scrolled": false
   },
   "outputs": [
    {
     "name": "stdout",
     "output_type": "stream",
     "text": [
      "LGBMClassifier(random_state=8, verbose=-1)\n",
      "RandomForestClassifier(n_estimators=150, n_jobs=-1, random_state=0)\n",
      "AdaBoostClassifier(estimator=RandomForestClassifier(), n_estimators=100,\n",
      "                   random_state=0)\n",
      "SVC(C=0.1, gamma='auto', random_state=42)\n",
      "BaggingClassifier(n_estimators=100, random_state=0)\n",
      "LGBMClassifier(random_state=8, verbose=-1)\n",
      "RandomForestClassifier(n_estimators=150, n_jobs=-1, random_state=0)\n",
      "AdaBoostClassifier(estimator=RandomForestClassifier(), n_estimators=100,\n",
      "                   random_state=0)\n",
      "SVC(C=0.1, gamma='auto', random_state=42)\n",
      "BaggingClassifier(n_estimators=100, random_state=0)\n",
      "LGBMClassifier(random_state=8, verbose=-1)\n",
      "RandomForestClassifier(n_estimators=150, n_jobs=-1, random_state=0)\n",
      "AdaBoostClassifier(estimator=RandomForestClassifier(), n_estimators=100,\n",
      "                   random_state=0)\n",
      "SVC(C=0.1, gamma='auto', random_state=42)\n",
      "BaggingClassifier(n_estimators=100, random_state=0)\n",
      "LGBMClassifier(random_state=8, verbose=-1)\n",
      "RandomForestClassifier(n_estimators=150, n_jobs=-1, random_state=0)\n",
      "AdaBoostClassifier(estimator=RandomForestClassifier(), n_estimators=100,\n",
      "                   random_state=0)\n",
      "SVC(C=0.1, gamma='auto', random_state=42)\n",
      "BaggingClassifier(n_estimators=100, random_state=0)\n"
     ]
    },
    {
     "data": {
      "text/plain": [
       "[[array([1, 0, 1, ..., 0, 0, 1], dtype=int64),\n",
       "  array([1, 0, 1, ..., 0, 0, 1], dtype=int64),\n",
       "  array([1, 0, 1, ..., 0, 0, 1], dtype=int64),\n",
       "  array([0, 0, 0, ..., 0, 0, 0], dtype=int64),\n",
       "  array([1, 0, 1, ..., 0, 0, 1], dtype=int64)],\n",
       " [array([1, 0, 1, ..., 1, 0, 1], dtype=int64),\n",
       "  array([1, 0, 1, ..., 0, 0, 1], dtype=int64),\n",
       "  array([1, 0, 1, ..., 0, 0, 1], dtype=int64),\n",
       "  array([0, 0, 0, ..., 0, 0, 0], dtype=int64),\n",
       "  array([1, 0, 1, ..., 0, 0, 1], dtype=int64)],\n",
       " [array([1, 0, 1, ..., 0, 0, 1], dtype=int64),\n",
       "  array([1, 0, 1, ..., 0, 0, 1], dtype=int64),\n",
       "  array([1, 0, 1, ..., 0, 0, 1], dtype=int64),\n",
       "  array([0, 0, 0, ..., 0, 0, 0], dtype=int64),\n",
       "  array([1, 0, 1, ..., 0, 0, 1], dtype=int64)],\n",
       " [array([1, 1, 1, ..., 1, 1, 1], dtype=int64),\n",
       "  array([1, 1, 1, ..., 1, 1, 1], dtype=int64),\n",
       "  array([1, 1, 1, ..., 1, 1, 1], dtype=int64),\n",
       "  array([1, 1, 1, ..., 1, 1, 1], dtype=int64),\n",
       "  array([1, 1, 1, ..., 1, 1, 1], dtype=int64)]]"
      ]
     },
     "execution_count": 19,
     "metadata": {},
     "output_type": "execute_result"
    }
   ],
   "source": [
    "model_predictions = []\n",
    "predictions = []\n",
    "models = [clf_lgbm,clf_rf,clf_ada_rf,clf_svc,clf_bag]\n",
    "features = [y_manichean, y_peoplecentrism, y_antielitism, y_emotional]\n",
    "\n",
    "for feature in features:\n",
    "    for model in models:\n",
    "        print(model)\n",
    "        predictions.append(cross_val_predict(model, x_docembedding, feature, cv=5))\n",
    "    model_predictions.append(predictions)\n",
    "    predictions = []\n",
    "        \n",
    "model_predictions"
   ]
  },
  {
   "cell_type": "code",
   "execution_count": 20,
   "id": "ec92dfa2",
   "metadata": {},
   "outputs": [
    {
     "name": "stdout",
     "output_type": "stream",
     "text": [
      "              precision    recall  f1-score   support\n",
      "\n",
      "           0       0.72      0.69      0.71      3995\n",
      "           1       0.36      0.57      0.44      2371\n",
      "           2       0.18      0.15      0.16      1213\n",
      "           3       0.19      0.12      0.14       991\n",
      "           4       0.71      0.50      0.59      2270\n",
      "\n",
      "    accuracy                           0.51     10840\n",
      "   macro avg       0.43      0.41      0.41     10840\n",
      "weighted avg       0.53      0.51      0.51     10840\n",
      "\n"
     ]
    }
   ],
   "source": [
    "mode_list = []\n",
    "for lista in model_predictions:\n",
    "    mode_l = [mode(values) for values in zip(*lista)]\n",
    "    mode_list.append(mode_l)\n",
    "\n",
    "pop_sum_predictions = [sum(values) for values in zip(*mode_list)]\n",
    "\n",
    "print(classification_report(y_pop_sum, pop_sum_predictions))"
   ]
  },
  {
   "cell_type": "code",
   "execution_count": 29,
   "id": "d0d6bc93",
   "metadata": {},
   "outputs": [],
   "source": [
    "df = pd.DataFrame(model_predictions, columns=[\"lgbm\", \"rf\", \"ada_rf\", \"svc\", \"bag\"])\n",
    "df.to_csv(\"data/classifications/five_models_single_pol.csv\", index=False)"
   ]
  },
  {
   "cell_type": "code",
   "execution_count": 59,
   "id": "b51ae7e0",
   "metadata": {},
   "outputs": [
    {
     "data": {
      "text/plain": [
       "5"
      ]
     },
     "execution_count": 59,
     "metadata": {},
     "output_type": "execute_result"
    }
   ],
   "source": [
    "len(model_predictions[0])"
   ]
  },
  {
   "cell_type": "code",
   "execution_count": 61,
   "id": "53f419b3",
   "metadata": {},
   "outputs": [],
   "source": [
    "import csv\n",
    "\n",
    "with open('data/classifications/manichean_preds.csv', 'w', newline='') as f:\n",
    "    writer = csv.writer(f)\n",
    "    writer.writerows(model_predictions[0])\n",
    "    \n",
    "with open('data/classifications/peoplecentrism_preds.csv', 'w', newline='') as f:\n",
    "    writer = csv.writer(f)\n",
    "    writer.writerows(model_predictions[1])\n",
    "    \n",
    "with open('data/classifications/antielitism_preds.csv', 'w', newline='') as f:\n",
    "    writer = csv.writer(f)\n",
    "    writer.writerows(model_predictions[2])\n",
    "    \n",
    "with open('data/classifications/emotional_preds.csv', 'w', newline='') as f:\n",
    "    writer = csv.writer(f)\n",
    "    writer.writerows(model_predictions[3])"
   ]
  },
  {
   "cell_type": "code",
   "execution_count": 12,
   "id": "530ea941",
   "metadata": {},
   "outputs": [
    {
     "name": "stdout",
     "output_type": "stream",
     "text": [
      "0.8170664206642065\n",
      "              precision    recall  f1-score   support\n",
      "\n",
      "           0       0.90      0.84      0.87      8040\n",
      "           1       0.62      0.74      0.68      2800\n",
      "\n",
      "    accuracy                           0.82     10840\n",
      "   macro avg       0.76      0.79      0.77     10840\n",
      "weighted avg       0.83      0.82      0.82     10840\n",
      "\n",
      "0.8039667896678967\n",
      "              precision    recall  f1-score   support\n",
      "\n",
      "           0       0.91      0.83      0.87      8371\n",
      "           1       0.55      0.71      0.62      2469\n",
      "\n",
      "    accuracy                           0.80     10840\n",
      "   macro avg       0.73      0.77      0.75     10840\n",
      "weighted avg       0.83      0.80      0.81     10840\n",
      "\n",
      "0.8063653136531366\n",
      "              precision    recall  f1-score   support\n",
      "\n",
      "           0       0.88      0.83      0.85      7310\n",
      "           1       0.68      0.75      0.72      3530\n",
      "\n",
      "    accuracy                           0.81     10840\n",
      "   macro avg       0.78      0.79      0.79     10840\n",
      "weighted avg       0.81      0.81      0.81     10840\n",
      "\n",
      "0.7946494464944649\n",
      "              precision    recall  f1-score   support\n",
      "\n",
      "           0       0.72      0.76      0.74      4146\n",
      "           1       0.85      0.82      0.83      6694\n",
      "\n",
      "    accuracy                           0.79     10840\n",
      "   macro avg       0.78      0.79      0.78     10840\n",
      "weighted avg       0.80      0.79      0.80     10840\n",
      "\n"
     ]
    }
   ],
   "source": [
    "features = [y_manichean, y_peoplecentrism, y_antielitism, y_emotional]\n",
    "predictions = []\n",
    "for feature in features:\n",
    "    print(cross_val_score(LGBMClassifier(random_state=8, verbose=-1), x_docembedding, feature, cv=5).mean())\n",
    "    predict = cross_val_predict(LGBMClassifier(random_state=8, verbose=-1), x_docembedding, feature, cv=5)\n",
    "    print(classification_report(predict, feature))\n",
    "    "
   ]
  }
 ],
 "metadata": {
  "kernelspec": {
   "display_name": "Python 3 (ipykernel)",
   "language": "python",
   "name": "python3"
  },
  "language_info": {
   "codemirror_mode": {
    "name": "ipython",
    "version": 3
   },
   "file_extension": ".py",
   "mimetype": "text/x-python",
   "name": "python",
   "nbconvert_exporter": "python",
   "pygments_lexer": "ipython3",
   "version": "3.11.4"
  }
 },
 "nbformat": 4,
 "nbformat_minor": 5
}
